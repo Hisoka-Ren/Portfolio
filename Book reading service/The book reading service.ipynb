{
 "cells": [
  {
   "cell_type": "markdown",
   "metadata": {},
   "source": [
    "# Проект по SQL"
   ]
  },
  {
   "cell_type": "markdown",
   "metadata": {},
   "source": [
    "**Задача** \n",
    "\n",
    "Проанализировать базу данных сервиса для чтения книг по подписке.\n",
    "\n",
    "\n",
    "*Данные*:\n",
    "\n",
    "    - Таблица books. Содержит данные о книгах.\n",
    "    - Таблица authors. Содержит данные об авторах.\n",
    "    - Таблица publishers. Содержит данные об издательствах.\n",
    "    - Таблица ratings. Содержит данные о пользовательских оценках книг\n",
    "    - Таблица reviews. Содержит данные о пользовательских обзорах\n",
    "    "
   ]
  },
  {
   "cell_type": "markdown",
   "metadata": {},
   "source": [
    "*Схема данных*"
   ]
  },
  {
   "cell_type": "markdown",
   "metadata": {},
   "source": [
    "![Схема данных](https://pictures.s3.yandex.net/resources/scheme_1589269096.png)"
   ]
  },
  {
   "cell_type": "markdown",
   "metadata": {},
   "source": [
    "*Ход исследования*\n",
    "\n",
    "- Посчитаем, сколько книг вышло после 1 января 2000 года;\n",
    "- Для каждой книги посчитаем количество обзоров и среднюю оценку;\n",
    "- Определим издательство, которое выпустило наибольшее число книг толще 50 страниц;\n",
    "- Определим автора с самой высокой средней оценкой книг — учьтем только книги с 50 и более оценками;\n",
    "- Посчитаем среднее количество обзоров от пользователей, которые поставили больше 48 оценок."
   ]
  },
  {
   "cell_type": "markdown",
   "metadata": {},
   "source": [
    "## Информация о данных"
   ]
  },
  {
   "cell_type": "code",
   "execution_count": 1,
   "metadata": {},
   "outputs": [],
   "source": [
    "# импортируем библиотеки\n",
    "import pandas as pd\n",
    "from sqlalchemy import text, create_engine"
   ]
  },
  {
   "cell_type": "code",
   "execution_count": 2,
   "metadata": {
    "scrolled": true
   },
   "outputs": [
    {
     "data": {
      "text/html": [
       "<div>\n",
       "<style scoped>\n",
       "    .dataframe tbody tr th:only-of-type {\n",
       "        vertical-align: middle;\n",
       "    }\n",
       "\n",
       "    .dataframe tbody tr th {\n",
       "        vertical-align: top;\n",
       "    }\n",
       "\n",
       "    .dataframe thead th {\n",
       "        text-align: right;\n",
       "    }\n",
       "</style>\n",
       "<table border=\"1\" class=\"dataframe\">\n",
       "  <thead>\n",
       "    <tr style=\"text-align: right;\">\n",
       "      <th></th>\n",
       "      <th>book_id</th>\n",
       "      <th>author_id</th>\n",
       "      <th>title</th>\n",
       "      <th>num_pages</th>\n",
       "      <th>publication_date</th>\n",
       "      <th>publisher_id</th>\n",
       "    </tr>\n",
       "  </thead>\n",
       "  <tbody>\n",
       "    <tr>\n",
       "      <th>0</th>\n",
       "      <td>1</td>\n",
       "      <td>546</td>\n",
       "      <td>'Salem's Lot</td>\n",
       "      <td>594</td>\n",
       "      <td>2005-11-01</td>\n",
       "      <td>93</td>\n",
       "    </tr>\n",
       "    <tr>\n",
       "      <th>1</th>\n",
       "      <td>2</td>\n",
       "      <td>465</td>\n",
       "      <td>1 000 Places to See Before You Die</td>\n",
       "      <td>992</td>\n",
       "      <td>2003-05-22</td>\n",
       "      <td>336</td>\n",
       "    </tr>\n",
       "    <tr>\n",
       "      <th>2</th>\n",
       "      <td>3</td>\n",
       "      <td>407</td>\n",
       "      <td>13 Little Blue Envelopes (Little Blue Envelope...</td>\n",
       "      <td>322</td>\n",
       "      <td>2010-12-21</td>\n",
       "      <td>135</td>\n",
       "    </tr>\n",
       "    <tr>\n",
       "      <th>3</th>\n",
       "      <td>4</td>\n",
       "      <td>82</td>\n",
       "      <td>1491: New Revelations of the Americas Before C...</td>\n",
       "      <td>541</td>\n",
       "      <td>2006-10-10</td>\n",
       "      <td>309</td>\n",
       "    </tr>\n",
       "    <tr>\n",
       "      <th>4</th>\n",
       "      <td>5</td>\n",
       "      <td>125</td>\n",
       "      <td>1776</td>\n",
       "      <td>386</td>\n",
       "      <td>2006-07-04</td>\n",
       "      <td>268</td>\n",
       "    </tr>\n",
       "  </tbody>\n",
       "</table>\n",
       "</div>"
      ],
      "text/plain": [
       "   book_id  author_id                                              title  \\\n",
       "0        1        546                                       'Salem's Lot   \n",
       "1        2        465                 1 000 Places to See Before You Die   \n",
       "2        3        407  13 Little Blue Envelopes (Little Blue Envelope...   \n",
       "3        4         82  1491: New Revelations of the Americas Before C...   \n",
       "4        5        125                                               1776   \n",
       "\n",
       "   num_pages publication_date  publisher_id  \n",
       "0        594       2005-11-01            93  \n",
       "1        992       2003-05-22           336  \n",
       "2        322       2010-12-21           135  \n",
       "3        541       2006-10-10           309  \n",
       "4        386       2006-07-04           268  "
      ]
     },
     "execution_count": 2,
     "metadata": {},
     "output_type": "execute_result"
    }
   ],
   "source": [
    "# устанавливаем параметры\n",
    "db_config = {\n",
    "    'user': 'praktikum_student', # имя пользователя\n",
    "    'pwd': 'Sdf4$2;d-d30pp', # пароль\n",
    "    'host': 'rc1b-wcoijxj3yxfsf3fs.mdb.yandexcloud.net',\n",
    "    'port': 6432, # порт подключения\n",
    "    'db': 'data-analyst-final-project-db'\n",
    "    } # название базы данных\n",
    "connection_string = 'postgresql://{user}:{pwd}@{host}:{port}/{db}'.format(**db_config)\n",
    "\n",
    "# сохраняем коннектор\n",
    "engine = create_engine(connection_string, connect_args={'sslmode':'require'})\n",
    "\n",
    "# чтобы выполнить SQL-запрос, используем Pandas\n",
    "query = '''SELECT * FROM books LIMIT 5'''\n",
    "con=engine.connect()\n",
    "pd.io.sql.read_sql(sql=text(query), con = con)\n"
   ]
  },
  {
   "cell_type": "code",
   "execution_count": 3,
   "metadata": {},
   "outputs": [
    {
     "name": "stdout",
     "output_type": "stream",
     "text": [
      "Таблица - \"books\"\n"
     ]
    },
    {
     "data": {
      "text/html": [
       "<div>\n",
       "<style scoped>\n",
       "    .dataframe tbody tr th:only-of-type {\n",
       "        vertical-align: middle;\n",
       "    }\n",
       "\n",
       "    .dataframe tbody tr th {\n",
       "        vertical-align: top;\n",
       "    }\n",
       "\n",
       "    .dataframe thead th {\n",
       "        text-align: right;\n",
       "    }\n",
       "</style>\n",
       "<table border=\"1\" class=\"dataframe\">\n",
       "  <thead>\n",
       "    <tr style=\"text-align: right;\">\n",
       "      <th></th>\n",
       "      <th>book_id</th>\n",
       "      <th>author_id</th>\n",
       "      <th>title</th>\n",
       "      <th>num_pages</th>\n",
       "      <th>publication_date</th>\n",
       "      <th>publisher_id</th>\n",
       "    </tr>\n",
       "  </thead>\n",
       "  <tbody>\n",
       "    <tr>\n",
       "      <th>0</th>\n",
       "      <td>1</td>\n",
       "      <td>546</td>\n",
       "      <td>'Salem's Lot</td>\n",
       "      <td>594</td>\n",
       "      <td>2005-11-01</td>\n",
       "      <td>93</td>\n",
       "    </tr>\n",
       "    <tr>\n",
       "      <th>1</th>\n",
       "      <td>2</td>\n",
       "      <td>465</td>\n",
       "      <td>1 000 Places to See Before You Die</td>\n",
       "      <td>992</td>\n",
       "      <td>2003-05-22</td>\n",
       "      <td>336</td>\n",
       "    </tr>\n",
       "    <tr>\n",
       "      <th>2</th>\n",
       "      <td>3</td>\n",
       "      <td>407</td>\n",
       "      <td>13 Little Blue Envelopes (Little Blue Envelope...</td>\n",
       "      <td>322</td>\n",
       "      <td>2010-12-21</td>\n",
       "      <td>135</td>\n",
       "    </tr>\n",
       "    <tr>\n",
       "      <th>3</th>\n",
       "      <td>4</td>\n",
       "      <td>82</td>\n",
       "      <td>1491: New Revelations of the Americas Before C...</td>\n",
       "      <td>541</td>\n",
       "      <td>2006-10-10</td>\n",
       "      <td>309</td>\n",
       "    </tr>\n",
       "    <tr>\n",
       "      <th>4</th>\n",
       "      <td>5</td>\n",
       "      <td>125</td>\n",
       "      <td>1776</td>\n",
       "      <td>386</td>\n",
       "      <td>2006-07-04</td>\n",
       "      <td>268</td>\n",
       "    </tr>\n",
       "  </tbody>\n",
       "</table>\n",
       "</div>"
      ],
      "text/plain": [
       "   book_id  author_id                                              title  \\\n",
       "0        1        546                                       'Salem's Lot   \n",
       "1        2        465                 1 000 Places to See Before You Die   \n",
       "2        3        407  13 Little Blue Envelopes (Little Blue Envelope...   \n",
       "3        4         82  1491: New Revelations of the Americas Before C...   \n",
       "4        5        125                                               1776   \n",
       "\n",
       "   num_pages publication_date  publisher_id  \n",
       "0        594       2005-11-01            93  \n",
       "1        992       2003-05-22           336  \n",
       "2        322       2010-12-21           135  \n",
       "3        541       2006-10-10           309  \n",
       "4        386       2006-07-04           268  "
      ]
     },
     "metadata": {},
     "output_type": "display_data"
    },
    {
     "name": "stdout",
     "output_type": "stream",
     "text": [
      "\n",
      "\n",
      "Таблица - \"authors\"\n"
     ]
    },
    {
     "data": {
      "text/html": [
       "<div>\n",
       "<style scoped>\n",
       "    .dataframe tbody tr th:only-of-type {\n",
       "        vertical-align: middle;\n",
       "    }\n",
       "\n",
       "    .dataframe tbody tr th {\n",
       "        vertical-align: top;\n",
       "    }\n",
       "\n",
       "    .dataframe thead th {\n",
       "        text-align: right;\n",
       "    }\n",
       "</style>\n",
       "<table border=\"1\" class=\"dataframe\">\n",
       "  <thead>\n",
       "    <tr style=\"text-align: right;\">\n",
       "      <th></th>\n",
       "      <th>author_id</th>\n",
       "      <th>author</th>\n",
       "    </tr>\n",
       "  </thead>\n",
       "  <tbody>\n",
       "    <tr>\n",
       "      <th>0</th>\n",
       "      <td>1</td>\n",
       "      <td>A.S. Byatt</td>\n",
       "    </tr>\n",
       "    <tr>\n",
       "      <th>1</th>\n",
       "      <td>2</td>\n",
       "      <td>Aesop/Laura Harris/Laura Gibbs</td>\n",
       "    </tr>\n",
       "    <tr>\n",
       "      <th>2</th>\n",
       "      <td>3</td>\n",
       "      <td>Agatha Christie</td>\n",
       "    </tr>\n",
       "    <tr>\n",
       "      <th>3</th>\n",
       "      <td>4</td>\n",
       "      <td>Alan Brennert</td>\n",
       "    </tr>\n",
       "    <tr>\n",
       "      <th>4</th>\n",
       "      <td>5</td>\n",
       "      <td>Alan Moore/David   Lloyd</td>\n",
       "    </tr>\n",
       "  </tbody>\n",
       "</table>\n",
       "</div>"
      ],
      "text/plain": [
       "   author_id                          author\n",
       "0          1                      A.S. Byatt\n",
       "1          2  Aesop/Laura Harris/Laura Gibbs\n",
       "2          3                 Agatha Christie\n",
       "3          4                   Alan Brennert\n",
       "4          5        Alan Moore/David   Lloyd"
      ]
     },
     "metadata": {},
     "output_type": "display_data"
    },
    {
     "name": "stdout",
     "output_type": "stream",
     "text": [
      "\n",
      "\n",
      "Таблица - \"publishers\"\n"
     ]
    },
    {
     "data": {
      "text/html": [
       "<div>\n",
       "<style scoped>\n",
       "    .dataframe tbody tr th:only-of-type {\n",
       "        vertical-align: middle;\n",
       "    }\n",
       "\n",
       "    .dataframe tbody tr th {\n",
       "        vertical-align: top;\n",
       "    }\n",
       "\n",
       "    .dataframe thead th {\n",
       "        text-align: right;\n",
       "    }\n",
       "</style>\n",
       "<table border=\"1\" class=\"dataframe\">\n",
       "  <thead>\n",
       "    <tr style=\"text-align: right;\">\n",
       "      <th></th>\n",
       "      <th>publisher_id</th>\n",
       "      <th>publisher</th>\n",
       "    </tr>\n",
       "  </thead>\n",
       "  <tbody>\n",
       "    <tr>\n",
       "      <th>0</th>\n",
       "      <td>1</td>\n",
       "      <td>Ace</td>\n",
       "    </tr>\n",
       "    <tr>\n",
       "      <th>1</th>\n",
       "      <td>2</td>\n",
       "      <td>Ace Book</td>\n",
       "    </tr>\n",
       "    <tr>\n",
       "      <th>2</th>\n",
       "      <td>3</td>\n",
       "      <td>Ace Books</td>\n",
       "    </tr>\n",
       "    <tr>\n",
       "      <th>3</th>\n",
       "      <td>4</td>\n",
       "      <td>Ace Hardcover</td>\n",
       "    </tr>\n",
       "    <tr>\n",
       "      <th>4</th>\n",
       "      <td>5</td>\n",
       "      <td>Addison Wesley Publishing Company</td>\n",
       "    </tr>\n",
       "  </tbody>\n",
       "</table>\n",
       "</div>"
      ],
      "text/plain": [
       "   publisher_id                          publisher\n",
       "0             1                                Ace\n",
       "1             2                           Ace Book\n",
       "2             3                          Ace Books\n",
       "3             4                      Ace Hardcover\n",
       "4             5  Addison Wesley Publishing Company"
      ]
     },
     "metadata": {},
     "output_type": "display_data"
    },
    {
     "name": "stdout",
     "output_type": "stream",
     "text": [
      "\n",
      "\n",
      "Таблица - \"ratings\"\n"
     ]
    },
    {
     "data": {
      "text/html": [
       "<div>\n",
       "<style scoped>\n",
       "    .dataframe tbody tr th:only-of-type {\n",
       "        vertical-align: middle;\n",
       "    }\n",
       "\n",
       "    .dataframe tbody tr th {\n",
       "        vertical-align: top;\n",
       "    }\n",
       "\n",
       "    .dataframe thead th {\n",
       "        text-align: right;\n",
       "    }\n",
       "</style>\n",
       "<table border=\"1\" class=\"dataframe\">\n",
       "  <thead>\n",
       "    <tr style=\"text-align: right;\">\n",
       "      <th></th>\n",
       "      <th>rating_id</th>\n",
       "      <th>book_id</th>\n",
       "      <th>username</th>\n",
       "      <th>rating</th>\n",
       "    </tr>\n",
       "  </thead>\n",
       "  <tbody>\n",
       "    <tr>\n",
       "      <th>0</th>\n",
       "      <td>1</td>\n",
       "      <td>1</td>\n",
       "      <td>ryanfranco</td>\n",
       "      <td>4</td>\n",
       "    </tr>\n",
       "    <tr>\n",
       "      <th>1</th>\n",
       "      <td>2</td>\n",
       "      <td>1</td>\n",
       "      <td>grantpatricia</td>\n",
       "      <td>2</td>\n",
       "    </tr>\n",
       "    <tr>\n",
       "      <th>2</th>\n",
       "      <td>3</td>\n",
       "      <td>1</td>\n",
       "      <td>brandtandrea</td>\n",
       "      <td>5</td>\n",
       "    </tr>\n",
       "    <tr>\n",
       "      <th>3</th>\n",
       "      <td>4</td>\n",
       "      <td>2</td>\n",
       "      <td>lorichen</td>\n",
       "      <td>3</td>\n",
       "    </tr>\n",
       "    <tr>\n",
       "      <th>4</th>\n",
       "      <td>5</td>\n",
       "      <td>2</td>\n",
       "      <td>mariokeller</td>\n",
       "      <td>2</td>\n",
       "    </tr>\n",
       "  </tbody>\n",
       "</table>\n",
       "</div>"
      ],
      "text/plain": [
       "   rating_id  book_id       username  rating\n",
       "0          1        1     ryanfranco       4\n",
       "1          2        1  grantpatricia       2\n",
       "2          3        1   brandtandrea       5\n",
       "3          4        2       lorichen       3\n",
       "4          5        2    mariokeller       2"
      ]
     },
     "metadata": {},
     "output_type": "display_data"
    },
    {
     "name": "stdout",
     "output_type": "stream",
     "text": [
      "\n",
      "\n",
      "Таблица - \"reviews\"\n"
     ]
    },
    {
     "data": {
      "text/html": [
       "<div>\n",
       "<style scoped>\n",
       "    .dataframe tbody tr th:only-of-type {\n",
       "        vertical-align: middle;\n",
       "    }\n",
       "\n",
       "    .dataframe tbody tr th {\n",
       "        vertical-align: top;\n",
       "    }\n",
       "\n",
       "    .dataframe thead th {\n",
       "        text-align: right;\n",
       "    }\n",
       "</style>\n",
       "<table border=\"1\" class=\"dataframe\">\n",
       "  <thead>\n",
       "    <tr style=\"text-align: right;\">\n",
       "      <th></th>\n",
       "      <th>review_id</th>\n",
       "      <th>book_id</th>\n",
       "      <th>username</th>\n",
       "      <th>text</th>\n",
       "    </tr>\n",
       "  </thead>\n",
       "  <tbody>\n",
       "    <tr>\n",
       "      <th>0</th>\n",
       "      <td>1</td>\n",
       "      <td>1</td>\n",
       "      <td>brandtandrea</td>\n",
       "      <td>Mention society tell send professor analysis. ...</td>\n",
       "    </tr>\n",
       "    <tr>\n",
       "      <th>1</th>\n",
       "      <td>2</td>\n",
       "      <td>1</td>\n",
       "      <td>ryanfranco</td>\n",
       "      <td>Foot glass pretty audience hit themselves. Amo...</td>\n",
       "    </tr>\n",
       "    <tr>\n",
       "      <th>2</th>\n",
       "      <td>3</td>\n",
       "      <td>2</td>\n",
       "      <td>lorichen</td>\n",
       "      <td>Listen treat keep worry. Miss husband tax but ...</td>\n",
       "    </tr>\n",
       "    <tr>\n",
       "      <th>3</th>\n",
       "      <td>4</td>\n",
       "      <td>3</td>\n",
       "      <td>johnsonamanda</td>\n",
       "      <td>Finally month interesting blue could nature cu...</td>\n",
       "    </tr>\n",
       "    <tr>\n",
       "      <th>4</th>\n",
       "      <td>5</td>\n",
       "      <td>3</td>\n",
       "      <td>scotttamara</td>\n",
       "      <td>Nation purpose heavy give wait song will. List...</td>\n",
       "    </tr>\n",
       "  </tbody>\n",
       "</table>\n",
       "</div>"
      ],
      "text/plain": [
       "   review_id  book_id       username  \\\n",
       "0          1        1   brandtandrea   \n",
       "1          2        1     ryanfranco   \n",
       "2          3        2       lorichen   \n",
       "3          4        3  johnsonamanda   \n",
       "4          5        3    scotttamara   \n",
       "\n",
       "                                                text  \n",
       "0  Mention society tell send professor analysis. ...  \n",
       "1  Foot glass pretty audience hit themselves. Amo...  \n",
       "2  Listen treat keep worry. Miss husband tax but ...  \n",
       "3  Finally month interesting blue could nature cu...  \n",
       "4  Nation purpose heavy give wait song will. List...  "
      ]
     },
     "metadata": {},
     "output_type": "display_data"
    },
    {
     "name": "stdout",
     "output_type": "stream",
     "text": [
      "\n",
      "\n"
     ]
    }
   ],
   "source": [
    "# выведем первые строки таблиц\n",
    "\n",
    "for table in ['books', 'authors', 'publishers', 'ratings', 'reviews']:\n",
    "    query = ''' SELECT * FROM {}; '''.format(table)    \n",
    "\n",
    "    request = pd.io.sql.read_sql(query, con =  con) \n",
    "\n",
    "    print(f'Таблица - \"{table}\"')\n",
    "    display(request.head())\n",
    "    print('\\n')"
   ]
  },
  {
   "cell_type": "markdown",
   "metadata": {},
   "source": [
    "## Посчитаем, сколько книг вышло после 1 января 2000 года"
   ]
  },
  {
   "cell_type": "code",
   "execution_count": 4,
   "metadata": {
    "scrolled": false
   },
   "outputs": [
    {
     "data": {
      "text/html": [
       "<div>\n",
       "<style scoped>\n",
       "    .dataframe tbody tr th:only-of-type {\n",
       "        vertical-align: middle;\n",
       "    }\n",
       "\n",
       "    .dataframe tbody tr th {\n",
       "        vertical-align: top;\n",
       "    }\n",
       "\n",
       "    .dataframe thead th {\n",
       "        text-align: right;\n",
       "    }\n",
       "</style>\n",
       "<table border=\"1\" class=\"dataframe\">\n",
       "  <thead>\n",
       "    <tr style=\"text-align: right;\">\n",
       "      <th></th>\n",
       "      <th>count</th>\n",
       "    </tr>\n",
       "  </thead>\n",
       "  <tbody>\n",
       "    <tr>\n",
       "      <th>0</th>\n",
       "      <td>821</td>\n",
       "    </tr>\n",
       "  </tbody>\n",
       "</table>\n",
       "</div>"
      ],
      "text/plain": [
       "   count\n",
       "0    821"
      ]
     },
     "execution_count": 4,
     "metadata": {},
     "output_type": "execute_result"
    }
   ],
   "source": [
    "# создадим sql запрос\n",
    "query_book_cnt = '''\n",
    "\n",
    "SELECT COUNT(book_id) \n",
    "FROM books \n",
    "WHERE CAST(publication_date AS date) >= '2000-01-01';\n",
    "\n",
    "'''\n",
    "con=engine.connect()\n",
    "pd.io.sql.read_sql(query_book_cnt, con =  con) "
   ]
  },
  {
   "cell_type": "markdown",
   "metadata": {},
   "source": [
    "*Комментарий* После 1 января 2000 года вышла 821 книга."
   ]
  },
  {
   "cell_type": "markdown",
   "metadata": {},
   "source": [
    "## Для каждой книги посчитаем  количество обзоров и среднюю оценку"
   ]
  },
  {
   "cell_type": "code",
   "execution_count": 5,
   "metadata": {},
   "outputs": [
    {
     "data": {
      "text/html": [
       "<div>\n",
       "<style scoped>\n",
       "    .dataframe tbody tr th:only-of-type {\n",
       "        vertical-align: middle;\n",
       "    }\n",
       "\n",
       "    .dataframe tbody tr th {\n",
       "        vertical-align: top;\n",
       "    }\n",
       "\n",
       "    .dataframe thead th {\n",
       "        text-align: right;\n",
       "    }\n",
       "</style>\n",
       "<table border=\"1\" class=\"dataframe\">\n",
       "  <thead>\n",
       "    <tr style=\"text-align: right;\">\n",
       "      <th></th>\n",
       "      <th>title</th>\n",
       "      <th>book_id</th>\n",
       "      <th>count_review</th>\n",
       "      <th>mean_rating</th>\n",
       "    </tr>\n",
       "  </thead>\n",
       "  <tbody>\n",
       "    <tr>\n",
       "      <th>0</th>\n",
       "      <td>Twilight (Twilight  #1)</td>\n",
       "      <td>948</td>\n",
       "      <td>7</td>\n",
       "      <td>4.0</td>\n",
       "    </tr>\n",
       "    <tr>\n",
       "      <th>1</th>\n",
       "      <td>Water for Elephants</td>\n",
       "      <td>963</td>\n",
       "      <td>6</td>\n",
       "      <td>4.0</td>\n",
       "    </tr>\n",
       "    <tr>\n",
       "      <th>2</th>\n",
       "      <td>The Glass Castle</td>\n",
       "      <td>734</td>\n",
       "      <td>6</td>\n",
       "      <td>4.0</td>\n",
       "    </tr>\n",
       "    <tr>\n",
       "      <th>3</th>\n",
       "      <td>Harry Potter and the Prisoner of Azkaban (Harr...</td>\n",
       "      <td>302</td>\n",
       "      <td>6</td>\n",
       "      <td>4.0</td>\n",
       "    </tr>\n",
       "    <tr>\n",
       "      <th>4</th>\n",
       "      <td>The Curious Incident of the Dog in the Night-Time</td>\n",
       "      <td>695</td>\n",
       "      <td>6</td>\n",
       "      <td>4.0</td>\n",
       "    </tr>\n",
       "    <tr>\n",
       "      <th>...</th>\n",
       "      <td>...</td>\n",
       "      <td>...</td>\n",
       "      <td>...</td>\n",
       "      <td>...</td>\n",
       "    </tr>\n",
       "    <tr>\n",
       "      <th>995</th>\n",
       "      <td>Anne Rice's The Vampire Lestat: A Graphic Novel</td>\n",
       "      <td>83</td>\n",
       "      <td>0</td>\n",
       "      <td>4.0</td>\n",
       "    </tr>\n",
       "    <tr>\n",
       "      <th>996</th>\n",
       "      <td>The Natural Way to Draw</td>\n",
       "      <td>808</td>\n",
       "      <td>0</td>\n",
       "      <td>3.0</td>\n",
       "    </tr>\n",
       "    <tr>\n",
       "      <th>997</th>\n",
       "      <td>The Cat in the Hat and Other Dr. Seuss Favorites</td>\n",
       "      <td>672</td>\n",
       "      <td>0</td>\n",
       "      <td>5.0</td>\n",
       "    </tr>\n",
       "    <tr>\n",
       "      <th>998</th>\n",
       "      <td>Essential Tales and Poems</td>\n",
       "      <td>221</td>\n",
       "      <td>0</td>\n",
       "      <td>4.0</td>\n",
       "    </tr>\n",
       "    <tr>\n",
       "      <th>999</th>\n",
       "      <td>Disney's Beauty and the Beast (A Little Golden...</td>\n",
       "      <td>191</td>\n",
       "      <td>0</td>\n",
       "      <td>4.0</td>\n",
       "    </tr>\n",
       "  </tbody>\n",
       "</table>\n",
       "<p>1000 rows × 4 columns</p>\n",
       "</div>"
      ],
      "text/plain": [
       "                                                 title  book_id  count_review  \\\n",
       "0                              Twilight (Twilight  #1)      948             7   \n",
       "1                                  Water for Elephants      963             6   \n",
       "2                                     The Glass Castle      734             6   \n",
       "3    Harry Potter and the Prisoner of Azkaban (Harr...      302             6   \n",
       "4    The Curious Incident of the Dog in the Night-Time      695             6   \n",
       "..                                                 ...      ...           ...   \n",
       "995    Anne Rice's The Vampire Lestat: A Graphic Novel       83             0   \n",
       "996                            The Natural Way to Draw      808             0   \n",
       "997   The Cat in the Hat and Other Dr. Seuss Favorites      672             0   \n",
       "998                          Essential Tales and Poems      221             0   \n",
       "999  Disney's Beauty and the Beast (A Little Golden...      191             0   \n",
       "\n",
       "     mean_rating  \n",
       "0            4.0  \n",
       "1            4.0  \n",
       "2            4.0  \n",
       "3            4.0  \n",
       "4            4.0  \n",
       "..           ...  \n",
       "995          4.0  \n",
       "996          3.0  \n",
       "997          5.0  \n",
       "998          4.0  \n",
       "999          4.0  \n",
       "\n",
       "[1000 rows x 4 columns]"
      ]
     },
     "execution_count": 5,
     "metadata": {},
     "output_type": "execute_result"
    }
   ],
   "source": [
    "# создадим sql запрос\n",
    "query_rw_rt = '''\n",
    "\n",
    "SELECT b.title,\n",
    "       b.book_id,\n",
    "       COUNT(DISTINCT rw.review_id) AS count_review,\n",
    "       ROUND(AVG(rt.rating)) AS mean_rating\n",
    "FROM books AS b\n",
    "LEFT JOIN ratings AS rt ON b.book_id = rt.book_id\n",
    "LEFT JOIN reviews AS rw ON b.book_id = rw.book_id\n",
    "GROUP BY b.title, b.book_id\n",
    "ORDER BY count_review DESC;            \n",
    "\n",
    "'''\n",
    "con=engine.connect()\n",
    "pd.io.sql.read_sql(query_rw_rt, con =  con) "
   ]
  },
  {
   "cell_type": "markdown",
   "metadata": {},
   "source": [
    "*Комментарий* Посчитали для каждой книги количество обзоров и среднюю оценку. Количество обзоров варьируется от 7 до 0, средний рейтинг от 5 до 2."
   ]
  },
  {
   "cell_type": "markdown",
   "metadata": {},
   "source": [
    "## Определим издательство, которое выпустило наибольшее число книг толще 50 страниц"
   ]
  },
  {
   "cell_type": "code",
   "execution_count": 6,
   "metadata": {
    "scrolled": true
   },
   "outputs": [
    {
     "data": {
      "text/html": [
       "<div>\n",
       "<style scoped>\n",
       "    .dataframe tbody tr th:only-of-type {\n",
       "        vertical-align: middle;\n",
       "    }\n",
       "\n",
       "    .dataframe tbody tr th {\n",
       "        vertical-align: top;\n",
       "    }\n",
       "\n",
       "    .dataframe thead th {\n",
       "        text-align: right;\n",
       "    }\n",
       "</style>\n",
       "<table border=\"1\" class=\"dataframe\">\n",
       "  <thead>\n",
       "    <tr style=\"text-align: right;\">\n",
       "      <th></th>\n",
       "      <th>publisher</th>\n",
       "      <th>total_books</th>\n",
       "    </tr>\n",
       "  </thead>\n",
       "  <tbody>\n",
       "    <tr>\n",
       "      <th>0</th>\n",
       "      <td>Penguin Books</td>\n",
       "      <td>42</td>\n",
       "    </tr>\n",
       "  </tbody>\n",
       "</table>\n",
       "</div>"
      ],
      "text/plain": [
       "       publisher  total_books\n",
       "0  Penguin Books           42"
      ]
     },
     "execution_count": 6,
     "metadata": {},
     "output_type": "execute_result"
    }
   ],
   "source": [
    "# создадим sql запрос\n",
    "query_pb = '''\n",
    "\n",
    "SELECT p.publisher,\n",
    "       COUNT(book_id) AS total_books\n",
    "FROM books AS b\n",
    "LEFT JOIN publishers AS p ON b.publisher_id=p.publisher_id\n",
    "WHERE num_pages > 50\n",
    "GROUP BY p.publisher\n",
    "ORDER BY total_books DESC\n",
    "LIMIT 1;\n",
    "\n",
    "'''\n",
    "con=engine.connect()\n",
    "pd.io.sql.read_sql(query_pb, con =  con) "
   ]
  },
  {
   "cell_type": "markdown",
   "metadata": {},
   "source": [
    "*Комментарий* Издательство Penguin Books выпустило больше всего книг - 42 шт."
   ]
  },
  {
   "cell_type": "markdown",
   "metadata": {},
   "source": [
    "## Определим автора с самой высокой средней оценкой книг — учьтём только книги с 50 и более оценками"
   ]
  },
  {
   "cell_type": "code",
   "execution_count": 7,
   "metadata": {},
   "outputs": [
    {
     "data": {
      "text/html": [
       "<div>\n",
       "<style scoped>\n",
       "    .dataframe tbody tr th:only-of-type {\n",
       "        vertical-align: middle;\n",
       "    }\n",
       "\n",
       "    .dataframe tbody tr th {\n",
       "        vertical-align: top;\n",
       "    }\n",
       "\n",
       "    .dataframe thead th {\n",
       "        text-align: right;\n",
       "    }\n",
       "</style>\n",
       "<table border=\"1\" class=\"dataframe\">\n",
       "  <thead>\n",
       "    <tr style=\"text-align: right;\">\n",
       "      <th></th>\n",
       "      <th>author</th>\n",
       "      <th>mean_rating</th>\n",
       "    </tr>\n",
       "  </thead>\n",
       "  <tbody>\n",
       "    <tr>\n",
       "      <th>0</th>\n",
       "      <td>J.K. Rowling/Mary GrandPré</td>\n",
       "      <td>4.288462</td>\n",
       "    </tr>\n",
       "  </tbody>\n",
       "</table>\n",
       "</div>"
      ],
      "text/plain": [
       "                       author  mean_rating\n",
       "0  J.K. Rowling/Mary GrandPré     4.288462"
      ]
     },
     "execution_count": 7,
     "metadata": {},
     "output_type": "execute_result"
    }
   ],
   "source": [
    "# создадим sql запрос\n",
    "query_au_rt = '''\n",
    "\n",
    "SELECT a.author,\n",
    "       mean_rating\n",
    "FROM (SELECT b.author_id,\n",
    "             AVG(rating) AS mean_rating,\n",
    "             COUNT(rating_id)\n",
    "      FROM books AS b\n",
    "      LEFT JOIN ratings AS rt ON b.book_id=rt.book_id\n",
    "      GROUP BY b.author_id\n",
    "      HAVING COUNT(rating_id) > 50\n",
    "      ORDER BY COUNT(rating_id) DESC) AS rt\n",
    "LEFT JOIN authors AS a ON rt.author_id=a.author_id\n",
    "GROUP BY a.author, mean_rating\n",
    "ORDER BY mean_rating DESC\n",
    "LIMIT 1;\n",
    "\n",
    "\n",
    "'''\n",
    "con=engine.connect()\n",
    "pd.io.sql.read_sql(query_au_rt, con =  con) "
   ]
  },
  {
   "cell_type": "markdown",
   "metadata": {},
   "source": [
    "*Комментарий* Автор J.K. Rowling/Mary GrandPré имеет самую высокую среднюю оценку - 4.288"
   ]
  },
  {
   "cell_type": "markdown",
   "metadata": {},
   "source": [
    "## Посчитаем среднее количество обзоров от пользователей, которые поставили больше 48 оценок"
   ]
  },
  {
   "cell_type": "code",
   "execution_count": 8,
   "metadata": {},
   "outputs": [
    {
     "data": {
      "text/html": [
       "<div>\n",
       "<style scoped>\n",
       "    .dataframe tbody tr th:only-of-type {\n",
       "        vertical-align: middle;\n",
       "    }\n",
       "\n",
       "    .dataframe tbody tr th {\n",
       "        vertical-align: top;\n",
       "    }\n",
       "\n",
       "    .dataframe thead th {\n",
       "        text-align: right;\n",
       "    }\n",
       "</style>\n",
       "<table border=\"1\" class=\"dataframe\">\n",
       "  <thead>\n",
       "    <tr style=\"text-align: right;\">\n",
       "      <th></th>\n",
       "      <th>mean_review</th>\n",
       "    </tr>\n",
       "  </thead>\n",
       "  <tbody>\n",
       "    <tr>\n",
       "      <th>0</th>\n",
       "      <td>24.0</td>\n",
       "    </tr>\n",
       "  </tbody>\n",
       "</table>\n",
       "</div>"
      ],
      "text/plain": [
       "   mean_review\n",
       "0         24.0"
      ]
     },
     "execution_count": 8,
     "metadata": {},
     "output_type": "execute_result"
    }
   ],
   "source": [
    "# создадим sql запрос\n",
    "query_rw_us = '''\n",
    "\n",
    "SELECT AVG(rw.review_cnt) AS mean_review\n",
    "FROM (SELECT COUNT(review_id) AS review_cnt,\n",
    "             username\n",
    "      FROM reviews\n",
    "      WHERE username IN (SELECT username\n",
    "                         FROM ratings\n",
    "                         GROUP BY username\n",
    "                         HAVING COUNT(ratings) > 48)\n",
    "      GROUP BY username) AS rw;\n",
    "'''\n",
    "con=engine.connect()\n",
    "pd.io.sql.read_sql(query_rw_us, con =  con) "
   ]
  },
  {
   "cell_type": "markdown",
   "metadata": {},
   "source": [
    "*Комментарий* Среднее количество обзоров пользователей - 24."
   ]
  },
  {
   "cell_type": "markdown",
   "metadata": {},
   "source": [
    "## Вывод"
   ]
  },
  {
   "cell_type": "markdown",
   "metadata": {},
   "source": [
    "Во время исследования данных сервиса для чтения книг по подписке опиралась на 5 таблиц: books, authors, publishers, ratings, reviews. \n",
    "\n",
    "Итоги исследования\n",
    "\n",
    "    После 1 января 2000 года вышла 821 книга.\n",
    "    Посчитали для каждой книги количество обзоров и среднюю оценку. Количество обзоров варьируется от 7 до 0, средний рейтинг от 5 до 2.\n",
    "    Издательство Penguin Books выпустило больше всего книг - 42 шт.\n",
    "    Автор J.K. Rowling/Mary GrandPré имеет самую высокую среднюю оценку - 4.288\n",
    "    Среднее количество обзоров пользователей - 24.\n",
    "    \n"
   ]
  }
 ],
 "metadata": {
  "ExecuteTimeLog": [
   {
    "duration": 13877,
    "start_time": "2023-09-23T10:35:51.369Z"
   },
   {
    "duration": 78,
    "start_time": "2023-09-23T10:38:20.997Z"
   },
   {
    "duration": 88,
    "start_time": "2023-09-23T10:38:44.017Z"
   },
   {
    "duration": 75,
    "start_time": "2023-09-23T10:38:54.557Z"
   },
   {
    "duration": 71,
    "start_time": "2023-09-23T10:39:03.272Z"
   },
   {
    "duration": 114,
    "start_time": "2023-09-23T10:39:16.715Z"
   },
   {
    "duration": 74,
    "start_time": "2023-09-23T10:39:21.375Z"
   },
   {
    "duration": 98,
    "start_time": "2023-09-23T10:39:29.057Z"
   },
   {
    "duration": 91,
    "start_time": "2023-09-23T10:39:35.508Z"
   },
   {
    "duration": 112,
    "start_time": "2023-09-23T10:39:47.625Z"
   },
   {
    "duration": 68,
    "start_time": "2023-09-23T10:42:53.677Z"
   },
   {
    "duration": 77,
    "start_time": "2023-09-23T10:43:09.597Z"
   },
   {
    "duration": 2,
    "start_time": "2023-09-23T10:43:44.542Z"
   },
   {
    "duration": 68,
    "start_time": "2023-09-23T10:43:56.323Z"
   },
   {
    "duration": 94,
    "start_time": "2023-09-23T10:44:35.615Z"
   },
   {
    "duration": 87,
    "start_time": "2023-09-23T10:44:42.628Z"
   },
   {
    "duration": 90,
    "start_time": "2023-09-23T10:44:57.661Z"
   },
   {
    "duration": 48,
    "start_time": "2023-09-23T10:45:05.089Z"
   },
   {
    "duration": 69,
    "start_time": "2023-09-23T10:46:29.785Z"
   },
   {
    "duration": 3,
    "start_time": "2023-09-23T10:50:22.147Z"
   },
   {
    "duration": 12,
    "start_time": "2023-09-23T10:50:45.138Z"
   },
   {
    "duration": 16,
    "start_time": "2023-09-23T10:55:48.239Z"
   },
   {
    "duration": 13,
    "start_time": "2023-09-23T11:28:56.005Z"
   },
   {
    "duration": 13,
    "start_time": "2023-09-23T11:29:36.919Z"
   },
   {
    "duration": 106,
    "start_time": "2023-09-23T11:50:59.747Z"
   },
   {
    "duration": 31,
    "start_time": "2023-09-23T11:51:17.949Z"
   },
   {
    "duration": 15,
    "start_time": "2023-09-23T11:51:37.017Z"
   },
   {
    "duration": 22,
    "start_time": "2023-09-23T11:52:21.067Z"
   },
   {
    "duration": 18,
    "start_time": "2023-09-23T12:36:54.747Z"
   },
   {
    "duration": 32,
    "start_time": "2023-09-23T12:36:59.614Z"
   },
   {
    "duration": 32,
    "start_time": "2023-09-23T12:37:17.198Z"
   },
   {
    "duration": 23,
    "start_time": "2023-09-23T12:38:05.474Z"
   },
   {
    "duration": 29,
    "start_time": "2023-09-23T12:40:10.707Z"
   },
   {
    "duration": 60,
    "start_time": "2023-09-23T12:40:54.987Z"
   },
   {
    "duration": 40,
    "start_time": "2023-09-23T12:41:24.138Z"
   },
   {
    "duration": 37,
    "start_time": "2023-09-23T12:42:04.373Z"
   },
   {
    "duration": 46,
    "start_time": "2023-09-23T12:42:15.139Z"
   },
   {
    "duration": 51,
    "start_time": "2023-09-23T12:42:40.659Z"
   },
   {
    "duration": 21,
    "start_time": "2023-09-23T12:56:10.624Z"
   },
   {
    "duration": 32,
    "start_time": "2023-09-23T12:56:23.164Z"
   },
   {
    "duration": 15,
    "start_time": "2023-09-23T12:56:51.317Z"
   },
   {
    "duration": 17,
    "start_time": "2023-09-23T12:57:18.593Z"
   },
   {
    "duration": 13,
    "start_time": "2023-09-23T12:57:26.305Z"
   },
   {
    "duration": 18,
    "start_time": "2023-09-23T13:10:21.716Z"
   },
   {
    "duration": 44,
    "start_time": "2023-09-23T13:10:47.914Z"
   },
   {
    "duration": 13,
    "start_time": "2023-09-23T13:13:51.019Z"
   },
   {
    "duration": 23,
    "start_time": "2023-09-23T13:20:13.452Z"
   },
   {
    "duration": 21,
    "start_time": "2023-09-23T13:20:33.057Z"
   },
   {
    "duration": 102,
    "start_time": "2023-09-23T13:31:43.688Z"
   },
   {
    "duration": 83,
    "start_time": "2023-09-23T13:34:54.597Z"
   },
   {
    "duration": 31,
    "start_time": "2023-09-23T13:51:47.507Z"
   },
   {
    "duration": 30,
    "start_time": "2023-09-23T13:52:24.209Z"
   },
   {
    "duration": 42,
    "start_time": "2023-09-23T13:52:32.908Z"
   },
   {
    "duration": 54,
    "start_time": "2023-09-23T14:06:27.468Z"
   },
   {
    "duration": 30,
    "start_time": "2023-09-23T14:09:47.496Z"
   },
   {
    "duration": 28,
    "start_time": "2023-09-23T14:10:02.484Z"
   },
   {
    "duration": 54,
    "start_time": "2023-09-23T14:10:22.857Z"
   },
   {
    "duration": 34,
    "start_time": "2023-09-23T14:13:19.091Z"
   },
   {
    "duration": 10,
    "start_time": "2023-09-23T14:15:20.387Z"
   },
   {
    "duration": 11,
    "start_time": "2023-09-23T14:15:34.398Z"
   },
   {
    "duration": 39,
    "start_time": "2023-09-23T14:15:45.756Z"
   },
   {
    "duration": 15,
    "start_time": "2023-09-23T14:16:00.583Z"
   },
   {
    "duration": 32,
    "start_time": "2023-09-23T14:18:07.690Z"
   },
   {
    "duration": 12,
    "start_time": "2023-09-23T14:18:42.937Z"
   },
   {
    "duration": 22,
    "start_time": "2023-09-23T14:20:09.310Z"
   },
   {
    "duration": 18,
    "start_time": "2023-09-23T14:20:50.326Z"
   },
   {
    "duration": 36,
    "start_time": "2023-09-23T14:21:09.012Z"
   },
   {
    "duration": 31,
    "start_time": "2023-09-23T14:21:14.917Z"
   },
   {
    "duration": 17,
    "start_time": "2023-09-23T14:21:26.208Z"
   },
   {
    "duration": 22,
    "start_time": "2023-09-23T14:33:50.133Z"
   },
   {
    "duration": 56,
    "start_time": "2023-09-23T14:34:14.937Z"
   },
   {
    "duration": 42,
    "start_time": "2023-09-23T14:34:52.586Z"
   },
   {
    "duration": 58,
    "start_time": "2023-09-23T14:37:20.926Z"
   },
   {
    "duration": 26,
    "start_time": "2023-09-23T14:38:11.140Z"
   },
   {
    "duration": 26,
    "start_time": "2023-09-23T14:39:30.036Z"
   },
   {
    "duration": 53,
    "start_time": "2023-09-23T14:39:54.688Z"
   },
   {
    "duration": 78,
    "start_time": "2023-09-23T14:44:39.147Z"
   },
   {
    "duration": 32,
    "start_time": "2023-09-23T14:44:59.600Z"
   },
   {
    "duration": 3,
    "start_time": "2023-09-23T14:45:05.605Z"
   },
   {
    "duration": 51,
    "start_time": "2023-09-23T14:45:27.052Z"
   },
   {
    "duration": 10,
    "start_time": "2023-09-23T14:46:17.196Z"
   },
   {
    "duration": 4,
    "start_time": "2023-09-23T14:46:24.234Z"
   },
   {
    "duration": 2,
    "start_time": "2023-09-23T14:46:29.899Z"
   },
   {
    "duration": 28,
    "start_time": "2023-09-23T14:46:37.780Z"
   },
   {
    "duration": 3,
    "start_time": "2023-09-23T14:47:02.668Z"
   },
   {
    "duration": 3,
    "start_time": "2023-09-23T14:48:17.610Z"
   },
   {
    "duration": 64,
    "start_time": "2023-09-23T14:50:37.784Z"
   },
   {
    "duration": 12,
    "start_time": "2023-09-23T14:53:41.082Z"
   },
   {
    "duration": 11,
    "start_time": "2023-09-23T14:53:55.125Z"
   },
   {
    "duration": 439,
    "start_time": "2023-09-23T14:56:12.351Z"
   },
   {
    "duration": 47,
    "start_time": "2023-09-23T14:58:48.041Z"
   },
   {
    "duration": 47,
    "start_time": "2023-09-23T14:59:23.878Z"
   },
   {
    "duration": 49,
    "start_time": "2023-09-23T15:01:22.832Z"
   },
   {
    "duration": 63,
    "start_time": "2023-09-23T15:01:32.272Z"
   },
   {
    "duration": 113,
    "start_time": "2023-09-23T15:01:50.929Z"
   },
   {
    "duration": 44,
    "start_time": "2023-09-23T15:02:18.288Z"
   },
   {
    "duration": 46,
    "start_time": "2023-09-23T15:02:28.116Z"
   },
   {
    "duration": 38,
    "start_time": "2023-09-23T15:03:11.798Z"
   },
   {
    "duration": 62,
    "start_time": "2023-09-23T15:04:49.087Z"
   },
   {
    "duration": 32,
    "start_time": "2023-09-23T15:05:29.891Z"
   },
   {
    "duration": 41,
    "start_time": "2023-09-23T15:05:58.800Z"
   },
   {
    "duration": 20,
    "start_time": "2023-09-23T15:08:03.412Z"
   },
   {
    "duration": 55,
    "start_time": "2023-09-23T15:10:44.851Z"
   },
   {
    "duration": 17,
    "start_time": "2023-09-23T15:11:14.032Z"
   },
   {
    "duration": 49,
    "start_time": "2023-09-23T15:13:17.755Z"
   },
   {
    "duration": 253,
    "start_time": "2023-09-23T15:18:44.495Z"
   },
   {
    "duration": 196,
    "start_time": "2023-09-23T15:18:54.027Z"
   },
   {
    "duration": 187,
    "start_time": "2023-09-23T15:19:18.037Z"
   },
   {
    "duration": 178,
    "start_time": "2023-09-23T15:20:02.943Z"
   },
   {
    "duration": 355,
    "start_time": "2023-09-23T15:20:48.951Z"
   },
   {
    "duration": 52,
    "start_time": "2023-09-23T15:20:57.451Z"
   },
   {
    "duration": 61,
    "start_time": "2023-09-23T15:21:08.072Z"
   },
   {
    "duration": 158,
    "start_time": "2023-09-23T15:21:27.257Z"
   },
   {
    "duration": 33,
    "start_time": "2023-09-23T15:37:10.089Z"
   },
   {
    "duration": 31,
    "start_time": "2023-09-23T15:37:13.984Z"
   },
   {
    "duration": 249,
    "start_time": "2023-09-23T15:43:20.814Z"
   },
   {
    "duration": 376,
    "start_time": "2023-09-23T15:43:50.611Z"
   },
   {
    "duration": 30,
    "start_time": "2023-09-23T15:44:57.369Z"
   },
   {
    "duration": 182,
    "start_time": "2023-09-23T15:45:11.253Z"
   },
   {
    "duration": 154,
    "start_time": "2023-09-23T15:45:16.617Z"
   },
   {
    "duration": 65,
    "start_time": "2023-09-23T15:45:30.987Z"
   },
   {
    "duration": 209,
    "start_time": "2023-09-23T15:45:40.016Z"
   },
   {
    "duration": 74,
    "start_time": "2023-09-23T15:45:51.901Z"
   },
   {
    "duration": 12,
    "start_time": "2023-09-23T15:46:32.121Z"
   },
   {
    "duration": 56,
    "start_time": "2023-09-23T15:51:23.589Z"
   },
   {
    "duration": 35,
    "start_time": "2023-09-23T15:51:35.226Z"
   },
   {
    "duration": 110,
    "start_time": "2023-09-23T15:51:49.745Z"
   },
   {
    "duration": 66,
    "start_time": "2023-09-23T15:52:24.774Z"
   },
   {
    "duration": 59,
    "start_time": "2023-09-23T15:52:37.182Z"
   },
   {
    "duration": 33,
    "start_time": "2023-09-23T15:55:23.196Z"
   },
   {
    "duration": 596,
    "start_time": "2023-09-24T00:07:30.100Z"
   },
   {
    "duration": 23104,
    "start_time": "2023-09-24T00:07:30.698Z"
   },
   {
    "duration": 212,
    "start_time": "2023-09-24T00:07:53.804Z"
   },
   {
    "duration": 29,
    "start_time": "2023-09-24T00:07:54.018Z"
   },
   {
    "duration": 137,
    "start_time": "2023-09-24T00:07:54.049Z"
   },
   {
    "duration": 0,
    "start_time": "2023-09-24T00:07:54.188Z"
   },
   {
    "duration": 0,
    "start_time": "2023-09-24T00:07:54.190Z"
   },
   {
    "duration": 0,
    "start_time": "2023-09-24T00:07:54.191Z"
   },
   {
    "duration": 68,
    "start_time": "2023-09-24T07:34:08.116Z"
   },
   {
    "duration": 515,
    "start_time": "2023-09-24T07:34:32.667Z"
   },
   {
    "duration": 18962,
    "start_time": "2023-09-24T07:34:33.184Z"
   },
   {
    "duration": 265,
    "start_time": "2023-09-24T07:34:52.148Z"
   },
   {
    "duration": 29,
    "start_time": "2023-09-24T07:34:52.415Z"
   },
   {
    "duration": 52,
    "start_time": "2023-09-24T07:34:52.445Z"
   },
   {
    "duration": 76,
    "start_time": "2023-09-24T07:34:52.498Z"
   },
   {
    "duration": 0,
    "start_time": "2023-09-24T07:34:52.581Z"
   },
   {
    "duration": 0,
    "start_time": "2023-09-24T07:34:52.581Z"
   },
   {
    "duration": 35,
    "start_time": "2023-09-24T07:35:51.467Z"
   },
   {
    "duration": 34,
    "start_time": "2023-09-24T07:36:29.090Z"
   },
   {
    "duration": 42,
    "start_time": "2023-09-24T07:37:29.766Z"
   },
   {
    "duration": 499,
    "start_time": "2023-09-24T07:37:38.209Z"
   },
   {
    "duration": 14727,
    "start_time": "2023-09-24T07:37:38.709Z"
   },
   {
    "duration": 295,
    "start_time": "2023-09-24T07:37:53.438Z"
   },
   {
    "duration": 44,
    "start_time": "2023-09-24T07:37:53.735Z"
   },
   {
    "duration": 46,
    "start_time": "2023-09-24T07:37:53.781Z"
   },
   {
    "duration": 56,
    "start_time": "2023-09-24T07:37:53.829Z"
   },
   {
    "duration": 32,
    "start_time": "2023-09-24T07:37:53.886Z"
   },
   {
    "duration": 36,
    "start_time": "2023-09-24T07:37:53.919Z"
   },
   {
    "duration": 150,
    "start_time": "2023-09-24T07:41:06.592Z"
   },
   {
    "duration": 120,
    "start_time": "2023-09-24T07:41:12.036Z"
   },
   {
    "duration": 67,
    "start_time": "2023-09-24T07:41:17.755Z"
   },
   {
    "duration": 76,
    "start_time": "2023-09-24T07:41:23.738Z"
   },
   {
    "duration": 81,
    "start_time": "2023-09-24T07:41:29.707Z"
   },
   {
    "duration": 574,
    "start_time": "2023-09-24T07:41:37.030Z"
   },
   {
    "duration": 14415,
    "start_time": "2023-09-24T07:41:37.605Z"
   },
   {
    "duration": 287,
    "start_time": "2023-09-24T07:41:52.022Z"
   },
   {
    "duration": 173,
    "start_time": "2023-09-24T07:41:52.310Z"
   },
   {
    "duration": 69,
    "start_time": "2023-09-24T07:41:52.487Z"
   },
   {
    "duration": 65,
    "start_time": "2023-09-24T07:41:52.558Z"
   },
   {
    "duration": 69,
    "start_time": "2023-09-24T07:41:52.625Z"
   },
   {
    "duration": 55,
    "start_time": "2023-09-24T07:41:52.696Z"
   },
   {
    "duration": 564,
    "start_time": "2023-09-24T11:43:27.743Z"
   },
   {
    "duration": 10971,
    "start_time": "2023-09-24T11:43:28.309Z"
   },
   {
    "duration": 214,
    "start_time": "2023-09-24T11:43:39.281Z"
   },
   {
    "duration": 160,
    "start_time": "2023-09-24T11:43:39.497Z"
   },
   {
    "duration": 70,
    "start_time": "2023-09-24T11:43:39.660Z"
   },
   {
    "duration": 53,
    "start_time": "2023-09-24T11:43:39.733Z"
   },
   {
    "duration": 57,
    "start_time": "2023-09-24T11:43:39.788Z"
   },
   {
    "duration": 55,
    "start_time": "2023-09-24T11:43:39.847Z"
   }
  ],
  "kernelspec": {
   "display_name": "Python 3 (ipykernel)",
   "language": "python",
   "name": "python3"
  },
  "language_info": {
   "codemirror_mode": {
    "name": "ipython",
    "version": 3
   },
   "file_extension": ".py",
   "mimetype": "text/x-python",
   "name": "python",
   "nbconvert_exporter": "python",
   "pygments_lexer": "ipython3",
   "version": "3.11.3"
  },
  "toc": {
   "base_numbering": 1,
   "nav_menu": {},
   "number_sections": true,
   "sideBar": true,
   "skip_h1_title": true,
   "title_cell": "Table of Contents",
   "title_sidebar": "Contents",
   "toc_cell": false,
   "toc_position": {
    "height": "calc(100% - 180px)",
    "left": "10px",
    "top": "150px",
    "width": "306.497px"
   },
   "toc_section_display": true,
   "toc_window_display": true
  }
 },
 "nbformat": 4,
 "nbformat_minor": 2
}
