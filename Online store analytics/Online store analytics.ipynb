{
 "cells": [
  {
   "cell_type": "markdown",
   "metadata": {},
   "source": [
    "# Принятие решений в бизнесе."
   ]
  },
  {
   "cell_type": "markdown",
   "metadata": {},
   "source": [
    "Аналитик крупного интернет-магазина вместе с отделом маркетинга подготовили список гипотез для увеличения выручки. "
   ]
  },
  {
   "cell_type": "markdown",
   "metadata": {},
   "source": [
    "**Цель исследования:**\n",
    "- Приоритизируем гипотезы\n",
    "- Запустим A/B-тест\n",
    "- Проанализируем результаты"
   ]
  },
  {
   "cell_type": "markdown",
   "metadata": {},
   "source": [
    "**Ход исследования**"
   ]
  },
  {
   "cell_type": "markdown",
   "metadata": {},
   "source": [
    "Данные для первой части\n",
    "\n",
    "Файл /datasets/hypothesis.csv. \n",
    "\n",
    "    -\tHypothesis — краткое описание гипотезы;\n",
    "    -\tReach — охват пользователей по 10-балльной шкале;\n",
    "    -\tImpact — влияние на пользователей по 10-балльной шкале;\n",
    "    -\tConfidence — уверенность в гипотезе по 10-балльной шкале;\n",
    "    -\tEfforts — затраты ресурсов на проверку гипотезы по 10-балльной шкале. Чем больше значение Efforts, тем дороже проверка гипотезы.\n"
   ]
  },
  {
   "cell_type": "markdown",
   "metadata": {},
   "source": [
    "Проверяем гипотезы метриками ICE и RICE."
   ]
  },
  {
   "cell_type": "markdown",
   "metadata": {},
   "source": [
    "Данные для второй части\n",
    "\n",
    "Файл /datasets/orders.csv. \n",
    "\n",
    "    -\ttransactionId — идентификатор заказа;\n",
    "    -\tvisitorId — идентификатор пользователя, совершившего заказ;\n",
    "    -\tdate — дата, когда был совершён заказ;\n",
    "    -\trevenue — выручка заказа;\n",
    "    -\tgroup — группа A/B-теста, в которую попал заказ.\n",
    "\n",
    "Файл /datasets/visitors.csv.\n",
    "\n",
    "    -\tdate — дата;\n",
    "    -\tgroup — группа A/B-теста;\n",
    "    -\tvisitors — количество пользователей в указанную дату в указанной группе A/B-теста\n"
   ]
  },
  {
   "cell_type": "code",
   "execution_count": 1,
   "metadata": {},
   "outputs": [],
   "source": [
    "# импортируем библиотеки\n",
    "import pandas as pd\n",
    "import scipy.stats as stats\n",
    "import datetime as dt\n",
    "from scipy import stats as st\n",
    "import numpy as np\n",
    "import math as mth\n",
    "import matplotlib.pyplot as plt\n",
    "from pandas.plotting import register_matplotlib_converters\n",
    "# конвертеры, которые позволяют использовать типы pandas в matplotlib  \n",
    "register_matplotlib_converters()"
   ]
  },
  {
   "cell_type": "code",
   "execution_count": 2,
   "metadata": {},
   "outputs": [],
   "source": [
    "# прочтем файл и создадим датафрейм\n",
    "hypothesis = pd.read_csv('/datasets/hypothesis.csv', sep=',')\n",
    "orders = pd.read_csv('/datasets/orders.csv', sep=',')\n",
    "visitors = pd.read_csv('/datasets/visitors.csv', sep=',')"
   ]
  },
  {
   "cell_type": "markdown",
   "metadata": {},
   "source": [
    "## Приоритизация гипотез."
   ]
  },
  {
   "cell_type": "code",
   "execution_count": 3,
   "metadata": {
    "scrolled": true
   },
   "outputs": [
    {
     "name": "stdout",
     "output_type": "stream",
     "text": [
      "<class 'pandas.core.frame.DataFrame'>\n",
      "RangeIndex: 9 entries, 0 to 8\n",
      "Data columns (total 5 columns):\n",
      " #   Column      Non-Null Count  Dtype \n",
      "---  ------      --------------  ----- \n",
      " 0   Hypothesis  9 non-null      object\n",
      " 1   Reach       9 non-null      int64 \n",
      " 2   Impact      9 non-null      int64 \n",
      " 3   Confidence  9 non-null      int64 \n",
      " 4   Efforts     9 non-null      int64 \n",
      "dtypes: int64(4), object(1)\n",
      "memory usage: 492.0+ bytes\n"
     ]
    }
   ],
   "source": [
    " # посмотрим общую информацию о данных\n",
    "hypothesis.info()"
   ]
  },
  {
   "cell_type": "markdown",
   "metadata": {},
   "source": [
    "### Применим фреймворк ICE для приоритизации гипотез. Отсортируем их по убыванию приоритета."
   ]
  },
  {
   "cell_type": "code",
   "execution_count": 4,
   "metadata": {},
   "outputs": [],
   "source": [
    "# напишем код, чтобы отображались гипотезы полностью\n",
    "pd.options.display.max_colwidth = 100"
   ]
  },
  {
   "cell_type": "code",
   "execution_count": 5,
   "metadata": {
    "scrolled": true
   },
   "outputs": [
    {
     "data": {
      "text/html": [
       "<div>\n",
       "<style scoped>\n",
       "    .dataframe tbody tr th:only-of-type {\n",
       "        vertical-align: middle;\n",
       "    }\n",
       "\n",
       "    .dataframe tbody tr th {\n",
       "        vertical-align: top;\n",
       "    }\n",
       "\n",
       "    .dataframe thead th {\n",
       "        text-align: right;\n",
       "    }\n",
       "</style>\n",
       "<table border=\"1\" class=\"dataframe\">\n",
       "  <thead>\n",
       "    <tr style=\"text-align: right;\">\n",
       "      <th></th>\n",
       "      <th>Hypothesis</th>\n",
       "      <th>Reach</th>\n",
       "      <th>Impact</th>\n",
       "      <th>Confidence</th>\n",
       "      <th>Efforts</th>\n",
       "    </tr>\n",
       "  </thead>\n",
       "  <tbody>\n",
       "    <tr>\n",
       "      <th>0</th>\n",
       "      <td>Добавить два новых канала привлечения трафика, что позволит привлекать на 30% больше пользователей</td>\n",
       "      <td>3</td>\n",
       "      <td>10</td>\n",
       "      <td>8</td>\n",
       "      <td>6</td>\n",
       "    </tr>\n",
       "    <tr>\n",
       "      <th>1</th>\n",
       "      <td>Запустить собственную службу доставки, что сократит срок доставки заказов</td>\n",
       "      <td>2</td>\n",
       "      <td>5</td>\n",
       "      <td>4</td>\n",
       "      <td>10</td>\n",
       "    </tr>\n",
       "    <tr>\n",
       "      <th>2</th>\n",
       "      <td>Добавить блоки рекомендаций товаров на сайт интернет магазина, чтобы повысить конверсию и средни...</td>\n",
       "      <td>8</td>\n",
       "      <td>3</td>\n",
       "      <td>7</td>\n",
       "      <td>3</td>\n",
       "    </tr>\n",
       "    <tr>\n",
       "      <th>3</th>\n",
       "      <td>Изменить структура категорий, что увеличит конверсию, т.к. пользователи быстрее найдут нужный товар</td>\n",
       "      <td>8</td>\n",
       "      <td>3</td>\n",
       "      <td>3</td>\n",
       "      <td>8</td>\n",
       "    </tr>\n",
       "    <tr>\n",
       "      <th>4</th>\n",
       "      <td>Изменить цвет фона главной страницы, чтобы увеличить вовлеченность пользователей</td>\n",
       "      <td>3</td>\n",
       "      <td>1</td>\n",
       "      <td>1</td>\n",
       "      <td>1</td>\n",
       "    </tr>\n",
       "    <tr>\n",
       "      <th>5</th>\n",
       "      <td>Добавить страницу отзывов клиентов о магазине, что позволит увеличить количество заказов</td>\n",
       "      <td>3</td>\n",
       "      <td>2</td>\n",
       "      <td>2</td>\n",
       "      <td>3</td>\n",
       "    </tr>\n",
       "    <tr>\n",
       "      <th>6</th>\n",
       "      <td>Показать на главной странице баннеры с актуальными акциями и распродажами, чтобы увеличить конве...</td>\n",
       "      <td>5</td>\n",
       "      <td>3</td>\n",
       "      <td>8</td>\n",
       "      <td>3</td>\n",
       "    </tr>\n",
       "    <tr>\n",
       "      <th>7</th>\n",
       "      <td>Добавить форму подписки на все основные страницы, чтобы собрать базу клиентов для email-рассылок</td>\n",
       "      <td>10</td>\n",
       "      <td>7</td>\n",
       "      <td>8</td>\n",
       "      <td>5</td>\n",
       "    </tr>\n",
       "    <tr>\n",
       "      <th>8</th>\n",
       "      <td>Запустить акцию, дающую скидку на товар в день рождения</td>\n",
       "      <td>1</td>\n",
       "      <td>9</td>\n",
       "      <td>9</td>\n",
       "      <td>5</td>\n",
       "    </tr>\n",
       "  </tbody>\n",
       "</table>\n",
       "</div>"
      ],
      "text/plain": [
       "                                                                                            Hypothesis  \\\n",
       "0   Добавить два новых канала привлечения трафика, что позволит привлекать на 30% больше пользователей   \n",
       "1                            Запустить собственную службу доставки, что сократит срок доставки заказов   \n",
       "2  Добавить блоки рекомендаций товаров на сайт интернет магазина, чтобы повысить конверсию и средни...   \n",
       "3  Изменить структура категорий, что увеличит конверсию, т.к. пользователи быстрее найдут нужный товар   \n",
       "4                     Изменить цвет фона главной страницы, чтобы увеличить вовлеченность пользователей   \n",
       "5             Добавить страницу отзывов клиентов о магазине, что позволит увеличить количество заказов   \n",
       "6  Показать на главной странице баннеры с актуальными акциями и распродажами, чтобы увеличить конве...   \n",
       "7     Добавить форму подписки на все основные страницы, чтобы собрать базу клиентов для email-рассылок   \n",
       "8                                              Запустить акцию, дающую скидку на товар в день рождения   \n",
       "\n",
       "   Reach  Impact  Confidence  Efforts  \n",
       "0      3      10           8        6  \n",
       "1      2       5           4       10  \n",
       "2      8       3           7        3  \n",
       "3      8       3           3        8  \n",
       "4      3       1           1        1  \n",
       "5      3       2           2        3  \n",
       "6      5       3           8        3  \n",
       "7     10       7           8        5  \n",
       "8      1       9           9        5  "
      ]
     },
     "execution_count": 5,
     "metadata": {},
     "output_type": "execute_result"
    }
   ],
   "source": [
    "# посмотрим 9 гипотез по увеличению выручки интернет-магазина\n",
    "hypothesis.head(9) "
   ]
  },
  {
   "cell_type": "code",
   "execution_count": 6,
   "metadata": {},
   "outputs": [],
   "source": [
    "# переведем названия столбцов в нижний регистр\n",
    "hypothesis.columns = hypothesis.columns.str.lower() "
   ]
  },
  {
   "cell_type": "code",
   "execution_count": 7,
   "metadata": {},
   "outputs": [],
   "source": [
    "# применим формулу ICE\n",
    "hypothesis['ICE'] = (hypothesis['impact'] * hypothesis['confidence'])/ hypothesis['efforts']"
   ]
  },
  {
   "cell_type": "code",
   "execution_count": 8,
   "metadata": {
    "scrolled": false
   },
   "outputs": [
    {
     "name": "stdout",
     "output_type": "stream",
     "text": [
      "                                                                                            hypothesis  \\\n",
      "8                                              Запустить акцию, дающую скидку на товар в день рождения   \n",
      "0   Добавить два новых канала привлечения трафика, что позволит привлекать на 30% больше пользователей   \n",
      "7     Добавить форму подписки на все основные страницы, чтобы собрать базу клиентов для email-рассылок   \n",
      "6  Показать на главной странице баннеры с актуальными акциями и распродажами, чтобы увеличить конве...   \n",
      "2  Добавить блоки рекомендаций товаров на сайт интернет магазина, чтобы повысить конверсию и средни...   \n",
      "1                            Запустить собственную службу доставки, что сократит срок доставки заказов   \n",
      "5             Добавить страницу отзывов клиентов о магазине, что позволит увеличить количество заказов   \n",
      "3  Изменить структура категорий, что увеличит конверсию, т.к. пользователи быстрее найдут нужный товар   \n",
      "4                     Изменить цвет фона главной страницы, чтобы увеличить вовлеченность пользователей   \n",
      "\n",
      "     ICE  \n",
      "8  16.20  \n",
      "0  13.33  \n",
      "7  11.20  \n",
      "6   8.00  \n",
      "2   7.00  \n",
      "1   2.00  \n",
      "5   1.33  \n",
      "3   1.12  \n",
      "4   1.00  \n"
     ]
    }
   ],
   "source": [
    "# отсортируем гипотезы по ICE\n",
    "print(round(hypothesis[['hypothesis','ICE']], 2).sort_values('ICE', ascending=False))"
   ]
  },
  {
   "cell_type": "markdown",
   "metadata": {},
   "source": [
    "*Комментарий*\n",
    "    \n",
    "Наиболее перспективные гипотезы по ICE:\n",
    "+ Запустить акцию, дающую скидку на товар в день рождения\n",
    "+ Добавить два новых канала привлечения трафика, что позволит привлекать на 30% больше пользователей\n",
    "+ Добавить форму подписки на все основные страницы, чтобы собрать базу клиентов для email-рассылок\t\n",
    "+ Показать на главной странице баннеры с актуальными акциями и распродажами, чтобы увеличить конверсию\n",
    "+ Добавить блоки рекомендаций товаров на сайт интернет магазина, чтобы повысить конверсию и средний чек заказа\n"
   ]
  },
  {
   "cell_type": "markdown",
   "metadata": {},
   "source": [
    "### Применим фреймворк RICE для приоритизации гипотез. Отсортируем их по убыванию приоритета."
   ]
  },
  {
   "cell_type": "code",
   "execution_count": 9,
   "metadata": {},
   "outputs": [],
   "source": [
    "# применим формулу RICE\n",
    "hypothesis['RICE'] = (hypothesis['reach']* hypothesis['impact']* hypothesis['confidence']) / hypothesis['efforts'] "
   ]
  },
  {
   "cell_type": "code",
   "execution_count": 10,
   "metadata": {},
   "outputs": [
    {
     "name": "stdout",
     "output_type": "stream",
     "text": [
      "                                                                                            hypothesis  \\\n",
      "7     Добавить форму подписки на все основные страницы, чтобы собрать базу клиентов для email-рассылок   \n",
      "2  Добавить блоки рекомендаций товаров на сайт интернет магазина, чтобы повысить конверсию и средни...   \n",
      "0   Добавить два новых канала привлечения трафика, что позволит привлекать на 30% больше пользователей   \n",
      "6  Показать на главной странице баннеры с актуальными акциями и распродажами, чтобы увеличить конве...   \n",
      "8                                              Запустить акцию, дающую скидку на товар в день рождения   \n",
      "3  Изменить структура категорий, что увеличит конверсию, т.к. пользователи быстрее найдут нужный товар   \n",
      "1                            Запустить собственную службу доставки, что сократит срок доставки заказов   \n",
      "5             Добавить страницу отзывов клиентов о магазине, что позволит увеличить количество заказов   \n",
      "4                     Изменить цвет фона главной страницы, чтобы увеличить вовлеченность пользователей   \n",
      "\n",
      "    RICE  \n",
      "7  112.0  \n",
      "2   56.0  \n",
      "0   40.0  \n",
      "6   40.0  \n",
      "8   16.2  \n",
      "3    9.0  \n",
      "1    4.0  \n",
      "5    4.0  \n",
      "4    3.0  \n"
     ]
    }
   ],
   "source": [
    "# отсортируем гипотезы по RICE\n",
    "print(round(hypothesis[['hypothesis', 'RICE']], 2).sort_values('RICE', ascending=False))"
   ]
  },
  {
   "cell_type": "markdown",
   "metadata": {},
   "source": [
    "*Комментарий*\n",
    "\n",
    "Эффективными гипотезами по RICE будут:\n",
    "+ Добавить форму подписки на все основные страницы, чтобы собрать базу клиентов для email-рассылок\t\n",
    "+ Добавить блоки рекомендаций товаров на сайт интернет магазина, чтобы повысить конверсию и средний чек заказа\n",
    "+ Добавить два новых канала привлечения трафика, что позволит привлекать на 30% больше пользователей\n",
    "+ Показать на главной странице баннеры с актуальными акциями и распродажами, чтобы увеличить конверсию\n",
    "+ Запустить акцию, дающую скидку на товар в день рождения    \n"
   ]
  },
  {
   "cell_type": "markdown",
   "metadata": {},
   "source": [
    "### Укажем, как изменилась приоритизация гипотез при применении RICE вместо ICE. Объясним, почему так произошло."
   ]
  },
  {
   "cell_type": "markdown",
   "metadata": {},
   "source": [
    "При применении метрики RICE на первом месте оказалась гипотеза \"Добавить форму подписки на все основные страницы, чтобы собрать базу клиентов для email-рассылок\", потому что параметр reach у этой гипотезы больше остальных, и она охватывает больше пользователей. У метрики ICE на первом месте гипотеза \"Запустить акцию, дающую скидку на товар в день рождения\", но из-за того, что параметр reach у неё самый низкий, она сместилась на несколько позиций ниже. \n"
   ]
  },
  {
   "cell_type": "markdown",
   "metadata": {},
   "source": [
    "## Анализ A/B-теста."
   ]
  },
  {
   "cell_type": "code",
   "execution_count": 11,
   "metadata": {
    "scrolled": true
   },
   "outputs": [
    {
     "name": "stdout",
     "output_type": "stream",
     "text": [
      "<class 'pandas.core.frame.DataFrame'>\n",
      "RangeIndex: 1197 entries, 0 to 1196\n",
      "Data columns (total 5 columns):\n",
      " #   Column         Non-Null Count  Dtype \n",
      "---  ------         --------------  ----- \n",
      " 0   transactionId  1197 non-null   int64 \n",
      " 1   visitorId      1197 non-null   int64 \n",
      " 2   date           1197 non-null   object\n",
      " 3   revenue        1197 non-null   int64 \n",
      " 4   group          1197 non-null   object\n",
      "dtypes: int64(3), object(2)\n",
      "memory usage: 46.9+ KB\n"
     ]
    }
   ],
   "source": [
    "# рассмотрим датасет\n",
    "orders.info() "
   ]
  },
  {
   "cell_type": "code",
   "execution_count": 12,
   "metadata": {},
   "outputs": [],
   "source": [
    "# заменим тип даных\n",
    "orders['date'] = orders['date'].map(lambda x: dt.datetime.strptime(x, '%Y-%m-%d')) # заменим тип даных"
   ]
  },
  {
   "cell_type": "code",
   "execution_count": 13,
   "metadata": {
    "scrolled": true
   },
   "outputs": [
    {
     "data": {
      "text/plain": [
       "0"
      ]
     },
     "execution_count": 13,
     "metadata": {},
     "output_type": "execute_result"
    }
   ],
   "source": [
    "# проверим наличие полных дубликатов\n",
    "orders.duplicated().sum()"
   ]
  },
  {
   "cell_type": "code",
   "execution_count": 14,
   "metadata": {
    "scrolled": true
   },
   "outputs": [
    {
     "data": {
      "text/plain": [
       "166"
      ]
     },
     "execution_count": 14,
     "metadata": {},
     "output_type": "execute_result"
    }
   ],
   "source": [
    "# проверим наличие дубликатов с visitorId\n",
    "orders['visitorId'].duplicated().sum()"
   ]
  },
  {
   "cell_type": "code",
   "execution_count": 15,
   "metadata": {},
   "outputs": [
    {
     "data": {
      "text/plain": [
       "1031"
      ]
     },
     "execution_count": 15,
     "metadata": {},
     "output_type": "execute_result"
    }
   ],
   "source": [
    "# проверим количество уникальных пользователе\n",
    "orders['visitorId'].nunique()"
   ]
  },
  {
   "cell_type": "code",
   "execution_count": 16,
   "metadata": {},
   "outputs": [
    {
     "data": {
      "text/plain": [
       "(1197, 5)"
      ]
     },
     "execution_count": 16,
     "metadata": {},
     "output_type": "execute_result"
    }
   ],
   "source": [
    "orders.shape"
   ]
  },
  {
   "cell_type": "code",
   "execution_count": 17,
   "metadata": {
    "scrolled": true
   },
   "outputs": [
    {
     "data": {
      "text/plain": [
       "group    58\n",
       "dtype: int64"
      ]
     },
     "execution_count": 17,
     "metadata": {},
     "output_type": "execute_result"
    }
   ],
   "source": [
    "# найдем пользователей, которые попали в две группы\n",
    "orders.groupby('visitorId').agg({'group' : 'nunique'}).query('group > 1').count()"
   ]
  },
  {
   "cell_type": "markdown",
   "metadata": {},
   "source": [
    "*Комментарий*\n",
    "При таких довольно небольших пересечениях оставляем этих пользователей как есть.\n"
   ]
  },
  {
   "cell_type": "code",
   "execution_count": 18,
   "metadata": {
    "scrolled": false
   },
   "outputs": [
    {
     "name": "stdout",
     "output_type": "stream",
     "text": [
      "<class 'pandas.core.frame.DataFrame'>\n",
      "RangeIndex: 62 entries, 0 to 61\n",
      "Data columns (total 3 columns):\n",
      " #   Column    Non-Null Count  Dtype \n",
      "---  ------    --------------  ----- \n",
      " 0   date      62 non-null     object\n",
      " 1   group     62 non-null     object\n",
      " 2   visitors  62 non-null     int64 \n",
      "dtypes: int64(1), object(2)\n",
      "memory usage: 1.6+ KB\n"
     ]
    }
   ],
   "source": [
    "# рассмотрим датасет\n",
    "visitors.info() "
   ]
  },
  {
   "cell_type": "code",
   "execution_count": 19,
   "metadata": {},
   "outputs": [],
   "source": [
    "# заменим тип даных\n",
    "visitors['date'] = visitors['date'].map(lambda x: dt.datetime.strptime(x, '%Y-%m-%d')) "
   ]
  },
  {
   "cell_type": "code",
   "execution_count": 20,
   "metadata": {},
   "outputs": [
    {
     "data": {
      "text/plain": [
       "0"
      ]
     },
     "execution_count": 20,
     "metadata": {},
     "output_type": "execute_result"
    }
   ],
   "source": [
    "# проверим наличие полных дубликатов\n",
    "visitors.duplicated().sum()"
   ]
  },
  {
   "cell_type": "markdown",
   "metadata": {},
   "source": [
    "*Комментарий* Данные просмотрели и изменили тип данных у столбцов с датами."
   ]
  },
  {
   "cell_type": "markdown",
   "metadata": {},
   "source": [
    "### Построим график кумулятивной выручки по группам. Сделаем выводы и предположения."
   ]
  },
  {
   "cell_type": "code",
   "execution_count": 21,
   "metadata": {},
   "outputs": [],
   "source": [
    "# определяем уникальные значения дат и групп\n",
    "ordersdtgr = orders[['date', 'group']].drop_duplicates() "
   ]
  },
  {
   "cell_type": "code",
   "execution_count": 22,
   "metadata": {},
   "outputs": [],
   "source": [
    "# кумулятивные показатели из orders\n",
    "ordersaggregated = ordersdtgr.apply(\n",
    "    lambda x: orders[\n",
    "        np.logical_and(\n",
    "            orders['date'] <= x['date'], orders['group'] == x['group']\n",
    "        )\n",
    "    ].agg({'date': 'max','group': 'max','transactionId': 'nunique','visitorId': 'nunique','revenue': 'sum'}),\n",
    "    axis=1,\n",
    ").sort_values(by=['date', 'group'])"
   ]
  },
  {
   "cell_type": "code",
   "execution_count": 23,
   "metadata": {},
   "outputs": [],
   "source": [
    "# кумулятивные показатели из visitors\n",
    "visitorsaggregated = ordersdtgr.apply(\n",
    "    lambda x: visitors[\n",
    "        np.logical_and(\n",
    "        visitors['date'] <= x['date'], visitors['group'] == x['group']\n",
    "        )\n",
    "    ].agg({'date': 'max','group': 'max', 'visitors': 'sum'}),\n",
    "    axis=1,\n",
    ").sort_values(by=['date', 'group'])"
   ]
  },
  {
   "cell_type": "code",
   "execution_count": 24,
   "metadata": {},
   "outputs": [],
   "source": [
    "# соединяем данные в таблицу\n",
    "cumulative_date = ordersaggregated.merge(visitorsaggregated, left_on=['date', 'group'], right_on=['date', 'group'])"
   ]
  },
  {
   "cell_type": "code",
   "execution_count": 25,
   "metadata": {
    "scrolled": true
   },
   "outputs": [
    {
     "data": {
      "text/html": [
       "<div>\n",
       "<style scoped>\n",
       "    .dataframe tbody tr th:only-of-type {\n",
       "        vertical-align: middle;\n",
       "    }\n",
       "\n",
       "    .dataframe tbody tr th {\n",
       "        vertical-align: top;\n",
       "    }\n",
       "\n",
       "    .dataframe thead th {\n",
       "        text-align: right;\n",
       "    }\n",
       "</style>\n",
       "<table border=\"1\" class=\"dataframe\">\n",
       "  <thead>\n",
       "    <tr style=\"text-align: right;\">\n",
       "      <th></th>\n",
       "      <th>date</th>\n",
       "      <th>group</th>\n",
       "      <th>transactionId</th>\n",
       "      <th>visitorId</th>\n",
       "      <th>revenue</th>\n",
       "      <th>visitors</th>\n",
       "    </tr>\n",
       "  </thead>\n",
       "  <tbody>\n",
       "    <tr>\n",
       "      <th>0</th>\n",
       "      <td>2019-08-01</td>\n",
       "      <td>A</td>\n",
       "      <td>24</td>\n",
       "      <td>20</td>\n",
       "      <td>148579</td>\n",
       "      <td>719</td>\n",
       "    </tr>\n",
       "    <tr>\n",
       "      <th>1</th>\n",
       "      <td>2019-08-01</td>\n",
       "      <td>B</td>\n",
       "      <td>21</td>\n",
       "      <td>20</td>\n",
       "      <td>101217</td>\n",
       "      <td>713</td>\n",
       "    </tr>\n",
       "    <tr>\n",
       "      <th>2</th>\n",
       "      <td>2019-08-02</td>\n",
       "      <td>A</td>\n",
       "      <td>44</td>\n",
       "      <td>38</td>\n",
       "      <td>242401</td>\n",
       "      <td>1338</td>\n",
       "    </tr>\n",
       "    <tr>\n",
       "      <th>3</th>\n",
       "      <td>2019-08-02</td>\n",
       "      <td>B</td>\n",
       "      <td>45</td>\n",
       "      <td>43</td>\n",
       "      <td>266748</td>\n",
       "      <td>1294</td>\n",
       "    </tr>\n",
       "    <tr>\n",
       "      <th>4</th>\n",
       "      <td>2019-08-03</td>\n",
       "      <td>A</td>\n",
       "      <td>68</td>\n",
       "      <td>62</td>\n",
       "      <td>354874</td>\n",
       "      <td>1845</td>\n",
       "    </tr>\n",
       "  </tbody>\n",
       "</table>\n",
       "</div>"
      ],
      "text/plain": [
       "        date group  transactionId  visitorId  revenue  visitors\n",
       "0 2019-08-01     A             24         20   148579       719\n",
       "1 2019-08-01     B             21         20   101217       713\n",
       "2 2019-08-02     A             44         38   242401      1338\n",
       "3 2019-08-02     B             45         43   266748      1294\n",
       "4 2019-08-03     A             68         62   354874      1845"
      ]
     },
     "execution_count": 25,
     "metadata": {},
     "output_type": "execute_result"
    }
   ],
   "source": [
    "cumulative_date.head()"
   ]
  },
  {
   "cell_type": "code",
   "execution_count": 26,
   "metadata": {},
   "outputs": [],
   "source": [
    "# переименуем столбцы\n",
    "cumulative_date.columns = [ 'date','group','orders','buyers','revenue','visitors']"
   ]
  },
  {
   "cell_type": "code",
   "execution_count": 27,
   "metadata": {},
   "outputs": [],
   "source": [
    "# сформируем группу А\n",
    "cumulative_revenueA = cumulative_date[cumulative_date['group'] == 'A'][['date', 'revenue', 'orders']]"
   ]
  },
  {
   "cell_type": "code",
   "execution_count": 28,
   "metadata": {},
   "outputs": [],
   "source": [
    "# сформируем группу Б\n",
    "cumulative_revenueB = cumulative_date[cumulative_date['group'] == 'B'][['date', 'revenue', 'orders']]"
   ]
  },
  {
   "cell_type": "code",
   "execution_count": 76,
   "metadata": {},
   "outputs": [
    {
     "data": {
      "image/png": "[encoded data removed]",
      "text/plain": [
       "<Figure size 1400x600 with 1 Axes>"
      ]
     },
     "metadata": {},
     "output_type": "display_data"
    }
   ],
   "source": [
    "#  построим график кумулятивной выручки по группам\n",
    "plt.figure(figsize=(14,6))\n",
    "plt.plot(cumulative_revenueA['date'], cumulative_revenueA['revenue'], label='A')\n",
    "plt.plot(cumulative_revenueB['date'], cumulative_revenueB['revenue'], label='B')\n",
    "plt.grid(True)\n",
    "plt.ylabel('Выручка')\n",
    "plt.xlabel('Дата')\n",
    "plt.title('График кумулятивной выручки по группам A/B')\n",
    "plt.legend()\n",
    "plt.show();"
   ]
  },
  {
   "cell_type": "markdown",
   "metadata": {},
   "source": [
    "*Комментарий*\n",
    "\n",
    "Куммулятивная выручка в двух группах растет. Группа В показывает лучшие результаты в течении всего теста. \n",
    "Примерно с 17 августа 2019 г. резкий рост выручки, это может быть связанно с сезонностью и увеличением заказов, либо там присутствуют дорогостиящие заказы. \n"
   ]
  },
  {
   "cell_type": "markdown",
   "metadata": {},
   "source": [
    "### Построим график кумулятивного среднего чека по группам. Сделаем выводы и предположения."
   ]
  },
  {
   "cell_type": "code",
   "execution_count": 75,
   "metadata": {},
   "outputs": [
    {
     "data": {
      "image/png": "[encoded data removed]",
      "text/plain": [
       "<Figure size 1400x600 with 1 Axes>"
      ]
     },
     "metadata": {},
     "output_type": "display_data"
    }
   ],
   "source": [
    "# построим график кумулятивного среднего чека по группам\n",
    "plt.figure(figsize=(14,6))\n",
    "plt.plot(cumulative_revenueA['date'], cumulative_revenueA['revenue']/ cumulative_revenueA['orders'], label='A')\n",
    "plt.plot(cumulative_revenueB['date'], cumulative_revenueB['revenue']/cumulative_revenueB['orders'], label='B')\n",
    "plt.grid(True)\n",
    "plt.ylabel('Средний чек')\n",
    "plt.xlabel('Дата')\n",
    "plt.title('График кумулятивного среднего чека по группам A/B')\n",
    "plt.legend()\n",
    "plt.show();"
   ]
  },
  {
   "cell_type": "markdown",
   "metadata": {},
   "source": [
    "*Комментарий*\n",
    "\n",
    "По среднему чеку можем видеть, что чек В выше, после 17 августа произошел резкий рост в группе В.  Возможно там были дорогостоящие заказы."
   ]
  },
  {
   "cell_type": "markdown",
   "metadata": {},
   "source": [
    "### Построим график относительного изменения кумулятивного среднего чека группы B к группе A. Сделаем выводы и предположения."
   ]
  },
  {
   "cell_type": "code",
   "execution_count": 31,
   "metadata": {},
   "outputs": [],
   "source": [
    "# соединим таблицы\n",
    "mergecumulative_revenue = cumulative_revenueA\\\n",
    ".merge(cumulative_revenueB, left_on='date', right_on='date', how='left', suffixes=['A', 'B'])"
   ]
  },
  {
   "cell_type": "code",
   "execution_count": 73,
   "metadata": {},
   "outputs": [
    {
     "data": {
      "image/png": "[encoded data removed]",
      "text/plain": [
       "<Figure size 1400x600 with 1 Axes>"
      ]
     },
     "metadata": {},
     "output_type": "display_data"
    }
   ],
   "source": [
    "# построим график относительного изменения кумулятивного среднего чека группы B к группе A\n",
    "plt.figure(figsize=(14,6))\n",
    "plt.plot(mergecumulative_revenue['date'], (mergecumulative_revenue['revenueB']/ mergecumulative_revenue['ordersB'])\n",
    "         / (mergecumulative_revenue['revenueA']/ mergecumulative_revenue['ordersA']) - 1)\n",
    "plt.axhline(y=0, color='black', linestyle='--')\n",
    "plt.grid(True)\n",
    "plt.xlabel('Дата')\n",
    "plt.ylabel('Отклонение')\n",
    "plt.title('График относительного изменения кумулятивного среднего чека группы B к группе A')\n",
    "plt.show();"
   ]
  },
  {
   "cell_type": "markdown",
   "metadata": {},
   "source": [
    "*Комментарий*\n",
    "\n",
    "В графике видны скачки с максимальным просиданием 13 августа и резким подъемом после 17 августа. Вероятно резкий рост после 17 августа связан с выбросом, наличие аномалий. "
   ]
  },
  {
   "cell_type": "markdown",
   "metadata": {},
   "source": [
    "### Построим график кумулятивного среднего количества заказов на посетителя по группам. Сделаем выводы и предположения."
   ]
  },
  {
   "cell_type": "code",
   "execution_count": 33,
   "metadata": {},
   "outputs": [],
   "source": [
    "# найдем конверсию\n",
    "cumulative_date['conversion'] = cumulative_date['orders']/cumulative_date['visitors']"
   ]
  },
  {
   "cell_type": "code",
   "execution_count": 34,
   "metadata": {},
   "outputs": [],
   "source": [
    "# сформируем группу А\n",
    "cumulative_dateA = cumulative_date[cumulative_date['group'] == 'A']"
   ]
  },
  {
   "cell_type": "code",
   "execution_count": 35,
   "metadata": {},
   "outputs": [],
   "source": [
    "# сформируем группу Б\n",
    "cumulative_dateB = cumulative_date[cumulative_date['group'] == 'B']"
   ]
  },
  {
   "cell_type": "code",
   "execution_count": 77,
   "metadata": {},
   "outputs": [
    {
     "data": {
      "image/png": "[encoded data removed]",
      "text/plain": [
       "<Figure size 1400x600 with 1 Axes>"
      ]
     },
     "metadata": {},
     "output_type": "display_data"
    }
   ],
   "source": [
    "# построим график кумулятивной конверсии по группам\n",
    "plt.figure(figsize=(14,6))\n",
    "plt.plot(cumulative_dateA['date'], cumulative_dateA['conversion'], label='A')\n",
    "plt.plot(cumulative_dateB['date'], cumulative_dateB['conversion'], label='B')\n",
    "plt.grid(True)\n",
    "plt.xlabel('Дата')\n",
    "plt.ylabel('Конверсия')\n",
    "plt.title('График кумулятивной конверсии по группам A/B')\n",
    "plt.legend()\n",
    "plt.axis([dt.datetime(2019, 8, 1), dt.datetime(2019, 9, 1), 0, 0.05]);"
   ]
  },
  {
   "cell_type": "markdown",
   "metadata": {},
   "source": [
    "*Комментарий*\n",
    "\n",
    "К 5 августу конверсия группы В начинает увеличиваться. К 9 августа обе группы зафиксировались и колеблятся примерно с разницей 0,005%. Группа В показывает большую конверсию."
   ]
  },
  {
   "cell_type": "markdown",
   "metadata": {},
   "source": [
    "### Построим график относительного изменения кумулятивного среднего количества заказов на посетителя группы B к группе A. Сделаем выводы и предположения."
   ]
  },
  {
   "cell_type": "code",
   "execution_count": 37,
   "metadata": {},
   "outputs": [],
   "source": [
    "# объединим таблицы\n",
    "cum_conv_merge = cumulative_dateA[['date', 'conversion']]\\\n",
    ".merge(cumulative_dateB[['date', 'conversion']], left_on='date', right_on='date', how='left', suffixes=['A', 'B'])"
   ]
  },
  {
   "cell_type": "code",
   "execution_count": 38,
   "metadata": {},
   "outputs": [],
   "source": [
    "# переименуем столбцы\n",
    "cum_conv_merge.columns = ['date', 'conversionA', 'conversionB']"
   ]
  },
  {
   "cell_type": "code",
   "execution_count": 78,
   "metadata": {},
   "outputs": [
    {
     "data": {
      "image/png": "[encoded data removed]",
      "text/plain": [
       "<Figure size 1400x600 with 1 Axes>"
      ]
     },
     "metadata": {},
     "output_type": "display_data"
    }
   ],
   "source": [
    "# построим график относительного изменения кумулятивной конверсии группы B к группе A\n",
    "plt.figure(figsize=(14,6))\n",
    "plt.plot(cum_conv_merge['date'], cum_conv_merge['conversionB']/cum_conv_merge['conversionA'] - 1, label=\"Относительное изменение конверсии группы B относительно группы A\")\n",
    "plt.grid(True)\n",
    "plt.xlabel('Дата')\n",
    "plt.title('График относительного изменения кумулятивной конверсии группы B к группе A')\n",
    "plt.legend()\n",
    "\n",
    "plt.axhline(y=0, color='black', linestyle='--')\n",
    "plt.axhline(y=0.1, color='grey', linestyle='--')\n",
    "plt.axis([\"2019-08-01\", '2019-09-01', -0.5, 0.5]);"
   ]
  },
  {
   "cell_type": "markdown",
   "metadata": {},
   "source": [
    "*Комментарий*\n",
    "\n",
    "Видим изменение роста конверсии группы В по отношению к группе А, примерно на 10%. Далее график колеблется, но тенденция к росту.  "
   ]
  },
  {
   "cell_type": "markdown",
   "metadata": {},
   "source": [
    "### Построим точечный график количества заказов по пользователям. Сделаем выводы и предположения."
   ]
  },
  {
   "cell_type": "code",
   "execution_count": 40,
   "metadata": {},
   "outputs": [],
   "source": [
    "# создадим таблицу количества заказов пользователей\n",
    "orders_usr = orders.drop(['group', 'revenue', 'date'], axis=1)\\\n",
    ".groupby('visitorId', as_index=False).agg({'transactionId': 'nunique'})"
   ]
  },
  {
   "cell_type": "code",
   "execution_count": 41,
   "metadata": {},
   "outputs": [],
   "source": [
    "# переименуем столбцы\n",
    "orders_usr.columns = ['userId', 'orders']"
   ]
  },
  {
   "cell_type": "code",
   "execution_count": 42,
   "metadata": {},
   "outputs": [
    {
     "data": {
      "text/html": [
       "<div>\n",
       "<style scoped>\n",
       "    .dataframe tbody tr th:only-of-type {\n",
       "        vertical-align: middle;\n",
       "    }\n",
       "\n",
       "    .dataframe tbody tr th {\n",
       "        vertical-align: top;\n",
       "    }\n",
       "\n",
       "    .dataframe thead th {\n",
       "        text-align: right;\n",
       "    }\n",
       "</style>\n",
       "<table border=\"1\" class=\"dataframe\">\n",
       "  <thead>\n",
       "    <tr style=\"text-align: right;\">\n",
       "      <th></th>\n",
       "      <th>userId</th>\n",
       "      <th>orders</th>\n",
       "    </tr>\n",
       "  </thead>\n",
       "  <tbody>\n",
       "    <tr>\n",
       "      <th>0</th>\n",
       "      <td>5114589</td>\n",
       "      <td>1</td>\n",
       "    </tr>\n",
       "    <tr>\n",
       "      <th>1</th>\n",
       "      <td>6958315</td>\n",
       "      <td>1</td>\n",
       "    </tr>\n",
       "    <tr>\n",
       "      <th>2</th>\n",
       "      <td>8300375</td>\n",
       "      <td>2</td>\n",
       "    </tr>\n",
       "    <tr>\n",
       "      <th>3</th>\n",
       "      <td>11685486</td>\n",
       "      <td>1</td>\n",
       "    </tr>\n",
       "    <tr>\n",
       "      <th>4</th>\n",
       "      <td>39475350</td>\n",
       "      <td>1</td>\n",
       "    </tr>\n",
       "  </tbody>\n",
       "</table>\n",
       "</div>"
      ],
      "text/plain": [
       "     userId  orders\n",
       "0   5114589       1\n",
       "1   6958315       1\n",
       "2   8300375       2\n",
       "3  11685486       1\n",
       "4  39475350       1"
      ]
     },
     "execution_count": 42,
     "metadata": {},
     "output_type": "execute_result"
    }
   ],
   "source": [
    "orders_usr.head()"
   ]
  },
  {
   "cell_type": "code",
   "execution_count": 43,
   "metadata": {},
   "outputs": [
    {
     "data": {
      "image/png": "[encoded data removed]",
      "text/plain": [
       "<Figure size 640x480 with 1 Axes>"
      ]
     },
     "metadata": {},
     "output_type": "display_data"
    }
   ],
   "source": [
    "# построим график распределения количества заказов на одного пользователя\n",
    "plt.hist(orders_usr['orders'])\n",
    "plt.grid(True)\n",
    "plt.title('Гистрограмма распределения количества заказов на одного пользователя');"
   ]
  },
  {
   "cell_type": "markdown",
   "metadata": {},
   "source": [
    "*Комментарий*\n",
    "\n",
    "Из графика видно, что большее количество приходиться на 1 заказ. Из графика не ясно какое количество пользователей заказывают 2 и более раз.Так же наблюдаем выбросы у значения в 10 заказаов. Построим другой график."
   ]
  },
  {
   "cell_type": "code",
   "execution_count": 44,
   "metadata": {
    "scrolled": false
   },
   "outputs": [
    {
     "data": {
      "image/png": "[encoded data removed]",
      "text/plain": [
       "<Figure size 1000x600 with 1 Axes>"
      ]
     },
     "metadata": {},
     "output_type": "display_data"
    }
   ],
   "source": [
    "# построим диаграмму числа заказов на одного пользователя\n",
    "x_values = pd.Series(range(0,len(orders_usr)))\n",
    "\n",
    "plt.figure(figsize=(10,6))\n",
    "plt.grid(True)\n",
    "plt.scatter(x_values, orders_usr['orders'])\n",
    "plt.title('Точечная диаграмма числа заказов на одного пользователя')\n",
    "plt.ylabel('Количество заказов')\n",
    "plt.xlabel('Количество пользователей')\n",
    "plt.show();"
   ]
  },
  {
   "cell_type": "markdown",
   "metadata": {},
   "source": [
    "*Комментарий*\n",
    "\n",
    "Пользователей заказавших 2 раза достаточно. Предположим, что пользователи сделавшие 3 и более заказа могут быть аномалиями."
   ]
  },
  {
   "cell_type": "markdown",
   "metadata": {},
   "source": [
    "### Посчитаем 95-й и 99-й перцентили количества заказов на пользователя. Выберем границу для определения аномальных пользователей."
   ]
  },
  {
   "cell_type": "code",
   "execution_count": 45,
   "metadata": {},
   "outputs": [
    {
     "name": "stdout",
     "output_type": "stream",
     "text": [
      "Перцентили: [2. 4.]\n"
     ]
    }
   ],
   "source": [
    "# посчитаем перцентили\n",
    "print('Перцентили:', np.percentile(orders_usr['orders'], [95, 99]))"
   ]
  },
  {
   "cell_type": "markdown",
   "metadata": {},
   "source": [
    "*Комментарий*\n",
    "\n",
    "Более 4 раз заказало - 1% пользователей. 5% приходиться на 2 и более заказов. Для определения аномалий выберем более 2 заказов на одного пользователя."
   ]
  },
  {
   "cell_type": "markdown",
   "metadata": {},
   "source": [
    "### Построим точечный график стоимостей заказов. Сделаем выводы и предположения."
   ]
  },
  {
   "cell_type": "code",
   "execution_count": 46,
   "metadata": {
    "scrolled": false
   },
   "outputs": [
    {
     "data": {
      "image/png": "[encoded data removed]",
      "text/plain": [
       "<Figure size 1000x400 with 1 Axes>"
      ]
     },
     "metadata": {},
     "output_type": "display_data"
    }
   ],
   "source": [
    "# построим диаграмму сумм заказов на одного пользователя\n",
    "x_values = pd.Series(range(0, len(orders['revenue'])))\n",
    "\n",
    "plt.figure(figsize=(10,4))\n",
    "plt.grid(True)\n",
    "plt.scatter(x_values, orders['revenue'])\n",
    "plt.title('Точечная диаграмма сумм заказов на одного пользователя');"
   ]
  },
  {
   "cell_type": "code",
   "execution_count": 47,
   "metadata": {},
   "outputs": [
    {
     "data": {
      "image/png": "[encoded data removed]",
      "text/plain": [
       "<Figure size 1000x600 with 1 Axes>"
      ]
     },
     "metadata": {},
     "output_type": "display_data"
    }
   ],
   "source": [
    "# масштабируем диаграмму\n",
    "x_values = pd.Series(range(0, len(orders['revenue'])))\n",
    "plt.figure(figsize=(10,6))\n",
    "plt.grid(True)\n",
    "plt.axis([0,1200,0,200000])\n",
    "plt.scatter(x_values, orders['revenue'])\n",
    "plt.title('Точечная диаграмма сумм заказов на одного пользователя');"
   ]
  },
  {
   "cell_type": "markdown",
   "metadata": {},
   "source": [
    "*Комментарий* \n",
    "\n",
    "Большинство стоимости заказов не превышают 20 000 - 30 000 тысяч. Есть выбросы в от 50 000 и до 100 000, выглядят аномалиями.  "
   ]
  },
  {
   "cell_type": "markdown",
   "metadata": {},
   "source": [
    "### Посчитаем 95-й и 99-й перцентили стоимости заказов. Выберем границу для определения аномальных заказов."
   ]
  },
  {
   "cell_type": "code",
   "execution_count": 48,
   "metadata": {},
   "outputs": [
    {
     "name": "stdout",
     "output_type": "stream",
     "text": [
      "Перцентили: [28000.  58233.2]\n"
     ]
    }
   ],
   "source": [
    "# посчитаем перцентили\n",
    "print('Перцентили:', np.percentile(orders['revenue'], [95, 99]))"
   ]
  },
  {
   "cell_type": "markdown",
   "metadata": {},
   "source": [
    "*Комментарий*\n",
    "\n",
    "5% пользователей совершают покупки на 28 000 т., и 1% покупок превышает 58 233 т. Выберем 5% как границу аномальных заказов."
   ]
  },
  {
   "cell_type": "markdown",
   "metadata": {},
   "source": [
    "### Посчитем статистическую значимость различий в среднем количестве заказов на посетителя между группами по «сырым» данным. Сделаем выводы и предположения."
   ]
  },
  {
   "cell_type": "code",
   "execution_count": 49,
   "metadata": {},
   "outputs": [],
   "source": [
    "# сгруппируем пользователей группы А\n",
    "orders_userA = orders[orders['group'] == 'A'].groupby('visitorId', as_index=False).agg({'transactionId': pd.Series.nunique})"
   ]
  },
  {
   "cell_type": "code",
   "execution_count": 50,
   "metadata": {},
   "outputs": [],
   "source": [
    "# переименуем столбцы\n",
    "orders_userA.columns = ['userId', 'orders']"
   ]
  },
  {
   "cell_type": "code",
   "execution_count": 51,
   "metadata": {},
   "outputs": [],
   "source": [
    "# сгруппируем пользователей группы Б\n",
    "orders_userB = orders[orders['group'] == 'B'].groupby('visitorId', as_index=False).agg({'transactionId': pd.Series.nunique})"
   ]
  },
  {
   "cell_type": "code",
   "execution_count": 52,
   "metadata": {},
   "outputs": [],
   "source": [
    "# переименуем столбцы\n",
    "orders_userB.columns = ['userId', 'orders']"
   ]
  },
  {
   "cell_type": "code",
   "execution_count": 53,
   "metadata": {},
   "outputs": [],
   "source": [
    "sampleA = pd.concat([orders_userA['orders'],\\\n",
    "pd.Series(0, index=np.arange(cumulative_date[cumulative_date['group']=='A']['visitors'].sum()\\\n",
    "- len(orders_userA['orders'])), name='orders')],axis=0)"
   ]
  },
  {
   "cell_type": "code",
   "execution_count": 54,
   "metadata": {},
   "outputs": [],
   "source": [
    "sampleB = pd.concat([orders_userB['orders'],\\\n",
    "pd.Series(0, index=np.arange(cumulative_date[cumulative_date['group']=='B']['visitors'].sum()\\\n",
    "- len(orders_userB['orders'])), name='orders')],axis=0)"
   ]
  },
  {
   "cell_type": "markdown",
   "metadata": {},
   "source": [
    "Применим статистический критерий Манна-Уитни к полученным выборкам"
   ]
  },
  {
   "cell_type": "markdown",
   "metadata": {},
   "source": [
    "Гипотезы:\n",
    "    \n",
    "Н0 Статистически значимых различий в среднем количестве заказов на посетителя между группами по «сырым» данным нет.\n",
    "\n",
    "Н1 Статистическая значимость различий есть.\n"
   ]
  },
  {
   "cell_type": "code",
   "execution_count": 55,
   "metadata": {},
   "outputs": [
    {
     "name": "stdout",
     "output_type": "stream",
     "text": [
      "p-value = 0.015\n",
      "Отношение конверсии группы B в сравнении с группой А = 0.144\n"
     ]
    }
   ],
   "source": [
    "print(\"p-value = {0:.3f}\".format(stats.mannwhitneyu(sampleA, sampleB)[1]))\n",
    "print(\"Отношение конверсии группы B в сравнении с группой А = {0:.3f}\".format(sampleB.mean() / sampleA.mean() - 1))"
   ]
  },
  {
   "cell_type": "markdown",
   "metadata": {},
   "source": [
    "*Комментарий*\n",
    "\n",
    "P-value = 0.015 меньше 0.05. Конверсия группы В выше конверсии группы А на 14%. Можем отвергнуть гипотезу, что в статистической значимости различий в среднем количестве заказов на посетителя между группами по «сырым» данным нет. Статистически значимые различия есть. "
   ]
  },
  {
   "cell_type": "markdown",
   "metadata": {},
   "source": [
    "### Посчитаем статистическую значимость различий в среднем чеке заказа между группами по «сырым» данным. Сделаем выводы и предположения."
   ]
  },
  {
   "cell_type": "markdown",
   "metadata": {},
   "source": [
    "Гипотезы:\n",
    "    \n",
    "Н0 Статистической значимости различий в среднем чеке заказа между группами по «сырым» данным нет.\n",
    "    \n",
    "Н1 Статистическая значимость различий есть.\n"
   ]
  },
  {
   "cell_type": "code",
   "execution_count": 56,
   "metadata": {},
   "outputs": [
    {
     "name": "stdout",
     "output_type": "stream",
     "text": [
      "p-value = 0.729\n",
      "Относительное изменения среднего чека группы B в сравнении с группой А = 0.259\n"
     ]
    }
   ],
   "source": [
    "print('p-value = {0:.3f}'.format(stats.mannwhitneyu(orders[orders['group']=='A']['revenue'], orders[orders['group']=='B']['revenue'])[1]))\n",
    "print('Относительное изменения среднего чека группы B в сравнении с группой А = {0:.3f}'.format(orders[orders['group']=='B']['revenue'].mean()/orders[orders['group']=='A']['revenue'].mean()-1))"
   ]
  },
  {
   "cell_type": "markdown",
   "metadata": {},
   "source": [
    "*Комментарий*\n",
    "\n",
    "    \n",
    "P-value 0.72,  больше 0.05. Не отвергаем нулевую гипотезу, в среднем чеке заказа между группами по «сырым» данным в группах А и В мало различий. Отношение изменения среднего чека группы В на 25% больше чем у группы А.\n"
   ]
  },
  {
   "cell_type": "markdown",
   "metadata": {},
   "source": [
    "### Посчитаем статистическую значимость различий в среднем количестве заказов на посетителя между группами по «очищенным» данным. Сделаем выводы и предположения."
   ]
  },
  {
   "cell_type": "markdown",
   "metadata": {},
   "source": [
    "Примем за аномалии тех, кто совершил 2 заказа и более.\n",
    "\n",
    "Примем за аномалию тех, кто совершил заказ на сумму выше 28 000."
   ]
  },
  {
   "cell_type": "markdown",
   "metadata": {},
   "source": [
    "Узнаем сколько аномальных пользователей."
   ]
  },
  {
   "cell_type": "code",
   "execution_count": 57,
   "metadata": {},
   "outputs": [],
   "source": [
    "percentile_orders = 2\n",
    "percentile_revenue = 28000"
   ]
  },
  {
   "cell_type": "code",
   "execution_count": 58,
   "metadata": {},
   "outputs": [],
   "source": [
    "usersWithManyOrders = pd.concat(\n",
    "    [\n",
    "        orders_userA[orders_userA['orders'] > percentile_orders]['userId'],\n",
    "        orders_userB[orders_userB['orders'] > percentile_orders]['userId'],\n",
    "    ],\n",
    "    axis=0,\n",
    ")"
   ]
  },
  {
   "cell_type": "code",
   "execution_count": 59,
   "metadata": {},
   "outputs": [],
   "source": [
    "usersWithExpensiveOrders = orders[orders['revenue'] > percentile_revenue]['visitorId']"
   ]
  },
  {
   "cell_type": "code",
   "execution_count": 60,
   "metadata": {},
   "outputs": [],
   "source": [
    "abnormalUsers = (\n",
    "    pd.concat([usersWithManyOrders, usersWithExpensiveOrders], axis=0)\n",
    "    .drop_duplicates()\n",
    "    .sort_values()\n",
    ")"
   ]
  },
  {
   "cell_type": "code",
   "execution_count": 61,
   "metadata": {},
   "outputs": [
    {
     "name": "stdout",
     "output_type": "stream",
     "text": [
      "1099    148427295\n",
      "18      199603092\n",
      "928     204675465\n",
      "23      237748145\n",
      "37      249864742\n",
      "dtype: int64\n",
      "Кол-во аномальных пользователей: 74\n"
     ]
    }
   ],
   "source": [
    "print(abnormalUsers.head(5))\n",
    "print('Кол-во аномальных пользователей:', abnormalUsers.shape[0]) "
   ]
  },
  {
   "cell_type": "markdown",
   "metadata": {},
   "source": [
    "Подготовим выборки количества заказов по пользователям по группам теста"
   ]
  },
  {
   "cell_type": "code",
   "execution_count": 62,
   "metadata": {},
   "outputs": [],
   "source": [
    "\n",
    "sampleAFiltered = pd.concat(\n",
    "    [\n",
    "        orders_userA[\n",
    "            np.logical_not(orders_userA['userId'].isin(abnormalUsers))\n",
    "        ]['orders'],\n",
    "        pd.Series(\n",
    "            0,\n",
    "            index=np.arange(\n",
    "                cumulative_date[cumulative_date['group']=='A']['visitors'].sum() - len(orders_userA['orders'])\n",
    "            ),\n",
    "            name='orders',\n",
    "        ),\n",
    "    ],\n",
    "    axis=0,\n",
    ")"
   ]
  },
  {
   "cell_type": "code",
   "execution_count": 63,
   "metadata": {},
   "outputs": [],
   "source": [
    "\n",
    "sampleBFiltered = pd.concat(\n",
    "    [\n",
    "        orders_userB[\n",
    "            np.logical_not(orders_userB['userId'].isin(abnormalUsers))\n",
    "        ]['orders'],\n",
    "        pd.Series(\n",
    "            0,\n",
    "            index=np.arange(\n",
    "                cumulative_date[cumulative_date['group']=='B']['visitors'].sum() - len(orders_userB['orders'])\n",
    "            ),\n",
    "            name='orders',\n",
    "        ),\n",
    "    ],\n",
    "    axis=0,\n",
    ") "
   ]
  },
  {
   "cell_type": "markdown",
   "metadata": {},
   "source": [
    "Применим статистический критерий Манна-Уитни к полученным выборкам"
   ]
  },
  {
   "cell_type": "markdown",
   "metadata": {},
   "source": [
    "Гипотезы:\n",
    "    \n",
    "Н0 Статистически значимых различий в среднем количестве заказов на посетителя между группами по «очищенным» данным нет.\n",
    "    \n",
    "Н1 Статистическая значимость различий есть.\n",
    "\n"
   ]
  },
  {
   "cell_type": "code",
   "execution_count": 64,
   "metadata": {},
   "outputs": [
    {
     "name": "stdout",
     "output_type": "stream",
     "text": [
      "p-value = 0.011\n",
      "Отношение конверсии группы B в сравнении с группой А = 0.178\n"
     ]
    }
   ],
   "source": [
    "print('p-value = {0:.3f}'.format(stats.mannwhitneyu(sampleAFiltered, sampleBFiltered)[1]))\n",
    "print('Отношение конверсии группы B в сравнении с группой А = {0:.3f}'.format(sampleBFiltered.mean()/sampleAFiltered.mean()-1)) "
   ]
  },
  {
   "cell_type": "markdown",
   "metadata": {},
   "source": [
    "*Комментарий*\n",
    "\n",
    "P-value = 0.011 меньше 0.05. Конверсия группы В выше конверсии группы А на 17%. Результат как и в «сырых» данных, группа В лучше чем группа А, стастическая значимость достигнута.  "
   ]
  },
  {
   "cell_type": "markdown",
   "metadata": {},
   "source": [
    "### Посчитаем статистическую значимость различий в среднем чеке заказа между группами по «очищенным» данным. Сделаем выводы и предположения."
   ]
  },
  {
   "cell_type": "markdown",
   "metadata": {},
   "source": [
    "Гипотезы:\n",
    "    \n",
    "Н0 Статистической значимости различий в среднем чеке заказа между группами по «очищенным» данным нет.\n",
    "    \n",
    "Н1 Статистическая значимость различий есть.\n"
   ]
  },
  {
   "cell_type": "code",
   "execution_count": 65,
   "metadata": {},
   "outputs": [
    {
     "name": "stdout",
     "output_type": "stream",
     "text": [
      "p-value = 0.738\n",
      "Относительное изменения среднего чека группы B в сравнении с группой А = -0.020\n"
     ]
    }
   ],
   "source": [
    "print('p-value = {0:.3f}'.format(stats.mannwhitneyu(orders[np.logical_and(orders['group'] == 'A',\\\n",
    "np.logical_not(orders['visitorId'].isin(abnormalUsers)))]['revenue'], orders[np.logical_and(orders['group'] == 'B',\\\n",
    "np.logical_not(orders['visitorId'].isin(abnormalUsers)))]['revenue'],)[1]))\n",
    "\n",
    "print(\"Относительное изменения среднего чека группы B в сравнении с группой А = {0:.3f}\".format(orders[np.logical_and(orders['group'] == 'B',\\\n",
    "np.logical_not(orders['visitorId'].isin(abnormalUsers)))]['revenue'].mean() / orders[np.logical_and(orders['group'] == 'A',\\\n",
    "np.logical_not(orders['visitorId'].isin(abnormalUsers)))]['revenue'].mean() - 1)) "
   ]
  },
  {
   "cell_type": "markdown",
   "metadata": {},
   "source": [
    "*Комментарий*\n",
    "\n",
    "P-value 0.73, немного увеличилось по сравнению с результатами «сырых» данных. Разница между средними чеками отсутствует. "
   ]
  },
  {
   "cell_type": "markdown",
   "metadata": {},
   "source": [
    "### Примим решение по результатам теста и объясним его. "
   ]
  },
  {
   "cell_type": "markdown",
   "metadata": {},
   "source": [
    "Варианты решений: \n",
    "1. Остановить тест, зафиксировать победу одной из групп. \n",
    "2. Остановить тест, зафиксировать отсутствие различий между группами. \n",
    "3. Продолжить тест."
   ]
  },
  {
   "cell_type": "markdown",
   "metadata": {},
   "source": [
    "**Выводы по А/В тестированию:**\n",
    "    \n",
    "Сырые данные:Количество заказов, р-value - 0.015 меньше 0.05. Конверсия группы В выше конверсии группы А на 14%. \n",
    "Средний чек, р-value 0.72, больше 0.05. Относительное изменения среднего чека группы В на 25% больше чем у группы А. \n",
    "\n",
    "Очищенные данные: Количество заказов, р-value - 0.011 меньше 0.05. Конверсия группы В выше конверсии группы А на 17%. \n",
    "Средний чек, р-value 0.73. Относительное изменения среднего чека группы В на 2% меньше чем у группы А. \n",
    "\n"
   ]
  },
  {
   "cell_type": "markdown",
   "metadata": {},
   "source": [
    "**Решение:**\n",
    "На протяжении всего тестирования у группы B практически все время лучшие показатели по среднему чеку и конверсии. После очистки данных разница в средних чеках двух групп отсутствует. Но до очиски и после очистки данных конверсия группе B больше - сначала на 14%, затем на 17%. Статистическая значимость достигнута. Остановливаем тест и зафиксируем победу группы В."
   ]
  },
  {
   "cell_type": "markdown",
   "metadata": {},
   "source": [
    "## Общий вывод.\n",
    "\n",
    "Определили, как изменилась приоритизация гипотез при применении RICE вместо ICE. \n",
    "\n",
    "По графику отпределили, что был резкий скачек выручки в группе В на 17 августа. \n",
    "\n",
    "Кумулятивная конверсия зафиксировались и колеблятся примерно с разницей 0,005%. Группа В показывает большую конверсию.\n",
    "\n",
    "Определили, что пользователи редко делают больше 2 заказов.\n",
    "\n",
    "Определили, что сумма заказа редко превышает 28 000 тысяч. \n",
    "\n",
    "Статистическая значимость достигнута, конверсия группы В составляет 17% от группы А.\n",
    "\n",
    "После очистки данных разница между средними чеками отсутствует."
   ]
  }
 ],
 "metadata": {
  "ExecuteTimeLog": [
   {
    "duration": 895,
    "start_time": "2023-07-17T06:22:14.336Z"
   },
   {
    "duration": 3,
    "start_time": "2023-07-17T06:22:55.568Z"
   },
   {
    "duration": 418,
    "start_time": "2023-07-17T06:31:16.772Z"
   },
   {
    "duration": 4,
    "start_time": "2023-07-17T06:48:51.648Z"
   },
   {
    "duration": 318,
    "start_time": "2023-07-17T06:50:31.340Z"
   },
   {
    "duration": 74,
    "start_time": "2023-07-17T06:50:35.138Z"
   },
   {
    "duration": 99,
    "start_time": "2023-07-17T06:51:48.506Z"
   },
   {
    "duration": 73,
    "start_time": "2023-07-17T06:52:17.842Z"
   },
   {
    "duration": 1068,
    "start_time": "2023-07-17T06:52:50.384Z"
   },
   {
    "duration": 127,
    "start_time": "2023-07-17T06:52:51.454Z"
   },
   {
    "duration": 103,
    "start_time": "2023-07-17T06:52:51.583Z"
   },
   {
    "duration": 77,
    "start_time": "2023-07-17T06:53:18.582Z"
   },
   {
    "duration": 11,
    "start_time": "2023-07-17T06:53:20.794Z"
   },
   {
    "duration": 11,
    "start_time": "2023-07-17T06:55:38.734Z"
   },
   {
    "duration": 9,
    "start_time": "2023-07-17T06:55:47.754Z"
   },
   {
    "duration": 6,
    "start_time": "2023-07-17T07:48:22.911Z"
   },
   {
    "duration": 10,
    "start_time": "2023-07-17T07:48:42.054Z"
   },
   {
    "duration": 6,
    "start_time": "2023-07-17T07:49:15.958Z"
   },
   {
    "duration": 8,
    "start_time": "2023-07-17T07:54:13.089Z"
   },
   {
    "duration": 4,
    "start_time": "2023-07-17T07:59:14.295Z"
   },
   {
    "duration": 11,
    "start_time": "2023-07-17T08:00:58.265Z"
   },
   {
    "duration": 8,
    "start_time": "2023-07-17T08:03:35.158Z"
   },
   {
    "duration": 24,
    "start_time": "2023-07-17T08:48:49.902Z"
   },
   {
    "duration": 127,
    "start_time": "2023-07-17T08:49:13.831Z"
   },
   {
    "duration": 401,
    "start_time": "2023-07-17T08:49:54.047Z"
   },
   {
    "duration": 484,
    "start_time": "2023-07-17T08:50:48.698Z"
   },
   {
    "duration": 422,
    "start_time": "2023-07-17T08:51:56.369Z"
   },
   {
    "duration": 482,
    "start_time": "2023-07-17T08:52:11.379Z"
   },
   {
    "duration": 31,
    "start_time": "2023-07-17T08:52:23.208Z"
   },
   {
    "duration": 1438,
    "start_time": "2023-07-17T08:52:30.086Z"
   },
   {
    "duration": 214,
    "start_time": "2023-07-17T08:52:31.531Z"
   },
   {
    "duration": 65,
    "start_time": "2023-07-17T08:52:31.758Z"
   },
   {
    "duration": 39,
    "start_time": "2023-07-17T08:52:31.826Z"
   },
   {
    "duration": 62,
    "start_time": "2023-07-17T08:52:31.868Z"
   },
   {
    "duration": 28,
    "start_time": "2023-07-17T08:52:31.932Z"
   },
   {
    "duration": 22,
    "start_time": "2023-07-17T08:52:31.965Z"
   },
   {
    "duration": 36,
    "start_time": "2023-07-17T08:52:31.990Z"
   },
   {
    "duration": 42,
    "start_time": "2023-07-17T08:52:32.028Z"
   },
   {
    "duration": 38,
    "start_time": "2023-07-17T08:52:32.072Z"
   },
   {
    "duration": 52,
    "start_time": "2023-07-17T08:52:32.113Z"
   },
   {
    "duration": 11,
    "start_time": "2023-07-17T08:53:22.895Z"
   },
   {
    "duration": 4,
    "start_time": "2023-07-17T08:53:45.680Z"
   },
   {
    "duration": 12,
    "start_time": "2023-07-17T09:03:08.155Z"
   },
   {
    "duration": 1271,
    "start_time": "2023-07-17T09:03:15.494Z"
   },
   {
    "duration": 95,
    "start_time": "2023-07-17T09:03:16.767Z"
   },
   {
    "duration": 12,
    "start_time": "2023-07-17T09:03:16.864Z"
   },
   {
    "duration": 43,
    "start_time": "2023-07-17T09:03:16.878Z"
   },
   {
    "duration": 33,
    "start_time": "2023-07-17T09:03:16.924Z"
   },
   {
    "duration": 46,
    "start_time": "2023-07-17T09:03:16.958Z"
   },
   {
    "duration": 55,
    "start_time": "2023-07-17T09:03:17.006Z"
   },
   {
    "duration": 22,
    "start_time": "2023-07-17T09:03:17.063Z"
   },
   {
    "duration": 46,
    "start_time": "2023-07-17T09:03:17.087Z"
   },
   {
    "duration": 49,
    "start_time": "2023-07-17T09:03:17.135Z"
   },
   {
    "duration": 55,
    "start_time": "2023-07-17T09:03:17.186Z"
   },
   {
    "duration": 18,
    "start_time": "2023-07-17T09:03:17.243Z"
   },
   {
    "duration": 27,
    "start_time": "2023-07-17T09:03:17.263Z"
   },
   {
    "duration": 8,
    "start_time": "2023-07-17T09:05:32.255Z"
   },
   {
    "duration": 11,
    "start_time": "2023-07-17T09:15:23.959Z"
   },
   {
    "duration": 207,
    "start_time": "2023-07-17T09:20:02.551Z"
   },
   {
    "duration": 146,
    "start_time": "2023-07-17T09:24:24.032Z"
   },
   {
    "duration": 9,
    "start_time": "2023-07-17T09:27:20.246Z"
   },
   {
    "duration": 10,
    "start_time": "2023-07-17T09:27:31.669Z"
   },
   {
    "duration": 4,
    "start_time": "2023-07-17T09:30:06.038Z"
   },
   {
    "duration": 10,
    "start_time": "2023-07-17T09:30:12.279Z"
   },
   {
    "duration": 1351,
    "start_time": "2023-07-17T09:31:25.782Z"
   },
   {
    "duration": 93,
    "start_time": "2023-07-17T09:31:27.135Z"
   },
   {
    "duration": 23,
    "start_time": "2023-07-17T09:31:27.235Z"
   },
   {
    "duration": 32,
    "start_time": "2023-07-17T09:31:27.263Z"
   },
   {
    "duration": 35,
    "start_time": "2023-07-17T09:31:27.296Z"
   },
   {
    "duration": 33,
    "start_time": "2023-07-17T09:31:27.336Z"
   },
   {
    "duration": 61,
    "start_time": "2023-07-17T09:31:27.371Z"
   },
   {
    "duration": 25,
    "start_time": "2023-07-17T09:31:27.434Z"
   },
   {
    "duration": 36,
    "start_time": "2023-07-17T09:31:27.461Z"
   },
   {
    "duration": 43,
    "start_time": "2023-07-17T09:31:27.500Z"
   },
   {
    "duration": 80,
    "start_time": "2023-07-17T09:31:27.549Z"
   },
   {
    "duration": 48,
    "start_time": "2023-07-17T09:31:27.633Z"
   },
   {
    "duration": 11,
    "start_time": "2023-07-17T09:31:27.683Z"
   },
   {
    "duration": 25,
    "start_time": "2023-07-17T09:31:27.696Z"
   },
   {
    "duration": 295,
    "start_time": "2023-07-17T09:31:27.723Z"
   },
   {
    "duration": 209,
    "start_time": "2023-07-17T09:31:28.019Z"
   },
   {
    "duration": 13,
    "start_time": "2023-07-17T09:31:28.233Z"
   },
   {
    "duration": 27,
    "start_time": "2023-07-17T09:31:28.248Z"
   },
   {
    "duration": 4,
    "start_time": "2023-07-17T09:33:06.330Z"
   },
   {
    "duration": 141,
    "start_time": "2023-07-17T09:34:47.280Z"
   },
   {
    "duration": 5,
    "start_time": "2023-07-17T09:34:56.775Z"
   },
   {
    "duration": 6,
    "start_time": "2023-07-17T09:35:18.206Z"
   },
   {
    "duration": 296,
    "start_time": "2023-07-17T10:46:04.096Z"
   },
   {
    "duration": 234,
    "start_time": "2023-07-17T10:46:30.456Z"
   },
   {
    "duration": 1443,
    "start_time": "2023-07-17T10:46:43.029Z"
   },
   {
    "duration": 101,
    "start_time": "2023-07-17T10:46:44.474Z"
   },
   {
    "duration": 17,
    "start_time": "2023-07-17T10:46:44.578Z"
   },
   {
    "duration": 25,
    "start_time": "2023-07-17T10:46:44.596Z"
   },
   {
    "duration": 4,
    "start_time": "2023-07-17T10:46:44.625Z"
   },
   {
    "duration": 33,
    "start_time": "2023-07-17T10:46:44.632Z"
   },
   {
    "duration": 28,
    "start_time": "2023-07-17T10:46:44.668Z"
   },
   {
    "duration": 17,
    "start_time": "2023-07-17T10:46:44.698Z"
   },
   {
    "duration": 25,
    "start_time": "2023-07-17T10:46:44.719Z"
   },
   {
    "duration": 21,
    "start_time": "2023-07-17T10:46:44.749Z"
   },
   {
    "duration": 53,
    "start_time": "2023-07-17T10:46:44.772Z"
   },
   {
    "duration": 24,
    "start_time": "2023-07-17T10:46:44.827Z"
   },
   {
    "duration": 12,
    "start_time": "2023-07-17T10:46:44.859Z"
   },
   {
    "duration": 21,
    "start_time": "2023-07-17T10:46:44.874Z"
   },
   {
    "duration": 270,
    "start_time": "2023-07-17T10:46:44.897Z"
   },
   {
    "duration": 143,
    "start_time": "2023-07-17T10:46:45.169Z"
   },
   {
    "duration": 9,
    "start_time": "2023-07-17T10:46:45.318Z"
   },
   {
    "duration": 56,
    "start_time": "2023-07-17T10:46:45.329Z"
   },
   {
    "duration": 13,
    "start_time": "2023-07-17T10:46:45.387Z"
   },
   {
    "duration": 10,
    "start_time": "2023-07-17T10:46:45.402Z"
   },
   {
    "duration": 6,
    "start_time": "2023-07-17T10:46:45.416Z"
   },
   {
    "duration": 419,
    "start_time": "2023-07-17T10:46:45.424Z"
   },
   {
    "duration": 251,
    "start_time": "2023-07-17T10:47:58.641Z"
   },
   {
    "duration": 336,
    "start_time": "2023-07-17T10:49:01.568Z"
   },
   {
    "duration": 235,
    "start_time": "2023-07-17T10:49:23.870Z"
   },
   {
    "duration": 361,
    "start_time": "2023-07-17T10:49:44.728Z"
   },
   {
    "duration": 284,
    "start_time": "2023-07-17T10:50:06.199Z"
   },
   {
    "duration": 47,
    "start_time": "2023-07-18T06:42:52.740Z"
   },
   {
    "duration": 7,
    "start_time": "2023-07-18T06:43:24.706Z"
   },
   {
    "duration": 7,
    "start_time": "2023-07-18T06:43:32.733Z"
   },
   {
    "duration": 1221,
    "start_time": "2023-07-18T06:43:46.880Z"
   },
   {
    "duration": 192,
    "start_time": "2023-07-18T06:43:48.103Z"
   },
   {
    "duration": 11,
    "start_time": "2023-07-18T06:43:48.297Z"
   },
   {
    "duration": 24,
    "start_time": "2023-07-18T06:43:48.310Z"
   },
   {
    "duration": 17,
    "start_time": "2023-07-18T06:43:48.336Z"
   },
   {
    "duration": 9,
    "start_time": "2023-07-18T06:43:48.355Z"
   },
   {
    "duration": 9,
    "start_time": "2023-07-18T06:43:48.366Z"
   },
   {
    "duration": 11,
    "start_time": "2023-07-18T06:43:48.376Z"
   },
   {
    "duration": 23,
    "start_time": "2023-07-18T06:43:48.389Z"
   },
   {
    "duration": 22,
    "start_time": "2023-07-18T06:43:48.414Z"
   },
   {
    "duration": 29,
    "start_time": "2023-07-18T06:43:48.437Z"
   },
   {
    "duration": 16,
    "start_time": "2023-07-18T06:43:48.467Z"
   },
   {
    "duration": 18,
    "start_time": "2023-07-18T06:43:48.485Z"
   },
   {
    "duration": 18,
    "start_time": "2023-07-18T06:43:48.505Z"
   },
   {
    "duration": 166,
    "start_time": "2023-07-18T06:43:48.524Z"
   },
   {
    "duration": 117,
    "start_time": "2023-07-18T06:43:48.692Z"
   },
   {
    "duration": 6,
    "start_time": "2023-07-18T06:43:48.811Z"
   },
   {
    "duration": 14,
    "start_time": "2023-07-18T06:43:48.818Z"
   },
   {
    "duration": 4,
    "start_time": "2023-07-18T06:43:48.834Z"
   },
   {
    "duration": 7,
    "start_time": "2023-07-18T06:43:48.840Z"
   },
   {
    "duration": 22,
    "start_time": "2023-07-18T06:43:48.849Z"
   },
   {
    "duration": 254,
    "start_time": "2023-07-18T06:43:48.872Z"
   },
   {
    "duration": 165,
    "start_time": "2023-07-18T06:43:49.128Z"
   },
   {
    "duration": 180,
    "start_time": "2023-07-18T06:44:00.457Z"
   },
   {
    "duration": 159,
    "start_time": "2023-07-18T07:06:21.211Z"
   },
   {
    "duration": 194,
    "start_time": "2023-07-18T07:06:27.166Z"
   },
   {
    "duration": 7,
    "start_time": "2023-07-18T07:09:24.155Z"
   },
   {
    "duration": 287,
    "start_time": "2023-07-18T07:15:51.106Z"
   },
   {
    "duration": 272,
    "start_time": "2023-07-18T07:15:55.296Z"
   },
   {
    "duration": 291,
    "start_time": "2023-07-18T07:16:21.369Z"
   },
   {
    "duration": 4,
    "start_time": "2023-07-18T08:14:29.916Z"
   },
   {
    "duration": 4,
    "start_time": "2023-07-18T08:15:42.080Z"
   },
   {
    "duration": 4,
    "start_time": "2023-07-18T08:17:35.654Z"
   },
   {
    "duration": 182,
    "start_time": "2023-07-18T08:20:54.611Z"
   },
   {
    "duration": 353,
    "start_time": "2023-07-18T08:22:43.951Z"
   },
   {
    "duration": 215,
    "start_time": "2023-07-18T08:23:17.753Z"
   },
   {
    "duration": 184,
    "start_time": "2023-07-18T08:23:55.652Z"
   },
   {
    "duration": 7,
    "start_time": "2023-07-18T08:41:04.500Z"
   },
   {
    "duration": 3,
    "start_time": "2023-07-18T08:42:57.898Z"
   },
   {
    "duration": 239,
    "start_time": "2023-07-18T08:47:55.909Z"
   },
   {
    "duration": 276,
    "start_time": "2023-07-18T08:48:01.594Z"
   },
   {
    "duration": 257,
    "start_time": "2023-07-18T08:48:09.642Z"
   },
   {
    "duration": 323,
    "start_time": "2023-07-18T08:49:55.943Z"
   },
   {
    "duration": 284,
    "start_time": "2023-07-18T08:50:20.768Z"
   },
   {
    "duration": 240,
    "start_time": "2023-07-18T08:51:14.509Z"
   },
   {
    "duration": 354,
    "start_time": "2023-07-18T08:59:23.860Z"
   },
   {
    "duration": 309,
    "start_time": "2023-07-18T09:00:08.487Z"
   },
   {
    "duration": 239,
    "start_time": "2023-07-18T09:00:25.654Z"
   },
   {
    "duration": 402,
    "start_time": "2023-07-18T09:00:38.296Z"
   },
   {
    "duration": 10,
    "start_time": "2023-07-18T09:11:34.345Z"
   },
   {
    "duration": 93,
    "start_time": "2023-07-18T09:20:03.448Z"
   },
   {
    "duration": 6,
    "start_time": "2023-07-18T09:20:06.544Z"
   },
   {
    "duration": 2,
    "start_time": "2023-07-18T09:20:11.845Z"
   },
   {
    "duration": 4,
    "start_time": "2023-07-18T09:21:27.581Z"
   },
   {
    "duration": 123,
    "start_time": "2023-07-18T09:22:02.292Z"
   },
   {
    "duration": 138,
    "start_time": "2023-07-18T09:22:05.760Z"
   },
   {
    "duration": 108,
    "start_time": "2023-07-18T09:22:58.883Z"
   },
   {
    "duration": 114,
    "start_time": "2023-07-18T09:33:41.448Z"
   },
   {
    "duration": 68,
    "start_time": "2023-07-18T09:33:44.580Z"
   },
   {
    "duration": 232,
    "start_time": "2023-07-18T09:33:48.218Z"
   },
   {
    "duration": 121,
    "start_time": "2023-07-18T09:33:54.360Z"
   },
   {
    "duration": 106,
    "start_time": "2023-07-18T09:34:51.857Z"
   },
   {
    "duration": 116,
    "start_time": "2023-07-18T09:35:12.094Z"
   },
   {
    "duration": 9,
    "start_time": "2023-07-18T09:36:17.051Z"
   },
   {
    "duration": 3,
    "start_time": "2023-07-18T09:36:17.990Z"
   },
   {
    "duration": 104,
    "start_time": "2023-07-18T09:36:18.660Z"
   },
   {
    "duration": 108,
    "start_time": "2023-07-18T09:36:20.181Z"
   },
   {
    "duration": 7,
    "start_time": "2023-07-18T09:36:33.061Z"
   },
   {
    "duration": 1134,
    "start_time": "2023-07-18T09:42:08.203Z"
   },
   {
    "duration": 1092,
    "start_time": "2023-07-18T09:42:54.763Z"
   },
   {
    "duration": 82,
    "start_time": "2023-07-18T09:42:55.858Z"
   },
   {
    "duration": 10,
    "start_time": "2023-07-18T09:42:55.942Z"
   },
   {
    "duration": 19,
    "start_time": "2023-07-18T09:42:55.954Z"
   },
   {
    "duration": 5,
    "start_time": "2023-07-18T09:42:55.974Z"
   },
   {
    "duration": 14,
    "start_time": "2023-07-18T09:42:55.980Z"
   },
   {
    "duration": 11,
    "start_time": "2023-07-18T09:42:55.995Z"
   },
   {
    "duration": 9,
    "start_time": "2023-07-18T09:42:56.008Z"
   },
   {
    "duration": 9,
    "start_time": "2023-07-18T09:42:56.019Z"
   },
   {
    "duration": 9,
    "start_time": "2023-07-18T09:42:56.032Z"
   },
   {
    "duration": 28,
    "start_time": "2023-07-18T09:42:56.043Z"
   },
   {
    "duration": 10,
    "start_time": "2023-07-18T09:42:56.073Z"
   },
   {
    "duration": 8,
    "start_time": "2023-07-18T09:42:56.084Z"
   },
   {
    "duration": 8,
    "start_time": "2023-07-18T09:42:56.094Z"
   },
   {
    "duration": 158,
    "start_time": "2023-07-18T09:42:56.104Z"
   },
   {
    "duration": 117,
    "start_time": "2023-07-18T09:42:56.267Z"
   },
   {
    "duration": 5,
    "start_time": "2023-07-18T09:42:56.386Z"
   },
   {
    "duration": 18,
    "start_time": "2023-07-18T09:42:56.393Z"
   },
   {
    "duration": 5,
    "start_time": "2023-07-18T09:42:56.412Z"
   },
   {
    "duration": 8,
    "start_time": "2023-07-18T09:42:56.418Z"
   },
   {
    "duration": 21,
    "start_time": "2023-07-18T09:42:56.428Z"
   },
   {
    "duration": 237,
    "start_time": "2023-07-18T09:42:56.451Z"
   },
   {
    "duration": 164,
    "start_time": "2023-07-18T09:42:56.689Z"
   },
   {
    "duration": 6,
    "start_time": "2023-07-18T09:42:56.854Z"
   },
   {
    "duration": 281,
    "start_time": "2023-07-18T09:42:56.868Z"
   },
   {
    "duration": 4,
    "start_time": "2023-07-18T09:42:57.150Z"
   },
   {
    "duration": 9,
    "start_time": "2023-07-18T09:42:57.168Z"
   },
   {
    "duration": 5,
    "start_time": "2023-07-18T09:42:57.179Z"
   },
   {
    "duration": 184,
    "start_time": "2023-07-18T09:42:57.186Z"
   },
   {
    "duration": 8,
    "start_time": "2023-07-18T09:42:57.371Z"
   },
   {
    "duration": 30,
    "start_time": "2023-07-18T09:42:57.380Z"
   },
   {
    "duration": 312,
    "start_time": "2023-07-18T09:42:57.412Z"
   },
   {
    "duration": 6,
    "start_time": "2023-07-18T09:42:57.726Z"
   },
   {
    "duration": 5,
    "start_time": "2023-07-18T09:42:57.734Z"
   },
   {
    "duration": 108,
    "start_time": "2023-07-18T09:42:57.741Z"
   },
   {
    "duration": 106,
    "start_time": "2023-07-18T09:42:57.851Z"
   },
   {
    "duration": 12,
    "start_time": "2023-07-18T09:42:57.959Z"
   },
   {
    "duration": 120,
    "start_time": "2023-07-18T09:48:58.171Z"
   },
   {
    "duration": 119,
    "start_time": "2023-07-18T09:50:39.337Z"
   },
   {
    "duration": 192,
    "start_time": "2023-07-18T09:50:52.315Z"
   },
   {
    "duration": 115,
    "start_time": "2023-07-18T09:50:59.339Z"
   },
   {
    "duration": 110,
    "start_time": "2023-07-18T09:51:11.514Z"
   },
   {
    "duration": 99,
    "start_time": "2023-07-18T09:51:17.937Z"
   },
   {
    "duration": 114,
    "start_time": "2023-07-18T09:52:08.248Z"
   },
   {
    "duration": 125,
    "start_time": "2023-07-18T09:55:31.300Z"
   },
   {
    "duration": 121,
    "start_time": "2023-07-18T09:55:40.499Z"
   },
   {
    "duration": 13,
    "start_time": "2023-07-18T09:57:56.336Z"
   },
   {
    "duration": 5,
    "start_time": "2023-07-18T10:02:51.236Z"
   },
   {
    "duration": 117,
    "start_time": "2023-07-18T10:04:01.636Z"
   },
   {
    "duration": 118,
    "start_time": "2023-07-18T10:04:10.156Z"
   },
   {
    "duration": 123,
    "start_time": "2023-07-18T10:04:27.301Z"
   },
   {
    "duration": 113,
    "start_time": "2023-07-18T10:04:34.694Z"
   },
   {
    "duration": 12,
    "start_time": "2023-07-18T12:13:37.753Z"
   },
   {
    "duration": 58,
    "start_time": "2023-07-18T12:14:59.607Z"
   },
   {
    "duration": 3,
    "start_time": "2023-07-18T12:15:22.965Z"
   },
   {
    "duration": 79,
    "start_time": "2023-07-18T12:15:48.362Z"
   },
   {
    "duration": 3,
    "start_time": "2023-07-18T12:15:59.921Z"
   },
   {
    "duration": 76,
    "start_time": "2023-07-18T12:42:02.810Z"
   },
   {
    "duration": 106,
    "start_time": "2023-07-18T12:43:41.033Z"
   },
   {
    "duration": 11,
    "start_time": "2023-07-18T12:43:53.925Z"
   },
   {
    "duration": 70,
    "start_time": "2023-07-18T12:44:00.685Z"
   },
   {
    "duration": 13,
    "start_time": "2023-07-18T12:44:11.669Z"
   },
   {
    "duration": 15,
    "start_time": "2023-07-18T12:45:01.529Z"
   },
   {
    "duration": 16,
    "start_time": "2023-07-18T12:45:55.723Z"
   },
   {
    "duration": 11,
    "start_time": "2023-07-18T12:46:17.481Z"
   },
   {
    "duration": 334,
    "start_time": "2023-07-18T12:52:09.570Z"
   },
   {
    "duration": 11,
    "start_time": "2023-07-18T13:13:46.934Z"
   },
   {
    "duration": 10,
    "start_time": "2023-07-18T13:18:00.967Z"
   },
   {
    "duration": 5,
    "start_time": "2023-07-18T14:18:13.548Z"
   },
   {
    "duration": 5,
    "start_time": "2023-07-18T14:18:20.378Z"
   },
   {
    "duration": 4,
    "start_time": "2023-07-18T14:19:04.251Z"
   },
   {
    "duration": 4,
    "start_time": "2023-07-18T14:19:51.592Z"
   },
   {
    "duration": 5,
    "start_time": "2023-07-18T14:20:11.868Z"
   },
   {
    "duration": 12,
    "start_time": "2023-07-18T14:26:52.260Z"
   },
   {
    "duration": 10,
    "start_time": "2023-07-18T14:27:10.559Z"
   },
   {
    "duration": 1112,
    "start_time": "2023-07-18T14:27:29.069Z"
   },
   {
    "duration": 77,
    "start_time": "2023-07-18T14:27:30.183Z"
   },
   {
    "duration": 13,
    "start_time": "2023-07-18T14:27:30.262Z"
   },
   {
    "duration": 41,
    "start_time": "2023-07-18T14:27:30.277Z"
   },
   {
    "duration": 26,
    "start_time": "2023-07-18T14:27:30.320Z"
   },
   {
    "duration": 51,
    "start_time": "2023-07-18T14:27:30.348Z"
   },
   {
    "duration": 49,
    "start_time": "2023-07-18T14:27:30.401Z"
   },
   {
    "duration": 32,
    "start_time": "2023-07-18T14:27:30.452Z"
   },
   {
    "duration": 53,
    "start_time": "2023-07-18T14:27:30.486Z"
   },
   {
    "duration": 48,
    "start_time": "2023-07-18T14:27:30.541Z"
   },
   {
    "duration": 52,
    "start_time": "2023-07-18T14:27:30.591Z"
   },
   {
    "duration": 64,
    "start_time": "2023-07-18T14:27:30.645Z"
   },
   {
    "duration": 63,
    "start_time": "2023-07-18T14:27:30.711Z"
   },
   {
    "duration": 50,
    "start_time": "2023-07-18T14:27:30.777Z"
   },
   {
    "duration": 208,
    "start_time": "2023-07-18T14:27:30.828Z"
   },
   {
    "duration": 134,
    "start_time": "2023-07-18T14:27:31.038Z"
   },
   {
    "duration": 7,
    "start_time": "2023-07-18T14:27:31.173Z"
   },
   {
    "duration": 46,
    "start_time": "2023-07-18T14:27:31.182Z"
   },
   {
    "duration": 37,
    "start_time": "2023-07-18T14:27:31.229Z"
   },
   {
    "duration": 42,
    "start_time": "2023-07-18T14:27:31.268Z"
   },
   {
    "duration": 64,
    "start_time": "2023-07-18T14:27:31.312Z"
   },
   {
    "duration": 293,
    "start_time": "2023-07-18T14:27:31.377Z"
   },
   {
    "duration": 178,
    "start_time": "2023-07-18T14:27:31.672Z"
   },
   {
    "duration": 6,
    "start_time": "2023-07-18T14:27:31.852Z"
   },
   {
    "duration": 277,
    "start_time": "2023-07-18T14:27:31.868Z"
   },
   {
    "duration": 4,
    "start_time": "2023-07-18T14:27:32.147Z"
   },
   {
    "duration": 34,
    "start_time": "2023-07-18T14:27:32.152Z"
   },
   {
    "duration": 25,
    "start_time": "2023-07-18T14:27:32.188Z"
   },
   {
    "duration": 220,
    "start_time": "2023-07-18T14:27:32.215Z"
   },
   {
    "duration": 10,
    "start_time": "2023-07-18T14:27:32.437Z"
   },
   {
    "duration": 15,
    "start_time": "2023-07-18T14:27:32.449Z"
   },
   {
    "duration": 302,
    "start_time": "2023-07-18T14:27:32.468Z"
   },
   {
    "duration": 7,
    "start_time": "2023-07-18T14:27:32.772Z"
   },
   {
    "duration": 18,
    "start_time": "2023-07-18T14:27:32.780Z"
   },
   {
    "duration": 108,
    "start_time": "2023-07-18T14:27:32.799Z"
   },
   {
    "duration": 109,
    "start_time": "2023-07-18T14:27:32.909Z"
   },
   {
    "duration": 5,
    "start_time": "2023-07-18T14:27:33.019Z"
   },
   {
    "duration": 130,
    "start_time": "2023-07-18T14:27:33.025Z"
   },
   {
    "duration": 125,
    "start_time": "2023-07-18T14:27:33.157Z"
   },
   {
    "duration": 4,
    "start_time": "2023-07-18T14:27:33.284Z"
   },
   {
    "duration": 79,
    "start_time": "2023-07-18T14:27:33.292Z"
   },
   {
    "duration": 3,
    "start_time": "2023-07-18T14:27:33.372Z"
   },
   {
    "duration": 87,
    "start_time": "2023-07-18T14:27:33.377Z"
   },
   {
    "duration": 2,
    "start_time": "2023-07-18T14:27:33.466Z"
   },
   {
    "duration": 16,
    "start_time": "2023-07-18T14:27:33.470Z"
   },
   {
    "duration": 12,
    "start_time": "2023-07-18T14:27:33.487Z"
   },
   {
    "duration": 349,
    "start_time": "2023-07-18T14:27:33.501Z"
   },
   {
    "duration": 20,
    "start_time": "2023-07-18T14:27:33.852Z"
   },
   {
    "duration": 5,
    "start_time": "2023-07-18T14:27:33.874Z"
   },
   {
    "duration": 8,
    "start_time": "2023-07-18T14:27:33.880Z"
   },
   {
    "duration": 8,
    "start_time": "2023-07-18T14:27:33.890Z"
   },
   {
    "duration": 6,
    "start_time": "2023-07-18T14:27:33.900Z"
   },
   {
    "duration": 110,
    "start_time": "2023-07-18T14:27:33.908Z"
   },
   {
    "duration": 13,
    "start_time": "2023-07-18T14:29:30.329Z"
   },
   {
    "duration": 8,
    "start_time": "2023-07-18T14:29:31.519Z"
   },
   {
    "duration": 327,
    "start_time": "2023-07-18T14:30:57.392Z"
   },
   {
    "duration": 1098,
    "start_time": "2023-07-18T14:44:17.692Z"
   },
   {
    "duration": 16,
    "start_time": "2023-07-18T14:45:01.052Z"
   },
   {
    "duration": 1116,
    "start_time": "2023-07-18T15:35:25.043Z"
   },
   {
    "duration": 73,
    "start_time": "2023-07-18T15:35:26.161Z"
   },
   {
    "duration": 11,
    "start_time": "2023-07-18T15:35:26.235Z"
   },
   {
    "duration": 17,
    "start_time": "2023-07-18T15:35:26.248Z"
   },
   {
    "duration": 3,
    "start_time": "2023-07-18T15:35:26.268Z"
   },
   {
    "duration": 6,
    "start_time": "2023-07-18T15:35:26.273Z"
   },
   {
    "duration": 7,
    "start_time": "2023-07-18T15:35:26.281Z"
   },
   {
    "duration": 5,
    "start_time": "2023-07-18T15:35:26.290Z"
   },
   {
    "duration": 8,
    "start_time": "2023-07-18T15:35:26.296Z"
   },
   {
    "duration": 11,
    "start_time": "2023-07-18T15:35:26.305Z"
   },
   {
    "duration": 12,
    "start_time": "2023-07-18T15:35:26.317Z"
   },
   {
    "duration": 42,
    "start_time": "2023-07-18T15:35:26.330Z"
   },
   {
    "duration": 3,
    "start_time": "2023-07-18T15:35:26.374Z"
   },
   {
    "duration": 5,
    "start_time": "2023-07-18T15:35:26.380Z"
   },
   {
    "duration": 170,
    "start_time": "2023-07-18T15:35:26.386Z"
   },
   {
    "duration": 125,
    "start_time": "2023-07-18T15:35:26.557Z"
   },
   {
    "duration": 5,
    "start_time": "2023-07-18T15:35:26.684Z"
   },
   {
    "duration": 12,
    "start_time": "2023-07-18T15:35:26.690Z"
   },
   {
    "duration": 4,
    "start_time": "2023-07-18T15:35:26.703Z"
   },
   {
    "duration": 9,
    "start_time": "2023-07-18T15:35:26.709Z"
   },
   {
    "duration": 10,
    "start_time": "2023-07-18T15:35:26.719Z"
   },
   {
    "duration": 240,
    "start_time": "2023-07-18T15:35:26.730Z"
   },
   {
    "duration": 158,
    "start_time": "2023-07-18T15:35:26.971Z"
   },
   {
    "duration": 5,
    "start_time": "2023-07-18T15:35:27.131Z"
   },
   {
    "duration": 303,
    "start_time": "2023-07-18T15:35:27.138Z"
   },
   {
    "duration": 4,
    "start_time": "2023-07-18T15:35:27.443Z"
   },
   {
    "duration": 29,
    "start_time": "2023-07-18T15:35:27.449Z"
   },
   {
    "duration": 15,
    "start_time": "2023-07-18T15:35:27.479Z"
   },
   {
    "duration": 182,
    "start_time": "2023-07-18T15:35:27.495Z"
   },
   {
    "duration": 9,
    "start_time": "2023-07-18T15:35:27.679Z"
   },
   {
    "duration": 8,
    "start_time": "2023-07-18T15:35:27.689Z"
   },
   {
    "duration": 252,
    "start_time": "2023-07-18T15:35:27.698Z"
   },
   {
    "duration": 17,
    "start_time": "2023-07-18T15:35:27.951Z"
   },
   {
    "duration": 3,
    "start_time": "2023-07-18T15:35:27.970Z"
   },
   {
    "duration": 109,
    "start_time": "2023-07-18T15:35:27.974Z"
   },
   {
    "duration": 113,
    "start_time": "2023-07-18T15:35:28.085Z"
   },
   {
    "duration": 4,
    "start_time": "2023-07-18T15:35:28.200Z"
   },
   {
    "duration": 129,
    "start_time": "2023-07-18T15:35:28.206Z"
   },
   {
    "duration": 115,
    "start_time": "2023-07-18T15:35:28.337Z"
   },
   {
    "duration": 5,
    "start_time": "2023-07-18T15:35:28.453Z"
   },
   {
    "duration": 65,
    "start_time": "2023-07-18T15:35:28.470Z"
   },
   {
    "duration": 2,
    "start_time": "2023-07-18T15:35:28.537Z"
   },
   {
    "duration": 95,
    "start_time": "2023-07-18T15:35:28.541Z"
   },
   {
    "duration": 2,
    "start_time": "2023-07-18T15:35:28.638Z"
   },
   {
    "duration": 26,
    "start_time": "2023-07-18T15:35:28.642Z"
   },
   {
    "duration": 18,
    "start_time": "2023-07-18T15:35:28.670Z"
   },
   {
    "duration": 341,
    "start_time": "2023-07-18T15:35:28.690Z"
   },
   {
    "duration": 10,
    "start_time": "2023-07-18T15:35:29.033Z"
   },
   {
    "duration": 8,
    "start_time": "2023-07-18T15:35:29.045Z"
   },
   {
    "duration": 4,
    "start_time": "2023-07-18T15:35:29.067Z"
   },
   {
    "duration": 11,
    "start_time": "2023-07-18T15:35:29.073Z"
   },
   {
    "duration": 12,
    "start_time": "2023-07-18T15:35:29.086Z"
   },
   {
    "duration": 84,
    "start_time": "2023-07-18T15:35:29.100Z"
   },
   {
    "duration": 13,
    "start_time": "2023-07-18T15:35:29.186Z"
   },
   {
    "duration": 344,
    "start_time": "2023-07-18T15:35:29.201Z"
   },
   {
    "duration": 22,
    "start_time": "2023-07-18T15:35:29.547Z"
   },
   {
    "duration": 118,
    "start_time": "2023-07-18T15:38:15.804Z"
   },
   {
    "duration": 4,
    "start_time": "2023-07-18T15:59:22.339Z"
   },
   {
    "duration": 4,
    "start_time": "2023-07-18T16:09:59.023Z"
   },
   {
    "duration": 4,
    "start_time": "2023-07-18T16:10:24.599Z"
   },
   {
    "duration": 4,
    "start_time": "2023-07-18T16:11:19.954Z"
   },
   {
    "duration": 172,
    "start_time": "2023-07-18T16:17:39.552Z"
   },
   {
    "duration": 173,
    "start_time": "2023-07-18T16:18:57.021Z"
   },
   {
    "duration": 314,
    "start_time": "2023-07-18T16:20:11.347Z"
   },
   {
    "duration": 320,
    "start_time": "2023-07-18T16:24:12.791Z"
   },
   {
    "duration": 172,
    "start_time": "2023-07-18T16:24:18.130Z"
   },
   {
    "duration": 175,
    "start_time": "2023-07-18T16:24:51.196Z"
   },
   {
    "duration": 283,
    "start_time": "2023-07-18T16:27:19.460Z"
   },
   {
    "duration": 292,
    "start_time": "2023-07-18T16:27:48.754Z"
   },
   {
    "duration": 261,
    "start_time": "2023-07-18T16:27:58.620Z"
   },
   {
    "duration": 368,
    "start_time": "2023-07-18T16:28:51.378Z"
   },
   {
    "duration": 118,
    "start_time": "2023-07-18T16:32:13.756Z"
   },
   {
    "duration": 111,
    "start_time": "2023-07-18T16:33:03.628Z"
   },
   {
    "duration": 4,
    "start_time": "2023-07-18T16:34:51.254Z"
   },
   {
    "duration": 3,
    "start_time": "2023-07-18T16:35:29.928Z"
   },
   {
    "duration": 5,
    "start_time": "2023-07-18T16:35:32.780Z"
   },
   {
    "duration": 4,
    "start_time": "2023-07-18T16:36:14.525Z"
   },
   {
    "duration": 122,
    "start_time": "2023-07-18T16:37:09.566Z"
   },
   {
    "duration": 111,
    "start_time": "2023-07-18T16:37:13.744Z"
   },
   {
    "duration": 113,
    "start_time": "2023-07-18T16:37:19.119Z"
   },
   {
    "duration": 129,
    "start_time": "2023-07-18T16:37:47.101Z"
   },
   {
    "duration": 4,
    "start_time": "2023-07-18T16:40:19.159Z"
   },
   {
    "duration": 9,
    "start_time": "2023-07-18T16:44:38.887Z"
   },
   {
    "duration": 11,
    "start_time": "2023-07-18T16:44:39.525Z"
   },
   {
    "duration": 329,
    "start_time": "2023-07-18T16:44:46.479Z"
   },
   {
    "duration": 107,
    "start_time": "2023-07-18T16:49:11.752Z"
   },
   {
    "duration": 11,
    "start_time": "2023-07-18T16:49:36.870Z"
   },
   {
    "duration": 5,
    "start_time": "2023-07-18T16:54:46.240Z"
   },
   {
    "duration": 1121,
    "start_time": "2023-07-18T16:55:08.002Z"
   },
   {
    "duration": 73,
    "start_time": "2023-07-18T16:55:09.125Z"
   },
   {
    "duration": 10,
    "start_time": "2023-07-18T16:55:09.200Z"
   },
   {
    "duration": 13,
    "start_time": "2023-07-18T16:55:09.212Z"
   },
   {
    "duration": 15,
    "start_time": "2023-07-18T16:55:09.226Z"
   },
   {
    "duration": 21,
    "start_time": "2023-07-18T16:55:09.242Z"
   },
   {
    "duration": 16,
    "start_time": "2023-07-18T16:55:09.264Z"
   },
   {
    "duration": 9,
    "start_time": "2023-07-18T16:55:09.281Z"
   },
   {
    "duration": 18,
    "start_time": "2023-07-18T16:55:09.292Z"
   },
   {
    "duration": 15,
    "start_time": "2023-07-18T16:55:09.312Z"
   },
   {
    "duration": 20,
    "start_time": "2023-07-18T16:55:09.328Z"
   },
   {
    "duration": 11,
    "start_time": "2023-07-18T16:55:09.349Z"
   },
   {
    "duration": 4,
    "start_time": "2023-07-18T16:55:09.362Z"
   },
   {
    "duration": 13,
    "start_time": "2023-07-18T16:55:09.368Z"
   },
   {
    "duration": 154,
    "start_time": "2023-07-18T16:55:09.382Z"
   },
   {
    "duration": 114,
    "start_time": "2023-07-18T16:55:09.538Z"
   },
   {
    "duration": 15,
    "start_time": "2023-07-18T16:55:09.654Z"
   },
   {
    "duration": 11,
    "start_time": "2023-07-18T16:55:09.671Z"
   },
   {
    "duration": 7,
    "start_time": "2023-07-18T16:55:09.683Z"
   },
   {
    "duration": 9,
    "start_time": "2023-07-18T16:55:09.691Z"
   },
   {
    "duration": 9,
    "start_time": "2023-07-18T16:55:09.701Z"
   },
   {
    "duration": 257,
    "start_time": "2023-07-18T16:55:09.712Z"
   },
   {
    "duration": 184,
    "start_time": "2023-07-18T16:55:09.971Z"
   },
   {
    "duration": 14,
    "start_time": "2023-07-18T16:55:10.157Z"
   },
   {
    "duration": 304,
    "start_time": "2023-07-18T16:55:10.172Z"
   },
   {
    "duration": 4,
    "start_time": "2023-07-18T16:55:10.477Z"
   },
   {
    "duration": 21,
    "start_time": "2023-07-18T16:55:10.482Z"
   },
   {
    "duration": 9,
    "start_time": "2023-07-18T16:55:10.511Z"
   },
   {
    "duration": 168,
    "start_time": "2023-07-18T16:55:10.522Z"
   },
   {
    "duration": 8,
    "start_time": "2023-07-18T16:55:10.692Z"
   },
   {
    "duration": 22,
    "start_time": "2023-07-18T16:55:10.701Z"
   },
   {
    "duration": 287,
    "start_time": "2023-07-18T16:55:10.725Z"
   },
   {
    "duration": 7,
    "start_time": "2023-07-18T16:55:11.013Z"
   },
   {
    "duration": 10,
    "start_time": "2023-07-18T16:55:11.022Z"
   },
   {
    "duration": 124,
    "start_time": "2023-07-18T16:55:11.033Z"
   },
   {
    "duration": 111,
    "start_time": "2023-07-18T16:55:11.159Z"
   },
   {
    "duration": 4,
    "start_time": "2023-07-18T16:55:11.272Z"
   },
   {
    "duration": 136,
    "start_time": "2023-07-18T16:55:11.277Z"
   },
   {
    "duration": 142,
    "start_time": "2023-07-18T16:55:11.415Z"
   },
   {
    "duration": 10,
    "start_time": "2023-07-18T16:55:11.558Z"
   },
   {
    "duration": 77,
    "start_time": "2023-07-18T16:55:11.569Z"
   },
   {
    "duration": 4,
    "start_time": "2023-07-18T16:55:11.648Z"
   },
   {
    "duration": 85,
    "start_time": "2023-07-18T16:55:11.653Z"
   },
   {
    "duration": 2,
    "start_time": "2023-07-18T16:55:11.740Z"
   },
   {
    "duration": 24,
    "start_time": "2023-07-18T16:55:11.744Z"
   },
   {
    "duration": 13,
    "start_time": "2023-07-18T16:55:11.770Z"
   },
   {
    "duration": 345,
    "start_time": "2023-07-18T16:55:11.785Z"
   },
   {
    "duration": 9,
    "start_time": "2023-07-18T16:55:12.132Z"
   },
   {
    "duration": 4,
    "start_time": "2023-07-18T16:55:12.143Z"
   },
   {
    "duration": 20,
    "start_time": "2023-07-18T16:55:12.148Z"
   },
   {
    "duration": 82,
    "start_time": "2023-07-18T16:55:12.170Z"
   },
   {
    "duration": 6,
    "start_time": "2023-07-18T16:55:12.254Z"
   },
   {
    "duration": 15,
    "start_time": "2023-07-18T16:55:12.268Z"
   },
   {
    "duration": 13,
    "start_time": "2023-07-18T16:55:12.285Z"
   },
   {
    "duration": 332,
    "start_time": "2023-07-18T16:55:12.300Z"
   },
   {
    "duration": 12,
    "start_time": "2023-07-18T16:55:12.633Z"
   },
   {
    "duration": 14,
    "start_time": "2023-07-18T16:59:32.334Z"
   },
   {
    "duration": 13,
    "start_time": "2023-07-18T17:01:13.759Z"
   },
   {
    "duration": 6,
    "start_time": "2023-07-18T17:14:25.603Z"
   },
   {
    "duration": 4,
    "start_time": "2023-07-18T17:14:26.557Z"
   },
   {
    "duration": 4,
    "start_time": "2023-07-18T17:14:27.151Z"
   },
   {
    "duration": 4,
    "start_time": "2023-07-18T17:14:27.652Z"
   },
   {
    "duration": 10,
    "start_time": "2023-07-18T17:14:31.386Z"
   },
   {
    "duration": 8,
    "start_time": "2023-07-18T17:14:32.684Z"
   },
   {
    "duration": 332,
    "start_time": "2023-07-18T17:14:35.032Z"
   },
   {
    "duration": 12,
    "start_time": "2023-07-18T17:14:58.110Z"
   },
   {
    "duration": 74,
    "start_time": "2023-07-18T17:27:36.454Z"
   },
   {
    "duration": 1162,
    "start_time": "2023-07-18T17:31:53.903Z"
   },
   {
    "duration": 82,
    "start_time": "2023-07-18T17:31:55.067Z"
   },
   {
    "duration": 11,
    "start_time": "2023-07-18T17:31:55.150Z"
   },
   {
    "duration": 33,
    "start_time": "2023-07-18T17:31:55.164Z"
   },
   {
    "duration": 17,
    "start_time": "2023-07-18T17:31:55.199Z"
   },
   {
    "duration": 12,
    "start_time": "2023-07-18T17:31:55.217Z"
   },
   {
    "duration": 25,
    "start_time": "2023-07-18T17:31:55.231Z"
   },
   {
    "duration": 32,
    "start_time": "2023-07-18T17:31:55.258Z"
   },
   {
    "duration": 18,
    "start_time": "2023-07-18T17:31:55.292Z"
   },
   {
    "duration": 34,
    "start_time": "2023-07-18T17:31:55.312Z"
   },
   {
    "duration": 23,
    "start_time": "2023-07-18T17:31:55.348Z"
   },
   {
    "duration": 24,
    "start_time": "2023-07-18T17:31:55.373Z"
   },
   {
    "duration": 26,
    "start_time": "2023-07-18T17:31:55.398Z"
   },
   {
    "duration": 18,
    "start_time": "2023-07-18T17:31:55.426Z"
   },
   {
    "duration": 191,
    "start_time": "2023-07-18T17:31:55.446Z"
   },
   {
    "duration": 118,
    "start_time": "2023-07-18T17:31:55.639Z"
   },
   {
    "duration": 11,
    "start_time": "2023-07-18T17:31:55.770Z"
   },
   {
    "duration": 11,
    "start_time": "2023-07-18T17:31:55.784Z"
   },
   {
    "duration": 7,
    "start_time": "2023-07-18T17:31:55.797Z"
   },
   {
    "duration": 9,
    "start_time": "2023-07-18T17:31:55.806Z"
   },
   {
    "duration": 9,
    "start_time": "2023-07-18T17:31:55.816Z"
   },
   {
    "duration": 306,
    "start_time": "2023-07-18T17:31:55.826Z"
   },
   {
    "duration": 202,
    "start_time": "2023-07-18T17:31:56.133Z"
   },
   {
    "duration": 7,
    "start_time": "2023-07-18T17:31:56.337Z"
   },
   {
    "duration": 338,
    "start_time": "2023-07-18T17:31:56.346Z"
   },
   {
    "duration": 5,
    "start_time": "2023-07-18T17:31:56.686Z"
   },
   {
    "duration": 5,
    "start_time": "2023-07-18T17:31:56.695Z"
   },
   {
    "duration": 4,
    "start_time": "2023-07-18T17:31:56.707Z"
   },
   {
    "duration": 227,
    "start_time": "2023-07-18T17:31:56.713Z"
   },
   {
    "duration": 7,
    "start_time": "2023-07-18T17:31:56.941Z"
   },
   {
    "duration": 7,
    "start_time": "2023-07-18T17:31:56.949Z"
   },
   {
    "duration": 348,
    "start_time": "2023-07-18T17:31:56.957Z"
   },
   {
    "duration": 7,
    "start_time": "2023-07-18T17:31:57.307Z"
   },
   {
    "duration": 3,
    "start_time": "2023-07-18T17:31:57.315Z"
   },
   {
    "duration": 135,
    "start_time": "2023-07-18T17:31:57.319Z"
   },
   {
    "duration": 136,
    "start_time": "2023-07-18T17:31:57.455Z"
   },
   {
    "duration": 5,
    "start_time": "2023-07-18T17:31:57.592Z"
   },
   {
    "duration": 141,
    "start_time": "2023-07-18T17:31:57.599Z"
   },
   {
    "duration": 145,
    "start_time": "2023-07-18T17:31:57.741Z"
   },
   {
    "duration": 5,
    "start_time": "2023-07-18T17:31:57.887Z"
   },
   {
    "duration": 81,
    "start_time": "2023-07-18T17:31:57.894Z"
   },
   {
    "duration": 3,
    "start_time": "2023-07-18T17:31:57.977Z"
   },
   {
    "duration": 88,
    "start_time": "2023-07-18T17:31:57.982Z"
   },
   {
    "duration": 5,
    "start_time": "2023-07-18T17:31:58.072Z"
   },
   {
    "duration": 20,
    "start_time": "2023-07-18T17:31:58.079Z"
   },
   {
    "duration": 31,
    "start_time": "2023-07-18T17:31:58.101Z"
   },
   {
    "duration": 385,
    "start_time": "2023-07-18T17:31:58.134Z"
   },
   {
    "duration": 9,
    "start_time": "2023-07-18T17:31:58.520Z"
   },
   {
    "duration": 8,
    "start_time": "2023-07-18T17:31:58.531Z"
   },
   {
    "duration": 14,
    "start_time": "2023-07-18T17:31:58.540Z"
   },
   {
    "duration": 97,
    "start_time": "2023-07-18T17:31:58.555Z"
   },
   {
    "duration": 25,
    "start_time": "2023-07-18T17:31:58.654Z"
   },
   {
    "duration": 55,
    "start_time": "2023-07-18T17:31:58.681Z"
   },
   {
    "duration": 18,
    "start_time": "2023-07-18T17:31:58.738Z"
   },
   {
    "duration": 384,
    "start_time": "2023-07-18T17:31:58.757Z"
   },
   {
    "duration": 13,
    "start_time": "2023-07-18T17:31:59.143Z"
   },
   {
    "duration": 1149,
    "start_time": "2023-07-18T18:43:07.231Z"
   },
   {
    "duration": 75,
    "start_time": "2023-07-18T18:43:08.382Z"
   },
   {
    "duration": 20,
    "start_time": "2023-07-18T18:43:08.459Z"
   },
   {
    "duration": 12,
    "start_time": "2023-07-18T18:43:08.481Z"
   },
   {
    "duration": 6,
    "start_time": "2023-07-18T18:43:08.495Z"
   },
   {
    "duration": 7,
    "start_time": "2023-07-18T18:43:08.502Z"
   },
   {
    "duration": 6,
    "start_time": "2023-07-18T18:43:08.511Z"
   },
   {
    "duration": 9,
    "start_time": "2023-07-18T18:43:08.519Z"
   },
   {
    "duration": 10,
    "start_time": "2023-07-18T18:43:08.530Z"
   },
   {
    "duration": 35,
    "start_time": "2023-07-18T18:43:08.543Z"
   },
   {
    "duration": 17,
    "start_time": "2023-07-18T18:43:08.580Z"
   },
   {
    "duration": 12,
    "start_time": "2023-07-18T18:43:08.599Z"
   },
   {
    "duration": 15,
    "start_time": "2023-07-18T18:43:08.612Z"
   },
   {
    "duration": 14,
    "start_time": "2023-07-18T18:43:08.628Z"
   },
   {
    "duration": 169,
    "start_time": "2023-07-18T18:43:08.644Z"
   },
   {
    "duration": 127,
    "start_time": "2023-07-18T18:43:08.815Z"
   },
   {
    "duration": 6,
    "start_time": "2023-07-18T18:43:08.943Z"
   },
   {
    "duration": 10,
    "start_time": "2023-07-18T18:43:08.950Z"
   },
   {
    "duration": 4,
    "start_time": "2023-07-18T18:43:08.961Z"
   },
   {
    "duration": 37,
    "start_time": "2023-07-18T18:43:08.970Z"
   },
   {
    "duration": 24,
    "start_time": "2023-07-18T18:43:09.008Z"
   },
   {
    "duration": 277,
    "start_time": "2023-07-18T18:43:09.034Z"
   },
   {
    "duration": 188,
    "start_time": "2023-07-18T18:43:09.313Z"
   },
   {
    "duration": 6,
    "start_time": "2023-07-18T18:43:09.502Z"
   },
   {
    "duration": 279,
    "start_time": "2023-07-18T18:43:09.510Z"
   },
   {
    "duration": 4,
    "start_time": "2023-07-18T18:43:09.790Z"
   },
   {
    "duration": 14,
    "start_time": "2023-07-18T18:43:09.795Z"
   },
   {
    "duration": 4,
    "start_time": "2023-07-18T18:43:09.812Z"
   },
   {
    "duration": 182,
    "start_time": "2023-07-18T18:43:09.817Z"
   },
   {
    "duration": 8,
    "start_time": "2023-07-18T18:43:10.000Z"
   },
   {
    "duration": 16,
    "start_time": "2023-07-18T18:43:10.009Z"
   },
   {
    "duration": 318,
    "start_time": "2023-07-18T18:43:10.026Z"
   },
   {
    "duration": 7,
    "start_time": "2023-07-18T18:43:10.345Z"
   },
   {
    "duration": 31,
    "start_time": "2023-07-18T18:43:10.353Z"
   },
   {
    "duration": 119,
    "start_time": "2023-07-18T18:43:10.387Z"
   },
   {
    "duration": 116,
    "start_time": "2023-07-18T18:43:10.508Z"
   },
   {
    "duration": 5,
    "start_time": "2023-07-18T18:43:10.626Z"
   },
   {
    "duration": 143,
    "start_time": "2023-07-18T18:43:10.632Z"
   },
   {
    "duration": 130,
    "start_time": "2023-07-18T18:43:10.783Z"
   },
   {
    "duration": 4,
    "start_time": "2023-07-18T18:43:10.914Z"
   },
   {
    "duration": 75,
    "start_time": "2023-07-18T18:43:10.919Z"
   },
   {
    "duration": 3,
    "start_time": "2023-07-18T18:43:10.996Z"
   },
   {
    "duration": 84,
    "start_time": "2023-07-18T18:43:11.000Z"
   },
   {
    "duration": 6,
    "start_time": "2023-07-18T18:43:11.086Z"
   },
   {
    "duration": 16,
    "start_time": "2023-07-18T18:43:11.093Z"
   },
   {
    "duration": 12,
    "start_time": "2023-07-18T18:43:11.110Z"
   },
   {
    "duration": 396,
    "start_time": "2023-07-18T18:43:11.124Z"
   },
   {
    "duration": 96,
    "start_time": "2023-07-18T18:43:11.522Z"
   },
   {
    "duration": 6,
    "start_time": "2023-07-18T18:43:11.620Z"
   },
   {
    "duration": 10,
    "start_time": "2023-07-18T18:43:11.627Z"
   },
   {
    "duration": 7,
    "start_time": "2023-07-18T18:43:11.639Z"
   },
   {
    "duration": 31,
    "start_time": "2023-07-18T18:43:11.648Z"
   },
   {
    "duration": 13,
    "start_time": "2023-07-18T18:43:11.681Z"
   },
   {
    "duration": 12,
    "start_time": "2023-07-18T18:43:11.696Z"
   },
   {
    "duration": 418,
    "start_time": "2023-07-18T18:43:11.710Z"
   },
   {
    "duration": 13,
    "start_time": "2023-07-18T18:43:12.130Z"
   },
   {
    "duration": 44,
    "start_time": "2023-07-19T08:03:14.548Z"
   },
   {
    "duration": 6,
    "start_time": "2023-07-19T08:03:24.054Z"
   },
   {
    "duration": 1632,
    "start_time": "2023-07-19T08:03:43.550Z"
   },
   {
    "duration": 233,
    "start_time": "2023-07-19T08:03:45.184Z"
   },
   {
    "duration": 18,
    "start_time": "2023-07-19T08:03:45.419Z"
   },
   {
    "duration": 57,
    "start_time": "2023-07-19T08:03:45.443Z"
   },
   {
    "duration": 145,
    "start_time": "2023-07-19T08:03:45.501Z"
   },
   {
    "duration": 0,
    "start_time": "2023-07-19T08:03:45.651Z"
   },
   {
    "duration": 0,
    "start_time": "2023-07-19T08:03:45.652Z"
   },
   {
    "duration": 0,
    "start_time": "2023-07-19T08:03:45.654Z"
   },
   {
    "duration": 0,
    "start_time": "2023-07-19T08:03:45.654Z"
   },
   {
    "duration": 0,
    "start_time": "2023-07-19T08:03:45.655Z"
   },
   {
    "duration": 0,
    "start_time": "2023-07-19T08:03:45.657Z"
   },
   {
    "duration": 0,
    "start_time": "2023-07-19T08:03:45.658Z"
   },
   {
    "duration": 0,
    "start_time": "2023-07-19T08:03:45.659Z"
   },
   {
    "duration": 0,
    "start_time": "2023-07-19T08:03:45.660Z"
   },
   {
    "duration": 0,
    "start_time": "2023-07-19T08:03:45.661Z"
   },
   {
    "duration": 0,
    "start_time": "2023-07-19T08:03:45.662Z"
   },
   {
    "duration": 0,
    "start_time": "2023-07-19T08:03:45.663Z"
   },
   {
    "duration": 1,
    "start_time": "2023-07-19T08:03:45.664Z"
   },
   {
    "duration": 0,
    "start_time": "2023-07-19T08:03:45.665Z"
   },
   {
    "duration": 0,
    "start_time": "2023-07-19T08:03:45.666Z"
   },
   {
    "duration": 0,
    "start_time": "2023-07-19T08:03:45.667Z"
   },
   {
    "duration": 0,
    "start_time": "2023-07-19T08:03:45.668Z"
   },
   {
    "duration": 1,
    "start_time": "2023-07-19T08:03:45.669Z"
   },
   {
    "duration": 0,
    "start_time": "2023-07-19T08:03:45.670Z"
   },
   {
    "duration": 0,
    "start_time": "2023-07-19T08:03:45.672Z"
   },
   {
    "duration": 0,
    "start_time": "2023-07-19T08:03:45.673Z"
   },
   {
    "duration": 0,
    "start_time": "2023-07-19T08:03:45.674Z"
   },
   {
    "duration": 0,
    "start_time": "2023-07-19T08:03:45.676Z"
   },
   {
    "duration": 0,
    "start_time": "2023-07-19T08:03:45.677Z"
   },
   {
    "duration": 0,
    "start_time": "2023-07-19T08:03:45.678Z"
   },
   {
    "duration": 0,
    "start_time": "2023-07-19T08:03:45.679Z"
   },
   {
    "duration": 0,
    "start_time": "2023-07-19T08:03:45.680Z"
   },
   {
    "duration": 0,
    "start_time": "2023-07-19T08:03:45.723Z"
   },
   {
    "duration": 0,
    "start_time": "2023-07-19T08:03:45.724Z"
   },
   {
    "duration": 0,
    "start_time": "2023-07-19T08:03:45.725Z"
   },
   {
    "duration": 0,
    "start_time": "2023-07-19T08:03:45.726Z"
   },
   {
    "duration": 0,
    "start_time": "2023-07-19T08:03:45.727Z"
   },
   {
    "duration": 0,
    "start_time": "2023-07-19T08:03:45.727Z"
   },
   {
    "duration": 0,
    "start_time": "2023-07-19T08:03:45.728Z"
   },
   {
    "duration": 0,
    "start_time": "2023-07-19T08:03:45.729Z"
   },
   {
    "duration": 0,
    "start_time": "2023-07-19T08:03:45.731Z"
   },
   {
    "duration": 0,
    "start_time": "2023-07-19T08:03:45.732Z"
   },
   {
    "duration": 0,
    "start_time": "2023-07-19T08:03:45.733Z"
   },
   {
    "duration": 0,
    "start_time": "2023-07-19T08:03:45.734Z"
   },
   {
    "duration": 0,
    "start_time": "2023-07-19T08:03:45.735Z"
   },
   {
    "duration": 0,
    "start_time": "2023-07-19T08:03:45.736Z"
   },
   {
    "duration": 0,
    "start_time": "2023-07-19T08:03:45.737Z"
   },
   {
    "duration": 0,
    "start_time": "2023-07-19T08:03:45.738Z"
   },
   {
    "duration": 0,
    "start_time": "2023-07-19T08:03:45.739Z"
   },
   {
    "duration": 0,
    "start_time": "2023-07-19T08:03:45.740Z"
   },
   {
    "duration": 0,
    "start_time": "2023-07-19T08:03:45.742Z"
   },
   {
    "duration": 0,
    "start_time": "2023-07-19T08:03:45.743Z"
   },
   {
    "duration": 0,
    "start_time": "2023-07-19T08:03:45.744Z"
   },
   {
    "duration": 0,
    "start_time": "2023-07-19T08:03:45.745Z"
   },
   {
    "duration": 0,
    "start_time": "2023-07-19T08:03:45.746Z"
   },
   {
    "duration": 0,
    "start_time": "2023-07-19T08:03:45.747Z"
   },
   {
    "duration": 0,
    "start_time": "2023-07-19T08:03:45.748Z"
   },
   {
    "duration": 3,
    "start_time": "2023-07-19T08:10:10.645Z"
   },
   {
    "duration": 3,
    "start_time": "2023-07-19T08:10:18.220Z"
   },
   {
    "duration": 9,
    "start_time": "2023-07-19T08:10:18.847Z"
   },
   {
    "duration": 15,
    "start_time": "2023-07-19T08:14:20.514Z"
   },
   {
    "duration": 1574,
    "start_time": "2023-07-19T08:14:57.748Z"
   },
   {
    "duration": 91,
    "start_time": "2023-07-19T08:14:59.325Z"
   },
   {
    "duration": 28,
    "start_time": "2023-07-19T08:14:59.418Z"
   },
   {
    "duration": 29,
    "start_time": "2023-07-19T08:14:59.448Z"
   },
   {
    "duration": 22,
    "start_time": "2023-07-19T08:14:59.480Z"
   },
   {
    "duration": 151,
    "start_time": "2023-07-19T08:14:59.503Z"
   },
   {
    "duration": 0,
    "start_time": "2023-07-19T08:14:59.661Z"
   },
   {
    "duration": 0,
    "start_time": "2023-07-19T08:14:59.663Z"
   },
   {
    "duration": 0,
    "start_time": "2023-07-19T08:14:59.664Z"
   },
   {
    "duration": 0,
    "start_time": "2023-07-19T08:14:59.666Z"
   },
   {
    "duration": 0,
    "start_time": "2023-07-19T08:14:59.668Z"
   },
   {
    "duration": 0,
    "start_time": "2023-07-19T08:14:59.669Z"
   },
   {
    "duration": 0,
    "start_time": "2023-07-19T08:14:59.671Z"
   },
   {
    "duration": 0,
    "start_time": "2023-07-19T08:14:59.672Z"
   },
   {
    "duration": 0,
    "start_time": "2023-07-19T08:14:59.673Z"
   },
   {
    "duration": 0,
    "start_time": "2023-07-19T08:14:59.675Z"
   },
   {
    "duration": 0,
    "start_time": "2023-07-19T08:14:59.676Z"
   },
   {
    "duration": 0,
    "start_time": "2023-07-19T08:14:59.677Z"
   },
   {
    "duration": 0,
    "start_time": "2023-07-19T08:14:59.679Z"
   },
   {
    "duration": 0,
    "start_time": "2023-07-19T08:14:59.680Z"
   },
   {
    "duration": 0,
    "start_time": "2023-07-19T08:14:59.681Z"
   },
   {
    "duration": 0,
    "start_time": "2023-07-19T08:14:59.683Z"
   },
   {
    "duration": 0,
    "start_time": "2023-07-19T08:14:59.684Z"
   },
   {
    "duration": 0,
    "start_time": "2023-07-19T08:14:59.685Z"
   },
   {
    "duration": 0,
    "start_time": "2023-07-19T08:14:59.687Z"
   },
   {
    "duration": 0,
    "start_time": "2023-07-19T08:14:59.720Z"
   },
   {
    "duration": 0,
    "start_time": "2023-07-19T08:14:59.721Z"
   },
   {
    "duration": 0,
    "start_time": "2023-07-19T08:14:59.726Z"
   },
   {
    "duration": 1,
    "start_time": "2023-07-19T08:14:59.727Z"
   },
   {
    "duration": 0,
    "start_time": "2023-07-19T08:14:59.730Z"
   },
   {
    "duration": 0,
    "start_time": "2023-07-19T08:14:59.730Z"
   },
   {
    "duration": 0,
    "start_time": "2023-07-19T08:14:59.734Z"
   },
   {
    "duration": 0,
    "start_time": "2023-07-19T08:14:59.735Z"
   },
   {
    "duration": 0,
    "start_time": "2023-07-19T08:14:59.736Z"
   },
   {
    "duration": 0,
    "start_time": "2023-07-19T08:14:59.737Z"
   },
   {
    "duration": 0,
    "start_time": "2023-07-19T08:14:59.738Z"
   },
   {
    "duration": 0,
    "start_time": "2023-07-19T08:14:59.739Z"
   },
   {
    "duration": 0,
    "start_time": "2023-07-19T08:14:59.740Z"
   },
   {
    "duration": 0,
    "start_time": "2023-07-19T08:14:59.741Z"
   },
   {
    "duration": 0,
    "start_time": "2023-07-19T08:14:59.742Z"
   },
   {
    "duration": 0,
    "start_time": "2023-07-19T08:14:59.743Z"
   },
   {
    "duration": 0,
    "start_time": "2023-07-19T08:14:59.744Z"
   },
   {
    "duration": 0,
    "start_time": "2023-07-19T08:14:59.745Z"
   },
   {
    "duration": 0,
    "start_time": "2023-07-19T08:14:59.746Z"
   },
   {
    "duration": 0,
    "start_time": "2023-07-19T08:14:59.747Z"
   },
   {
    "duration": 0,
    "start_time": "2023-07-19T08:14:59.748Z"
   },
   {
    "duration": 0,
    "start_time": "2023-07-19T08:14:59.750Z"
   },
   {
    "duration": 0,
    "start_time": "2023-07-19T08:14:59.751Z"
   },
   {
    "duration": 0,
    "start_time": "2023-07-19T08:14:59.752Z"
   },
   {
    "duration": 0,
    "start_time": "2023-07-19T08:14:59.754Z"
   },
   {
    "duration": 0,
    "start_time": "2023-07-19T08:14:59.755Z"
   },
   {
    "duration": 0,
    "start_time": "2023-07-19T08:14:59.756Z"
   },
   {
    "duration": 0,
    "start_time": "2023-07-19T08:14:59.757Z"
   },
   {
    "duration": 0,
    "start_time": "2023-07-19T08:14:59.758Z"
   },
   {
    "duration": 0,
    "start_time": "2023-07-19T08:14:59.759Z"
   },
   {
    "duration": 0,
    "start_time": "2023-07-19T08:14:59.760Z"
   },
   {
    "duration": 0,
    "start_time": "2023-07-19T08:14:59.761Z"
   },
   {
    "duration": 0,
    "start_time": "2023-07-19T08:14:59.762Z"
   },
   {
    "duration": 4,
    "start_time": "2023-07-19T08:15:30.894Z"
   },
   {
    "duration": 5890,
    "start_time": "2023-07-19T08:17:16.711Z"
   },
   {
    "duration": 0,
    "start_time": "2023-07-19T08:17:22.602Z"
   },
   {
    "duration": 3365,
    "start_time": "2023-07-19T08:17:35.403Z"
   },
   {
    "duration": 1210,
    "start_time": "2023-07-19T08:17:46.991Z"
   },
   {
    "duration": 90,
    "start_time": "2023-07-19T08:17:48.203Z"
   },
   {
    "duration": 11,
    "start_time": "2023-07-19T08:17:48.295Z"
   },
   {
    "duration": 42,
    "start_time": "2023-07-19T08:17:48.308Z"
   },
   {
    "duration": 56,
    "start_time": "2023-07-19T08:17:48.352Z"
   },
   {
    "duration": 43,
    "start_time": "2023-07-19T08:17:48.410Z"
   },
   {
    "duration": 13,
    "start_time": "2023-07-19T08:17:48.455Z"
   },
   {
    "duration": 21,
    "start_time": "2023-07-19T08:17:48.470Z"
   },
   {
    "duration": 28,
    "start_time": "2023-07-19T08:17:48.494Z"
   },
   {
    "duration": 33,
    "start_time": "2023-07-19T08:17:48.528Z"
   },
   {
    "duration": 17,
    "start_time": "2023-07-19T08:17:48.564Z"
   },
   {
    "duration": 23,
    "start_time": "2023-07-19T08:17:48.583Z"
   },
   {
    "duration": 53,
    "start_time": "2023-07-19T08:17:48.608Z"
   },
   {
    "duration": 15,
    "start_time": "2023-07-19T08:17:48.662Z"
   },
   {
    "duration": 9,
    "start_time": "2023-07-19T08:17:48.678Z"
   },
   {
    "duration": 20,
    "start_time": "2023-07-19T08:17:48.688Z"
   },
   {
    "duration": 182,
    "start_time": "2023-07-19T08:17:48.709Z"
   },
   {
    "duration": 118,
    "start_time": "2023-07-19T08:17:48.893Z"
   },
   {
    "duration": 16,
    "start_time": "2023-07-19T08:17:49.013Z"
   },
   {
    "duration": 29,
    "start_time": "2023-07-19T08:17:49.036Z"
   },
   {
    "duration": 12,
    "start_time": "2023-07-19T08:17:49.067Z"
   },
   {
    "duration": 15,
    "start_time": "2023-07-19T08:17:49.080Z"
   },
   {
    "duration": 9,
    "start_time": "2023-07-19T08:17:49.097Z"
   },
   {
    "duration": 299,
    "start_time": "2023-07-19T08:17:49.108Z"
   },
   {
    "duration": 220,
    "start_time": "2023-07-19T08:17:49.409Z"
   },
   {
    "duration": 14,
    "start_time": "2023-07-19T08:17:49.633Z"
   },
   {
    "duration": 314,
    "start_time": "2023-07-19T08:17:49.653Z"
   },
   {
    "duration": 4,
    "start_time": "2023-07-19T08:17:49.972Z"
   },
   {
    "duration": 14,
    "start_time": "2023-07-19T08:17:49.977Z"
   },
   {
    "duration": 7,
    "start_time": "2023-07-19T08:17:49.992Z"
   },
   {
    "duration": 205,
    "start_time": "2023-07-19T08:17:50.001Z"
   },
   {
    "duration": 18,
    "start_time": "2023-07-19T08:17:50.207Z"
   },
   {
    "duration": 31,
    "start_time": "2023-07-19T08:17:50.228Z"
   },
   {
    "duration": 293,
    "start_time": "2023-07-19T08:17:50.261Z"
   },
   {
    "duration": 7,
    "start_time": "2023-07-19T08:17:50.555Z"
   },
   {
    "duration": 6,
    "start_time": "2023-07-19T08:17:50.564Z"
   },
   {
    "duration": 136,
    "start_time": "2023-07-19T08:17:50.571Z"
   },
   {
    "duration": 140,
    "start_time": "2023-07-19T08:17:50.709Z"
   },
   {
    "duration": 4,
    "start_time": "2023-07-19T08:17:50.854Z"
   },
   {
    "duration": 157,
    "start_time": "2023-07-19T08:17:50.860Z"
   },
   {
    "duration": 155,
    "start_time": "2023-07-19T08:17:51.021Z"
   },
   {
    "duration": 4,
    "start_time": "2023-07-19T08:17:51.178Z"
   },
   {
    "duration": 81,
    "start_time": "2023-07-19T08:17:51.184Z"
   },
   {
    "duration": 3,
    "start_time": "2023-07-19T08:17:51.267Z"
   },
   {
    "duration": 92,
    "start_time": "2023-07-19T08:17:51.271Z"
   },
   {
    "duration": 3,
    "start_time": "2023-07-19T08:17:51.364Z"
   },
   {
    "duration": 26,
    "start_time": "2023-07-19T08:17:51.369Z"
   },
   {
    "duration": 11,
    "start_time": "2023-07-19T08:17:51.397Z"
   },
   {
    "duration": 438,
    "start_time": "2023-07-19T08:17:51.410Z"
   },
   {
    "duration": 14,
    "start_time": "2023-07-19T08:17:51.854Z"
   },
   {
    "duration": 11,
    "start_time": "2023-07-19T08:17:51.870Z"
   },
   {
    "duration": 19,
    "start_time": "2023-07-19T08:17:51.882Z"
   },
   {
    "duration": 97,
    "start_time": "2023-07-19T08:17:51.903Z"
   },
   {
    "duration": 57,
    "start_time": "2023-07-19T08:17:52.002Z"
   },
   {
    "duration": 32,
    "start_time": "2023-07-19T08:17:52.060Z"
   },
   {
    "duration": 37,
    "start_time": "2023-07-19T08:17:52.094Z"
   },
   {
    "duration": 470,
    "start_time": "2023-07-19T08:17:52.133Z"
   },
   {
    "duration": 31,
    "start_time": "2023-07-19T08:17:52.604Z"
   },
   {
    "duration": 9,
    "start_time": "2023-07-19T08:20:16.365Z"
   },
   {
    "duration": 1150,
    "start_time": "2023-07-19T08:21:04.447Z"
   },
   {
    "duration": 97,
    "start_time": "2023-07-19T08:21:05.599Z"
   },
   {
    "duration": 14,
    "start_time": "2023-07-19T08:21:05.698Z"
   },
   {
    "duration": 70,
    "start_time": "2023-07-19T08:21:05.714Z"
   },
   {
    "duration": 68,
    "start_time": "2023-07-19T08:21:05.786Z"
   },
   {
    "duration": 120,
    "start_time": "2023-07-19T08:21:05.855Z"
   },
   {
    "duration": 94,
    "start_time": "2023-07-19T08:21:05.976Z"
   },
   {
    "duration": 97,
    "start_time": "2023-07-19T08:21:06.071Z"
   },
   {
    "duration": 126,
    "start_time": "2023-07-19T08:21:06.170Z"
   },
   {
    "duration": 57,
    "start_time": "2023-07-19T08:21:06.299Z"
   },
   {
    "duration": 49,
    "start_time": "2023-07-19T08:21:06.358Z"
   },
   {
    "duration": 90,
    "start_time": "2023-07-19T08:21:06.408Z"
   },
   {
    "duration": 60,
    "start_time": "2023-07-19T08:21:06.500Z"
   },
   {
    "duration": 26,
    "start_time": "2023-07-19T08:21:06.562Z"
   },
   {
    "duration": 62,
    "start_time": "2023-07-19T08:21:06.590Z"
   },
   {
    "duration": 185,
    "start_time": "2023-07-19T08:21:06.654Z"
   },
   {
    "duration": 123,
    "start_time": "2023-07-19T08:21:06.841Z"
   },
   {
    "duration": 6,
    "start_time": "2023-07-19T08:21:06.966Z"
   },
   {
    "duration": 23,
    "start_time": "2023-07-19T08:21:06.974Z"
   },
   {
    "duration": 54,
    "start_time": "2023-07-19T08:21:06.999Z"
   },
   {
    "duration": 43,
    "start_time": "2023-07-19T08:21:07.055Z"
   },
   {
    "duration": 49,
    "start_time": "2023-07-19T08:21:07.099Z"
   },
   {
    "duration": 323,
    "start_time": "2023-07-19T08:21:07.150Z"
   },
   {
    "duration": 214,
    "start_time": "2023-07-19T08:21:07.476Z"
   },
   {
    "duration": 7,
    "start_time": "2023-07-19T08:21:07.692Z"
   },
   {
    "duration": 447,
    "start_time": "2023-07-19T08:21:07.701Z"
   },
   {
    "duration": 5,
    "start_time": "2023-07-19T08:21:08.151Z"
   },
   {
    "duration": 5,
    "start_time": "2023-07-19T08:21:08.161Z"
   },
   {
    "duration": 9,
    "start_time": "2023-07-19T08:21:08.168Z"
   },
   {
    "duration": 196,
    "start_time": "2023-07-19T08:21:08.180Z"
   },
   {
    "duration": 8,
    "start_time": "2023-07-19T08:21:08.377Z"
   },
   {
    "duration": 25,
    "start_time": "2023-07-19T08:21:08.386Z"
   },
   {
    "duration": 338,
    "start_time": "2023-07-19T08:21:08.413Z"
   },
   {
    "duration": 7,
    "start_time": "2023-07-19T08:21:08.753Z"
   },
   {
    "duration": 10,
    "start_time": "2023-07-19T08:21:08.762Z"
   },
   {
    "duration": 132,
    "start_time": "2023-07-19T08:21:08.774Z"
   },
   {
    "duration": 148,
    "start_time": "2023-07-19T08:21:08.908Z"
   },
   {
    "duration": 6,
    "start_time": "2023-07-19T08:21:09.058Z"
   },
   {
    "duration": 166,
    "start_time": "2023-07-19T08:21:09.066Z"
   },
   {
    "duration": 157,
    "start_time": "2023-07-19T08:21:09.233Z"
   },
   {
    "duration": 5,
    "start_time": "2023-07-19T08:21:09.392Z"
   },
   {
    "duration": 83,
    "start_time": "2023-07-19T08:21:09.399Z"
   },
   {
    "duration": 3,
    "start_time": "2023-07-19T08:21:09.483Z"
   },
   {
    "duration": 97,
    "start_time": "2023-07-19T08:21:09.488Z"
   },
   {
    "duration": 3,
    "start_time": "2023-07-19T08:21:09.587Z"
   },
   {
    "duration": 17,
    "start_time": "2023-07-19T08:21:09.591Z"
   },
   {
    "duration": 22,
    "start_time": "2023-07-19T08:21:09.610Z"
   },
   {
    "duration": 562,
    "start_time": "2023-07-19T08:21:09.633Z"
   },
   {
    "duration": 103,
    "start_time": "2023-07-19T08:21:10.196Z"
   },
   {
    "duration": 5,
    "start_time": "2023-07-19T08:21:10.301Z"
   },
   {
    "duration": 33,
    "start_time": "2023-07-19T08:21:10.320Z"
   },
   {
    "duration": 34,
    "start_time": "2023-07-19T08:21:10.354Z"
   },
   {
    "duration": 29,
    "start_time": "2023-07-19T08:21:10.390Z"
   },
   {
    "duration": 53,
    "start_time": "2023-07-19T08:21:10.427Z"
   },
   {
    "duration": 56,
    "start_time": "2023-07-19T08:21:10.482Z"
   },
   {
    "duration": 454,
    "start_time": "2023-07-19T08:21:10.539Z"
   },
   {
    "duration": 15,
    "start_time": "2023-07-19T08:21:10.995Z"
   },
   {
    "duration": 9,
    "start_time": "2023-07-19T08:21:42.807Z"
   },
   {
    "duration": 6,
    "start_time": "2023-07-19T08:45:27.368Z"
   },
   {
    "duration": 8,
    "start_time": "2023-07-19T08:45:45.324Z"
   },
   {
    "duration": 9,
    "start_time": "2023-07-19T08:46:20.450Z"
   },
   {
    "duration": 6,
    "start_time": "2023-07-19T08:52:32.499Z"
   },
   {
    "duration": 9,
    "start_time": "2023-07-19T08:54:10.369Z"
   },
   {
    "duration": 9,
    "start_time": "2023-07-19T08:55:02.308Z"
   },
   {
    "duration": 9,
    "start_time": "2023-07-19T08:55:24.212Z"
   },
   {
    "duration": 163,
    "start_time": "2023-07-19T09:03:49.479Z"
   },
   {
    "duration": 321,
    "start_time": "2023-07-19T09:03:53.965Z"
   },
   {
    "duration": 4,
    "start_time": "2023-07-19T09:04:13.358Z"
   },
   {
    "duration": 6,
    "start_time": "2023-07-19T09:07:21.480Z"
   },
   {
    "duration": 9,
    "start_time": "2023-07-19T09:07:35.078Z"
   },
   {
    "duration": 164,
    "start_time": "2023-07-19T09:08:01.207Z"
   },
   {
    "duration": 4,
    "start_time": "2023-07-19T09:08:06.356Z"
   },
   {
    "duration": 13,
    "start_time": "2023-07-19T09:11:31.057Z"
   },
   {
    "duration": 10,
    "start_time": "2023-07-19T09:12:57.246Z"
   },
   {
    "duration": 8,
    "start_time": "2023-07-19T09:13:43.045Z"
   },
   {
    "duration": 6,
    "start_time": "2023-07-19T09:13:52.457Z"
   },
   {
    "duration": 6,
    "start_time": "2023-07-19T09:14:03.167Z"
   },
   {
    "duration": 26,
    "start_time": "2023-07-19T09:19:00.749Z"
   },
   {
    "duration": 13,
    "start_time": "2023-07-19T09:32:14.542Z"
   },
   {
    "duration": 221,
    "start_time": "2023-07-19T09:33:08.070Z"
   },
   {
    "duration": 8,
    "start_time": "2023-07-19T09:33:19.453Z"
   },
   {
    "duration": 5,
    "start_time": "2023-07-19T09:33:27.664Z"
   },
   {
    "duration": 49,
    "start_time": "2023-07-19T09:59:35.351Z"
   },
   {
    "duration": 1350,
    "start_time": "2023-07-19T09:59:58.119Z"
   },
   {
    "duration": 92,
    "start_time": "2023-07-19T09:59:59.471Z"
   },
   {
    "duration": 13,
    "start_time": "2023-07-19T09:59:59.564Z"
   },
   {
    "duration": 21,
    "start_time": "2023-07-19T09:59:59.578Z"
   },
   {
    "duration": 43,
    "start_time": "2023-07-19T09:59:59.602Z"
   },
   {
    "duration": 51,
    "start_time": "2023-07-19T09:59:59.647Z"
   },
   {
    "duration": 14,
    "start_time": "2023-07-19T09:59:59.699Z"
   },
   {
    "duration": 29,
    "start_time": "2023-07-19T09:59:59.714Z"
   },
   {
    "duration": 56,
    "start_time": "2023-07-19T09:59:59.745Z"
   },
   {
    "duration": 23,
    "start_time": "2023-07-19T09:59:59.803Z"
   },
   {
    "duration": 51,
    "start_time": "2023-07-19T09:59:59.828Z"
   },
   {
    "duration": 26,
    "start_time": "2023-07-19T09:59:59.882Z"
   },
   {
    "duration": 53,
    "start_time": "2023-07-19T09:59:59.910Z"
   },
   {
    "duration": 21,
    "start_time": "2023-07-19T09:59:59.966Z"
   },
   {
    "duration": 74,
    "start_time": "2023-07-19T09:59:59.988Z"
   },
   {
    "duration": 100,
    "start_time": "2023-07-19T10:00:00.064Z"
   },
   {
    "duration": 128,
    "start_time": "2023-07-19T10:00:00.165Z"
   },
   {
    "duration": 167,
    "start_time": "2023-07-19T10:00:00.295Z"
   },
   {
    "duration": 86,
    "start_time": "2023-07-19T10:00:00.463Z"
   },
   {
    "duration": 65,
    "start_time": "2023-07-19T10:00:00.554Z"
   },
   {
    "duration": 141,
    "start_time": "2023-07-19T10:00:00.629Z"
   },
   {
    "duration": 337,
    "start_time": "2023-07-19T10:00:00.772Z"
   },
   {
    "duration": 145,
    "start_time": "2023-07-19T10:00:01.111Z"
   },
   {
    "duration": 121,
    "start_time": "2023-07-19T10:00:01.259Z"
   },
   {
    "duration": 196,
    "start_time": "2023-07-19T10:00:01.382Z"
   },
   {
    "duration": 176,
    "start_time": "2023-07-19T10:00:01.580Z"
   },
   {
    "duration": 89,
    "start_time": "2023-07-19T10:00:01.758Z"
   },
   {
    "duration": 98,
    "start_time": "2023-07-19T10:00:01.850Z"
   },
   {
    "duration": 66,
    "start_time": "2023-07-19T10:00:01.953Z"
   },
   {
    "duration": 443,
    "start_time": "2023-07-19T10:00:02.022Z"
   },
   {
    "duration": 240,
    "start_time": "2023-07-19T10:00:02.467Z"
   },
   {
    "duration": 20,
    "start_time": "2023-07-19T10:00:02.708Z"
   },
   {
    "duration": 422,
    "start_time": "2023-07-19T10:00:02.730Z"
   },
   {
    "duration": 4,
    "start_time": "2023-07-19T10:00:03.164Z"
   },
   {
    "duration": 89,
    "start_time": "2023-07-19T10:00:03.171Z"
   },
   {
    "duration": 42,
    "start_time": "2023-07-19T10:00:03.261Z"
   },
   {
    "duration": 251,
    "start_time": "2023-07-19T10:00:03.305Z"
   },
   {
    "duration": 10,
    "start_time": "2023-07-19T10:00:03.558Z"
   },
   {
    "duration": 88,
    "start_time": "2023-07-19T10:00:03.569Z"
   },
   {
    "duration": 410,
    "start_time": "2023-07-19T10:00:03.660Z"
   },
   {
    "duration": 7,
    "start_time": "2023-07-19T10:00:04.075Z"
   },
   {
    "duration": 24,
    "start_time": "2023-07-19T10:00:04.083Z"
   },
   {
    "duration": 216,
    "start_time": "2023-07-19T10:00:04.109Z"
   },
   {
    "duration": 171,
    "start_time": "2023-07-19T10:00:04.328Z"
   },
   {
    "duration": 4,
    "start_time": "2023-07-19T10:00:04.501Z"
   },
   {
    "duration": 224,
    "start_time": "2023-07-19T10:00:04.507Z"
   },
   {
    "duration": 179,
    "start_time": "2023-07-19T10:00:04.733Z"
   },
   {
    "duration": 10,
    "start_time": "2023-07-19T10:00:04.914Z"
   },
   {
    "duration": 179,
    "start_time": "2023-07-19T10:00:04.926Z"
   },
   {
    "duration": 22,
    "start_time": "2023-07-19T10:00:05.106Z"
   },
   {
    "duration": 116,
    "start_time": "2023-07-19T10:00:05.132Z"
   },
   {
    "duration": 136,
    "start_time": "2023-07-19T10:00:05.249Z"
   },
   {
    "duration": 118,
    "start_time": "2023-07-19T10:00:05.387Z"
   },
   {
    "duration": 52,
    "start_time": "2023-07-19T10:00:05.507Z"
   },
   {
    "duration": 526,
    "start_time": "2023-07-19T10:00:05.562Z"
   },
   {
    "duration": 10,
    "start_time": "2023-07-19T10:00:06.089Z"
   },
   {
    "duration": 72,
    "start_time": "2023-07-19T10:00:06.101Z"
   },
   {
    "duration": 40,
    "start_time": "2023-07-19T10:00:06.175Z"
   },
   {
    "duration": 136,
    "start_time": "2023-07-19T10:00:06.217Z"
   },
   {
    "duration": 61,
    "start_time": "2023-07-19T10:00:06.357Z"
   },
   {
    "duration": 106,
    "start_time": "2023-07-19T10:00:06.420Z"
   },
   {
    "duration": 103,
    "start_time": "2023-07-19T10:00:06.531Z"
   },
   {
    "duration": 525,
    "start_time": "2023-07-19T10:00:06.636Z"
   },
   {
    "duration": 14,
    "start_time": "2023-07-19T10:00:07.165Z"
   },
   {
    "duration": 5,
    "start_time": "2023-07-19T10:00:51.305Z"
   },
   {
    "duration": 10,
    "start_time": "2023-07-19T10:14:11.538Z"
   },
   {
    "duration": 1134,
    "start_time": "2023-07-19T10:14:21.271Z"
   },
   {
    "duration": 76,
    "start_time": "2023-07-19T10:14:22.407Z"
   },
   {
    "duration": 12,
    "start_time": "2023-07-19T10:14:22.484Z"
   },
   {
    "duration": 14,
    "start_time": "2023-07-19T10:14:22.498Z"
   },
   {
    "duration": 21,
    "start_time": "2023-07-19T10:14:22.514Z"
   },
   {
    "duration": 9,
    "start_time": "2023-07-19T10:14:22.537Z"
   },
   {
    "duration": 7,
    "start_time": "2023-07-19T10:14:22.548Z"
   },
   {
    "duration": 9,
    "start_time": "2023-07-19T10:14:22.557Z"
   },
   {
    "duration": 7,
    "start_time": "2023-07-19T10:14:22.568Z"
   },
   {
    "duration": 14,
    "start_time": "2023-07-19T10:14:22.577Z"
   },
   {
    "duration": 17,
    "start_time": "2023-07-19T10:14:22.592Z"
   },
   {
    "duration": 24,
    "start_time": "2023-07-19T10:14:22.610Z"
   },
   {
    "duration": 7,
    "start_time": "2023-07-19T10:14:22.636Z"
   },
   {
    "duration": 4,
    "start_time": "2023-07-19T10:14:22.645Z"
   },
   {
    "duration": 17,
    "start_time": "2023-07-19T10:14:22.651Z"
   },
   {
    "duration": 8,
    "start_time": "2023-07-19T10:14:22.670Z"
   },
   {
    "duration": 8,
    "start_time": "2023-07-19T10:14:22.679Z"
   },
   {
    "duration": 11,
    "start_time": "2023-07-19T10:14:22.688Z"
   },
   {
    "duration": 24,
    "start_time": "2023-07-19T10:14:22.700Z"
   },
   {
    "duration": 14,
    "start_time": "2023-07-19T10:14:22.730Z"
   },
   {
    "duration": 7,
    "start_time": "2023-07-19T10:14:22.745Z"
   },
   {
    "duration": 182,
    "start_time": "2023-07-19T10:14:22.754Z"
   },
   {
    "duration": 134,
    "start_time": "2023-07-19T10:14:22.938Z"
   },
   {
    "duration": 7,
    "start_time": "2023-07-19T10:14:23.074Z"
   },
   {
    "duration": 15,
    "start_time": "2023-07-19T10:14:23.082Z"
   },
   {
    "duration": 6,
    "start_time": "2023-07-19T10:14:23.098Z"
   },
   {
    "duration": 21,
    "start_time": "2023-07-19T10:14:23.106Z"
   },
   {
    "duration": 11,
    "start_time": "2023-07-19T10:14:23.129Z"
   },
   {
    "duration": 259,
    "start_time": "2023-07-19T10:14:23.142Z"
   },
   {
    "duration": 192,
    "start_time": "2023-07-19T10:14:23.402Z"
   },
   {
    "duration": 6,
    "start_time": "2023-07-19T10:14:23.596Z"
   },
   {
    "duration": 288,
    "start_time": "2023-07-19T10:14:23.603Z"
   },
   {
    "duration": 4,
    "start_time": "2023-07-19T10:14:23.893Z"
   },
   {
    "duration": 53,
    "start_time": "2023-07-19T10:14:23.898Z"
   },
   {
    "duration": 28,
    "start_time": "2023-07-19T10:14:23.953Z"
   },
   {
    "duration": 219,
    "start_time": "2023-07-19T10:14:23.982Z"
   },
   {
    "duration": 7,
    "start_time": "2023-07-19T10:14:24.202Z"
   },
   {
    "duration": 31,
    "start_time": "2023-07-19T10:14:24.211Z"
   },
   {
    "duration": 317,
    "start_time": "2023-07-19T10:14:24.243Z"
   },
   {
    "duration": 6,
    "start_time": "2023-07-19T10:14:24.561Z"
   },
   {
    "duration": 12,
    "start_time": "2023-07-19T10:14:24.571Z"
   },
   {
    "duration": 137,
    "start_time": "2023-07-19T10:14:24.585Z"
   },
   {
    "duration": 135,
    "start_time": "2023-07-19T10:14:24.723Z"
   },
   {
    "duration": 4,
    "start_time": "2023-07-19T10:14:24.861Z"
   },
   {
    "duration": 162,
    "start_time": "2023-07-19T10:14:24.867Z"
   },
   {
    "duration": 168,
    "start_time": "2023-07-19T10:14:25.032Z"
   },
   {
    "duration": 4,
    "start_time": "2023-07-19T10:14:25.202Z"
   },
   {
    "duration": 60,
    "start_time": "2023-07-19T10:14:25.219Z"
   },
   {
    "duration": 3,
    "start_time": "2023-07-19T10:14:25.281Z"
   },
   {
    "duration": 77,
    "start_time": "2023-07-19T10:14:25.285Z"
   },
   {
    "duration": 2,
    "start_time": "2023-07-19T10:14:25.364Z"
   },
   {
    "duration": 17,
    "start_time": "2023-07-19T10:14:25.368Z"
   },
   {
    "duration": 15,
    "start_time": "2023-07-19T10:14:25.386Z"
   },
   {
    "duration": 412,
    "start_time": "2023-07-19T10:14:25.402Z"
   },
   {
    "duration": 19,
    "start_time": "2023-07-19T10:14:25.815Z"
   },
   {
    "duration": 30,
    "start_time": "2023-07-19T10:14:25.836Z"
   },
   {
    "duration": 16,
    "start_time": "2023-07-19T10:14:25.868Z"
   },
   {
    "duration": 47,
    "start_time": "2023-07-19T10:14:25.885Z"
   },
   {
    "duration": 99,
    "start_time": "2023-07-19T10:14:25.934Z"
   },
   {
    "duration": 30,
    "start_time": "2023-07-19T10:14:26.035Z"
   },
   {
    "duration": 24,
    "start_time": "2023-07-19T10:14:26.067Z"
   },
   {
    "duration": 408,
    "start_time": "2023-07-19T10:14:26.093Z"
   },
   {
    "duration": 23,
    "start_time": "2023-07-19T10:14:26.502Z"
   },
   {
    "duration": 16,
    "start_time": "2023-07-19T10:17:07.069Z"
   },
   {
    "duration": 2100,
    "start_time": "2023-07-19T14:14:01.717Z"
   },
   {
    "duration": 277,
    "start_time": "2023-07-19T14:14:03.821Z"
   },
   {
    "duration": 23,
    "start_time": "2023-07-19T14:14:04.101Z"
   },
   {
    "duration": 79,
    "start_time": "2023-07-19T14:14:04.130Z"
   },
   {
    "duration": 81,
    "start_time": "2023-07-19T14:14:04.212Z"
   },
   {
    "duration": 83,
    "start_time": "2023-07-19T14:14:04.296Z"
   },
   {
    "duration": 93,
    "start_time": "2023-07-19T14:14:04.390Z"
   },
   {
    "duration": 20,
    "start_time": "2023-07-19T14:14:04.486Z"
   },
   {
    "duration": 77,
    "start_time": "2023-07-19T14:14:04.509Z"
   },
   {
    "duration": 108,
    "start_time": "2023-07-19T14:14:04.588Z"
   },
   {
    "duration": 88,
    "start_time": "2023-07-19T14:14:04.699Z"
   },
   {
    "duration": 116,
    "start_time": "2023-07-19T14:14:04.790Z"
   },
   {
    "duration": 147,
    "start_time": "2023-07-19T14:14:04.909Z"
   },
   {
    "duration": 106,
    "start_time": "2023-07-19T14:14:05.067Z"
   },
   {
    "duration": 127,
    "start_time": "2023-07-19T14:14:05.174Z"
   },
   {
    "duration": 106,
    "start_time": "2023-07-19T14:14:05.308Z"
   },
   {
    "duration": 168,
    "start_time": "2023-07-19T14:14:05.418Z"
   },
   {
    "duration": 195,
    "start_time": "2023-07-19T14:14:05.589Z"
   },
   {
    "duration": 50,
    "start_time": "2023-07-19T14:14:05.788Z"
   },
   {
    "duration": 115,
    "start_time": "2023-07-19T14:14:05.840Z"
   },
   {
    "duration": 51,
    "start_time": "2023-07-19T14:14:05.958Z"
   },
   {
    "duration": 283,
    "start_time": "2023-07-19T14:14:06.012Z"
   },
   {
    "duration": 201,
    "start_time": "2023-07-19T14:14:06.298Z"
   },
   {
    "duration": 8,
    "start_time": "2023-07-19T14:14:06.502Z"
   },
   {
    "duration": 87,
    "start_time": "2023-07-19T14:14:06.512Z"
   },
   {
    "duration": 61,
    "start_time": "2023-07-19T14:14:06.601Z"
   },
   {
    "duration": 39,
    "start_time": "2023-07-19T14:14:06.664Z"
   },
   {
    "duration": 85,
    "start_time": "2023-07-19T14:14:06.705Z"
   },
   {
    "duration": 485,
    "start_time": "2023-07-19T14:14:06.793Z"
   },
   {
    "duration": 284,
    "start_time": "2023-07-19T14:14:07.280Z"
   },
   {
    "duration": 8,
    "start_time": "2023-07-19T14:14:07.566Z"
   },
   {
    "duration": 483,
    "start_time": "2023-07-19T14:14:07.576Z"
   },
   {
    "duration": 11,
    "start_time": "2023-07-19T14:14:08.061Z"
   },
   {
    "duration": 10,
    "start_time": "2023-07-19T14:14:08.082Z"
   },
   {
    "duration": 43,
    "start_time": "2023-07-19T14:14:08.094Z"
   },
   {
    "duration": 258,
    "start_time": "2023-07-19T14:14:08.145Z"
   },
   {
    "duration": 24,
    "start_time": "2023-07-19T14:14:08.406Z"
   },
   {
    "duration": 59,
    "start_time": "2023-07-19T14:14:08.436Z"
   },
   {
    "duration": 565,
    "start_time": "2023-07-19T14:14:08.498Z"
   },
   {
    "duration": 17,
    "start_time": "2023-07-19T14:14:09.065Z"
   },
   {
    "duration": 18,
    "start_time": "2023-07-19T14:14:09.089Z"
   },
   {
    "duration": 207,
    "start_time": "2023-07-19T14:14:09.109Z"
   },
   {
    "duration": 219,
    "start_time": "2023-07-19T14:14:09.323Z"
   },
   {
    "duration": 12,
    "start_time": "2023-07-19T14:14:09.550Z"
   },
   {
    "duration": 268,
    "start_time": "2023-07-19T14:14:09.568Z"
   },
   {
    "duration": 251,
    "start_time": "2023-07-19T14:14:09.841Z"
   },
   {
    "duration": 6,
    "start_time": "2023-07-19T14:14:10.094Z"
   },
   {
    "duration": 157,
    "start_time": "2023-07-19T14:14:10.102Z"
   },
   {
    "duration": 6,
    "start_time": "2023-07-19T14:14:10.260Z"
   },
   {
    "duration": 118,
    "start_time": "2023-07-19T14:14:10.268Z"
   },
   {
    "duration": 3,
    "start_time": "2023-07-19T14:14:10.389Z"
   },
   {
    "duration": 97,
    "start_time": "2023-07-19T14:14:10.395Z"
   },
   {
    "duration": 119,
    "start_time": "2023-07-19T14:14:10.495Z"
   },
   {
    "duration": 839,
    "start_time": "2023-07-19T14:14:10.616Z"
   },
   {
    "duration": 16,
    "start_time": "2023-07-19T14:14:11.459Z"
   },
   {
    "duration": 132,
    "start_time": "2023-07-19T14:14:11.477Z"
   },
   {
    "duration": 154,
    "start_time": "2023-07-19T14:14:11.615Z"
   },
   {
    "duration": 77,
    "start_time": "2023-07-19T14:14:11.771Z"
   },
   {
    "duration": 213,
    "start_time": "2023-07-19T14:14:11.851Z"
   },
   {
    "duration": 66,
    "start_time": "2023-07-19T14:14:12.066Z"
   },
   {
    "duration": 85,
    "start_time": "2023-07-19T14:14:12.135Z"
   },
   {
    "duration": 993,
    "start_time": "2023-07-19T14:14:12.233Z"
   },
   {
    "duration": 42,
    "start_time": "2023-07-19T14:14:13.228Z"
   },
   {
    "duration": 17,
    "start_time": "2023-07-19T14:15:51.352Z"
   },
   {
    "duration": 8,
    "start_time": "2023-07-19T14:16:37.659Z"
   },
   {
    "duration": 5,
    "start_time": "2023-07-19T14:16:48.000Z"
   },
   {
    "duration": 1244,
    "start_time": "2023-07-19T14:18:57.041Z"
   },
   {
    "duration": 81,
    "start_time": "2023-07-19T14:18:58.287Z"
   },
   {
    "duration": 11,
    "start_time": "2023-07-19T14:18:58.370Z"
   },
   {
    "duration": 82,
    "start_time": "2023-07-19T14:18:58.383Z"
   },
   {
    "duration": 31,
    "start_time": "2023-07-19T14:18:58.467Z"
   },
   {
    "duration": 3,
    "start_time": "2023-07-19T14:18:58.500Z"
   },
   {
    "duration": 13,
    "start_time": "2023-07-19T14:18:58.505Z"
   },
   {
    "duration": 22,
    "start_time": "2023-07-19T14:18:58.519Z"
   },
   {
    "duration": 12,
    "start_time": "2023-07-19T14:18:58.543Z"
   },
   {
    "duration": 19,
    "start_time": "2023-07-19T14:18:58.559Z"
   },
   {
    "duration": 24,
    "start_time": "2023-07-19T14:18:58.581Z"
   },
   {
    "duration": 28,
    "start_time": "2023-07-19T14:18:58.608Z"
   },
   {
    "duration": 18,
    "start_time": "2023-07-19T14:18:58.638Z"
   },
   {
    "duration": 10,
    "start_time": "2023-07-19T14:18:58.657Z"
   },
   {
    "duration": 16,
    "start_time": "2023-07-19T14:18:58.669Z"
   },
   {
    "duration": 9,
    "start_time": "2023-07-19T14:18:58.686Z"
   },
   {
    "duration": 8,
    "start_time": "2023-07-19T14:18:58.696Z"
   },
   {
    "duration": 9,
    "start_time": "2023-07-19T14:18:58.705Z"
   },
   {
    "duration": 26,
    "start_time": "2023-07-19T14:18:58.716Z"
   },
   {
    "duration": 10,
    "start_time": "2023-07-19T14:18:58.744Z"
   },
   {
    "duration": 15,
    "start_time": "2023-07-19T14:18:58.756Z"
   },
   {
    "duration": 179,
    "start_time": "2023-07-19T14:18:58.772Z"
   },
   {
    "duration": 142,
    "start_time": "2023-07-19T14:18:58.952Z"
   },
   {
    "duration": 9,
    "start_time": "2023-07-19T14:18:59.096Z"
   },
   {
    "duration": 32,
    "start_time": "2023-07-19T14:18:59.107Z"
   },
   {
    "duration": 15,
    "start_time": "2023-07-19T14:18:59.141Z"
   },
   {
    "duration": 9,
    "start_time": "2023-07-19T14:18:59.157Z"
   },
   {
    "duration": 6,
    "start_time": "2023-07-19T14:18:59.170Z"
   },
   {
    "duration": 300,
    "start_time": "2023-07-19T14:18:59.177Z"
   },
   {
    "duration": 220,
    "start_time": "2023-07-19T14:18:59.479Z"
   },
   {
    "duration": 6,
    "start_time": "2023-07-19T14:18:59.700Z"
   },
   {
    "duration": 313,
    "start_time": "2023-07-19T14:18:59.707Z"
   },
   {
    "duration": 6,
    "start_time": "2023-07-19T14:19:00.022Z"
   },
   {
    "duration": 47,
    "start_time": "2023-07-19T14:19:00.030Z"
   },
   {
    "duration": 70,
    "start_time": "2023-07-19T14:19:00.079Z"
   },
   {
    "duration": 229,
    "start_time": "2023-07-19T14:19:00.150Z"
   },
   {
    "duration": 8,
    "start_time": "2023-07-19T14:19:00.381Z"
   },
   {
    "duration": 46,
    "start_time": "2023-07-19T14:19:00.390Z"
   },
   {
    "duration": 411,
    "start_time": "2023-07-19T14:19:00.438Z"
   },
   {
    "duration": 7,
    "start_time": "2023-07-19T14:19:00.851Z"
   },
   {
    "duration": 60,
    "start_time": "2023-07-19T14:19:00.859Z"
   },
   {
    "duration": 238,
    "start_time": "2023-07-19T14:19:00.923Z"
   },
   {
    "duration": 177,
    "start_time": "2023-07-19T14:19:01.162Z"
   },
   {
    "duration": 103,
    "start_time": "2023-07-19T14:19:01.342Z"
   },
   {
    "duration": 349,
    "start_time": "2023-07-19T14:19:01.447Z"
   },
   {
    "duration": 223,
    "start_time": "2023-07-19T14:19:01.798Z"
   },
   {
    "duration": 196,
    "start_time": "2023-07-19T14:19:02.023Z"
   },
   {
    "duration": 154,
    "start_time": "2023-07-19T14:19:02.224Z"
   },
   {
    "duration": 168,
    "start_time": "2023-07-19T14:19:02.380Z"
   },
   {
    "duration": 207,
    "start_time": "2023-07-19T14:19:02.551Z"
   },
   {
    "duration": 123,
    "start_time": "2023-07-19T14:19:02.759Z"
   },
   {
    "duration": 59,
    "start_time": "2023-07-19T14:19:02.884Z"
   },
   {
    "duration": 58,
    "start_time": "2023-07-19T14:19:02.945Z"
   },
   {
    "duration": 468,
    "start_time": "2023-07-19T14:19:03.005Z"
   },
   {
    "duration": 95,
    "start_time": "2023-07-19T14:19:03.474Z"
   },
   {
    "duration": 29,
    "start_time": "2023-07-19T14:19:03.570Z"
   },
   {
    "duration": 45,
    "start_time": "2023-07-19T14:19:03.601Z"
   },
   {
    "duration": 34,
    "start_time": "2023-07-19T14:19:03.647Z"
   },
   {
    "duration": 28,
    "start_time": "2023-07-19T14:19:03.683Z"
   },
   {
    "duration": 50,
    "start_time": "2023-07-19T14:19:03.713Z"
   },
   {
    "duration": 26,
    "start_time": "2023-07-19T14:19:03.764Z"
   },
   {
    "duration": 474,
    "start_time": "2023-07-19T14:19:03.793Z"
   },
   {
    "duration": 16,
    "start_time": "2023-07-19T14:19:04.269Z"
   },
   {
    "duration": 4,
    "start_time": "2023-07-19T14:25:48.835Z"
   },
   {
    "duration": 5,
    "start_time": "2023-07-19T14:25:49.553Z"
   },
   {
    "duration": 195,
    "start_time": "2023-07-19T14:34:06.841Z"
   },
   {
    "duration": 273,
    "start_time": "2023-07-19T14:35:16.812Z"
   },
   {
    "duration": 228,
    "start_time": "2023-07-19T14:37:51.482Z"
   },
   {
    "duration": 237,
    "start_time": "2023-07-19T14:39:59.813Z"
   },
   {
    "duration": 309,
    "start_time": "2023-07-19T14:41:39.489Z"
   },
   {
    "duration": 310,
    "start_time": "2023-07-19T14:41:45.353Z"
   },
   {
    "duration": 332,
    "start_time": "2023-07-19T14:43:59.826Z"
   },
   {
    "duration": 377,
    "start_time": "2023-07-19T14:45:08.145Z"
   },
   {
    "duration": 337,
    "start_time": "2023-07-19T14:50:17.576Z"
   },
   {
    "duration": 359,
    "start_time": "2023-07-19T14:50:44.571Z"
   },
   {
    "duration": 332,
    "start_time": "2023-07-19T14:50:53.061Z"
   },
   {
    "duration": 236,
    "start_time": "2023-07-19T15:00:51.660Z"
   },
   {
    "duration": 187,
    "start_time": "2023-07-19T15:02:11.363Z"
   },
   {
    "duration": 1245,
    "start_time": "2023-07-19T15:03:12.049Z"
   },
   {
    "duration": 90,
    "start_time": "2023-07-19T15:03:13.296Z"
   },
   {
    "duration": 13,
    "start_time": "2023-07-19T15:03:13.388Z"
   },
   {
    "duration": 24,
    "start_time": "2023-07-19T15:03:13.403Z"
   },
   {
    "duration": 39,
    "start_time": "2023-07-19T15:03:13.431Z"
   },
   {
    "duration": 27,
    "start_time": "2023-07-19T15:03:13.472Z"
   },
   {
    "duration": 45,
    "start_time": "2023-07-19T15:03:13.501Z"
   },
   {
    "duration": 34,
    "start_time": "2023-07-19T15:03:13.549Z"
   },
   {
    "duration": 25,
    "start_time": "2023-07-19T15:03:13.584Z"
   },
   {
    "duration": 48,
    "start_time": "2023-07-19T15:03:13.610Z"
   },
   {
    "duration": 34,
    "start_time": "2023-07-19T15:03:13.660Z"
   },
   {
    "duration": 41,
    "start_time": "2023-07-19T15:03:13.696Z"
   },
   {
    "duration": 29,
    "start_time": "2023-07-19T15:03:13.739Z"
   },
   {
    "duration": 39,
    "start_time": "2023-07-19T15:03:13.771Z"
   },
   {
    "duration": 43,
    "start_time": "2023-07-19T15:03:13.812Z"
   },
   {
    "duration": 39,
    "start_time": "2023-07-19T15:03:13.857Z"
   },
   {
    "duration": 21,
    "start_time": "2023-07-19T15:03:13.898Z"
   },
   {
    "duration": 20,
    "start_time": "2023-07-19T15:03:13.933Z"
   },
   {
    "duration": 39,
    "start_time": "2023-07-19T15:03:13.955Z"
   },
   {
    "duration": 64,
    "start_time": "2023-07-19T15:03:13.996Z"
   },
   {
    "duration": 20,
    "start_time": "2023-07-19T15:03:14.061Z"
   },
   {
    "duration": 187,
    "start_time": "2023-07-19T15:03:14.083Z"
   },
   {
    "duration": 141,
    "start_time": "2023-07-19T15:03:14.271Z"
   },
   {
    "duration": 28,
    "start_time": "2023-07-19T15:03:14.414Z"
   },
   {
    "duration": 28,
    "start_time": "2023-07-19T15:03:14.444Z"
   },
   {
    "duration": 52,
    "start_time": "2023-07-19T15:03:14.474Z"
   },
   {
    "duration": 30,
    "start_time": "2023-07-19T15:03:14.528Z"
   },
   {
    "duration": 33,
    "start_time": "2023-07-19T15:03:14.559Z"
   },
   {
    "duration": 414,
    "start_time": "2023-07-19T15:03:14.594Z"
   },
   {
    "duration": 270,
    "start_time": "2023-07-19T15:03:15.011Z"
   },
   {
    "duration": 7,
    "start_time": "2023-07-19T15:03:15.283Z"
   },
   {
    "duration": 379,
    "start_time": "2023-07-19T15:03:15.293Z"
   },
   {
    "duration": 4,
    "start_time": "2023-07-19T15:03:15.675Z"
   },
   {
    "duration": 33,
    "start_time": "2023-07-19T15:03:15.681Z"
   },
   {
    "duration": 43,
    "start_time": "2023-07-19T15:03:15.716Z"
   },
   {
    "duration": 236,
    "start_time": "2023-07-19T15:03:15.760Z"
   },
   {
    "duration": 8,
    "start_time": "2023-07-19T15:03:15.999Z"
   },
   {
    "duration": 49,
    "start_time": "2023-07-19T15:03:16.009Z"
   },
   {
    "duration": 317,
    "start_time": "2023-07-19T15:03:16.060Z"
   },
   {
    "duration": 8,
    "start_time": "2023-07-19T15:03:16.379Z"
   },
   {
    "duration": 15,
    "start_time": "2023-07-19T15:03:16.391Z"
   },
   {
    "duration": 172,
    "start_time": "2023-07-19T15:03:16.407Z"
   },
   {
    "duration": 191,
    "start_time": "2023-07-19T15:03:16.582Z"
   },
   {
    "duration": 4,
    "start_time": "2023-07-19T15:03:16.775Z"
   },
   {
    "duration": 193,
    "start_time": "2023-07-19T15:03:16.782Z"
   },
   {
    "duration": 176,
    "start_time": "2023-07-19T15:03:16.976Z"
   },
   {
    "duration": 4,
    "start_time": "2023-07-19T15:03:17.154Z"
   },
   {
    "duration": 78,
    "start_time": "2023-07-19T15:03:17.160Z"
   },
   {
    "duration": 3,
    "start_time": "2023-07-19T15:03:17.241Z"
   },
   {
    "duration": 94,
    "start_time": "2023-07-19T15:03:17.245Z"
   },
   {
    "duration": 3,
    "start_time": "2023-07-19T15:03:17.341Z"
   },
   {
    "duration": 31,
    "start_time": "2023-07-19T15:03:17.346Z"
   },
   {
    "duration": 15,
    "start_time": "2023-07-19T15:03:17.379Z"
   },
   {
    "duration": 402,
    "start_time": "2023-07-19T15:03:17.396Z"
   },
   {
    "duration": 30,
    "start_time": "2023-07-19T15:03:17.800Z"
   },
   {
    "duration": 14,
    "start_time": "2023-07-19T15:03:17.833Z"
   },
   {
    "duration": 13,
    "start_time": "2023-07-19T15:03:17.850Z"
   },
   {
    "duration": 21,
    "start_time": "2023-07-19T15:03:17.865Z"
   },
   {
    "duration": 115,
    "start_time": "2023-07-19T15:03:17.888Z"
   },
   {
    "duration": 31,
    "start_time": "2023-07-19T15:03:18.005Z"
   },
   {
    "duration": 37,
    "start_time": "2023-07-19T15:03:18.038Z"
   },
   {
    "duration": 388,
    "start_time": "2023-07-19T15:03:18.077Z"
   },
   {
    "duration": 14,
    "start_time": "2023-07-19T15:03:18.467Z"
   },
   {
    "duration": 10,
    "start_time": "2023-07-19T15:04:28.356Z"
   },
   {
    "duration": 7,
    "start_time": "2023-07-19T15:04:46.058Z"
   },
   {
    "duration": 3,
    "start_time": "2023-07-19T15:11:17.019Z"
   },
   {
    "duration": 1158,
    "start_time": "2023-07-19T15:11:29.312Z"
   },
   {
    "duration": 75,
    "start_time": "2023-07-19T15:11:30.472Z"
   },
   {
    "duration": 39,
    "start_time": "2023-07-19T15:11:30.549Z"
   },
   {
    "duration": 55,
    "start_time": "2023-07-19T15:11:30.590Z"
   },
   {
    "duration": 52,
    "start_time": "2023-07-19T15:11:30.647Z"
   },
   {
    "duration": 42,
    "start_time": "2023-07-19T15:11:30.701Z"
   },
   {
    "duration": 111,
    "start_time": "2023-07-19T15:11:30.745Z"
   },
   {
    "duration": 52,
    "start_time": "2023-07-19T15:11:30.858Z"
   },
   {
    "duration": 24,
    "start_time": "2023-07-19T15:11:30.911Z"
   },
   {
    "duration": 38,
    "start_time": "2023-07-19T15:11:30.937Z"
   },
   {
    "duration": 41,
    "start_time": "2023-07-19T15:11:30.977Z"
   },
   {
    "duration": 70,
    "start_time": "2023-07-19T15:11:31.020Z"
   },
   {
    "duration": 57,
    "start_time": "2023-07-19T15:11:31.092Z"
   },
   {
    "duration": 24,
    "start_time": "2023-07-19T15:11:31.152Z"
   },
   {
    "duration": 55,
    "start_time": "2023-07-19T15:11:31.178Z"
   },
   {
    "duration": 55,
    "start_time": "2023-07-19T15:11:31.234Z"
   },
   {
    "duration": 52,
    "start_time": "2023-07-19T15:11:31.291Z"
   },
   {
    "duration": 38,
    "start_time": "2023-07-19T15:11:31.345Z"
   },
   {
    "duration": 40,
    "start_time": "2023-07-19T15:11:31.385Z"
   },
   {
    "duration": 39,
    "start_time": "2023-07-19T15:11:31.427Z"
   },
   {
    "duration": 48,
    "start_time": "2023-07-19T15:11:31.468Z"
   },
   {
    "duration": 22,
    "start_time": "2023-07-19T15:11:31.518Z"
   },
   {
    "duration": 185,
    "start_time": "2023-07-19T15:11:31.541Z"
   },
   {
    "duration": 126,
    "start_time": "2023-07-19T15:11:31.728Z"
   },
   {
    "duration": 6,
    "start_time": "2023-07-19T15:11:31.856Z"
   },
   {
    "duration": 42,
    "start_time": "2023-07-19T15:11:31.863Z"
   },
   {
    "duration": 26,
    "start_time": "2023-07-19T15:11:31.907Z"
   },
   {
    "duration": 19,
    "start_time": "2023-07-19T15:11:31.934Z"
   },
   {
    "duration": 22,
    "start_time": "2023-07-19T15:11:31.954Z"
   },
   {
    "duration": 297,
    "start_time": "2023-07-19T15:11:31.978Z"
   },
   {
    "duration": 219,
    "start_time": "2023-07-19T15:11:32.277Z"
   },
   {
    "duration": 5,
    "start_time": "2023-07-19T15:11:32.497Z"
   },
   {
    "duration": 332,
    "start_time": "2023-07-19T15:11:32.504Z"
   },
   {
    "duration": 7,
    "start_time": "2023-07-19T15:11:32.838Z"
   },
   {
    "duration": 22,
    "start_time": "2023-07-19T15:11:32.847Z"
   },
   {
    "duration": 38,
    "start_time": "2023-07-19T15:11:32.870Z"
   },
   {
    "duration": 236,
    "start_time": "2023-07-19T15:11:32.909Z"
   },
   {
    "duration": 8,
    "start_time": "2023-07-19T15:11:33.147Z"
   },
   {
    "duration": 27,
    "start_time": "2023-07-19T15:11:33.156Z"
   },
   {
    "duration": 359,
    "start_time": "2023-07-19T15:11:33.185Z"
   },
   {
    "duration": 7,
    "start_time": "2023-07-19T15:11:33.548Z"
   },
   {
    "duration": 18,
    "start_time": "2023-07-19T15:11:33.556Z"
   },
   {
    "duration": 38,
    "start_time": "2023-07-19T15:11:33.575Z"
   },
   {
    "duration": 145,
    "start_time": "2023-07-19T15:11:33.615Z"
   },
   {
    "duration": 179,
    "start_time": "2023-07-19T15:11:33.762Z"
   },
   {
    "duration": 4,
    "start_time": "2023-07-19T15:11:33.943Z"
   },
   {
    "duration": 149,
    "start_time": "2023-07-19T15:11:33.949Z"
   },
   {
    "duration": 143,
    "start_time": "2023-07-19T15:11:34.100Z"
   },
   {
    "duration": 5,
    "start_time": "2023-07-19T15:11:34.244Z"
   },
   {
    "duration": 72,
    "start_time": "2023-07-19T15:11:34.251Z"
   },
   {
    "duration": 3,
    "start_time": "2023-07-19T15:11:34.324Z"
   },
   {
    "duration": 72,
    "start_time": "2023-07-19T15:11:34.329Z"
   },
   {
    "duration": 3,
    "start_time": "2023-07-19T15:11:34.403Z"
   },
   {
    "duration": 14,
    "start_time": "2023-07-19T15:11:34.420Z"
   },
   {
    "duration": 13,
    "start_time": "2023-07-19T15:11:34.435Z"
   },
   {
    "duration": 390,
    "start_time": "2023-07-19T15:11:34.450Z"
   },
   {
    "duration": 14,
    "start_time": "2023-07-19T15:11:34.842Z"
   },
   {
    "duration": 11,
    "start_time": "2023-07-19T15:11:34.858Z"
   },
   {
    "duration": 14,
    "start_time": "2023-07-19T15:11:34.871Z"
   },
   {
    "duration": 8,
    "start_time": "2023-07-19T15:11:34.888Z"
   },
   {
    "duration": 98,
    "start_time": "2023-07-19T15:11:34.898Z"
   },
   {
    "duration": 17,
    "start_time": "2023-07-19T15:11:34.998Z"
   },
   {
    "duration": 13,
    "start_time": "2023-07-19T15:11:35.021Z"
   },
   {
    "duration": 375,
    "start_time": "2023-07-19T15:11:35.036Z"
   },
   {
    "duration": 16,
    "start_time": "2023-07-19T15:11:35.413Z"
   },
   {
    "duration": 4,
    "start_time": "2023-07-19T15:14:37.648Z"
   },
   {
    "duration": 1249,
    "start_time": "2023-07-19T15:20:04.787Z"
   },
   {
    "duration": 75,
    "start_time": "2023-07-19T15:20:06.038Z"
   },
   {
    "duration": 28,
    "start_time": "2023-07-19T15:20:06.115Z"
   },
   {
    "duration": 106,
    "start_time": "2023-07-19T15:20:06.146Z"
   },
   {
    "duration": 73,
    "start_time": "2023-07-19T15:20:06.255Z"
   },
   {
    "duration": 96,
    "start_time": "2023-07-19T15:20:06.330Z"
   },
   {
    "duration": 86,
    "start_time": "2023-07-19T15:20:06.430Z"
   },
   {
    "duration": 32,
    "start_time": "2023-07-19T15:20:06.518Z"
   },
   {
    "duration": 52,
    "start_time": "2023-07-19T15:20:06.551Z"
   },
   {
    "duration": 62,
    "start_time": "2023-07-19T15:20:06.605Z"
   },
   {
    "duration": 25,
    "start_time": "2023-07-19T15:20:06.669Z"
   },
   {
    "duration": 49,
    "start_time": "2023-07-19T15:20:06.695Z"
   },
   {
    "duration": 41,
    "start_time": "2023-07-19T15:20:06.745Z"
   },
   {
    "duration": 29,
    "start_time": "2023-07-19T15:20:06.789Z"
   },
   {
    "duration": 33,
    "start_time": "2023-07-19T15:20:06.819Z"
   },
   {
    "duration": 45,
    "start_time": "2023-07-19T15:20:06.854Z"
   },
   {
    "duration": 24,
    "start_time": "2023-07-19T15:20:06.900Z"
   },
   {
    "duration": 27,
    "start_time": "2023-07-19T15:20:06.933Z"
   },
   {
    "duration": 44,
    "start_time": "2023-07-19T15:20:06.961Z"
   },
   {
    "duration": 45,
    "start_time": "2023-07-19T15:20:07.006Z"
   },
   {
    "duration": 42,
    "start_time": "2023-07-19T15:20:07.053Z"
   },
   {
    "duration": 39,
    "start_time": "2023-07-19T15:20:07.097Z"
   },
   {
    "duration": 65,
    "start_time": "2023-07-19T15:20:07.138Z"
   },
   {
    "duration": 203,
    "start_time": "2023-07-19T15:20:07.205Z"
   },
   {
    "duration": 125,
    "start_time": "2023-07-19T15:20:07.411Z"
   },
   {
    "duration": 6,
    "start_time": "2023-07-19T15:20:07.538Z"
   },
   {
    "duration": 37,
    "start_time": "2023-07-19T15:20:07.545Z"
   },
   {
    "duration": 34,
    "start_time": "2023-07-19T15:20:07.584Z"
   },
   {
    "duration": 42,
    "start_time": "2023-07-19T15:20:07.620Z"
   },
   {
    "duration": 47,
    "start_time": "2023-07-19T15:20:07.664Z"
   },
   {
    "duration": 349,
    "start_time": "2023-07-19T15:20:07.713Z"
   },
   {
    "duration": 224,
    "start_time": "2023-07-19T15:20:08.064Z"
   },
   {
    "duration": 6,
    "start_time": "2023-07-19T15:20:08.289Z"
   },
   {
    "duration": 367,
    "start_time": "2023-07-19T15:20:08.296Z"
   },
   {
    "duration": 4,
    "start_time": "2023-07-19T15:20:08.665Z"
   },
   {
    "duration": 72,
    "start_time": "2023-07-19T15:20:08.671Z"
   },
   {
    "duration": 59,
    "start_time": "2023-07-19T15:20:08.745Z"
   },
   {
    "duration": 256,
    "start_time": "2023-07-19T15:20:08.805Z"
   },
   {
    "duration": 9,
    "start_time": "2023-07-19T15:20:09.063Z"
   },
   {
    "duration": 164,
    "start_time": "2023-07-19T15:20:09.075Z"
   },
   {
    "duration": 350,
    "start_time": "2023-07-19T15:20:09.243Z"
   },
   {
    "duration": 8,
    "start_time": "2023-07-19T15:20:09.594Z"
   },
   {
    "duration": 25,
    "start_time": "2023-07-19T15:20:09.604Z"
   },
   {
    "duration": 38,
    "start_time": "2023-07-19T15:20:09.630Z"
   },
   {
    "duration": 137,
    "start_time": "2023-07-19T15:20:09.670Z"
   },
   {
    "duration": 150,
    "start_time": "2023-07-19T15:20:09.809Z"
   },
   {
    "duration": 5,
    "start_time": "2023-07-19T15:20:09.961Z"
   },
   {
    "duration": 164,
    "start_time": "2023-07-19T15:20:09.968Z"
   },
   {
    "duration": 141,
    "start_time": "2023-07-19T15:20:10.134Z"
   },
   {
    "duration": 5,
    "start_time": "2023-07-19T15:20:10.276Z"
   },
   {
    "duration": 97,
    "start_time": "2023-07-19T15:20:10.282Z"
   },
   {
    "duration": 3,
    "start_time": "2023-07-19T15:20:10.380Z"
   },
   {
    "duration": 88,
    "start_time": "2023-07-19T15:20:10.384Z"
   },
   {
    "duration": 3,
    "start_time": "2023-07-19T15:20:10.473Z"
   },
   {
    "duration": 37,
    "start_time": "2023-07-19T15:20:10.477Z"
   },
   {
    "duration": 14,
    "start_time": "2023-07-19T15:20:10.515Z"
   },
   {
    "duration": 358,
    "start_time": "2023-07-19T15:20:10.531Z"
   },
   {
    "duration": 9,
    "start_time": "2023-07-19T15:20:10.891Z"
   },
   {
    "duration": 20,
    "start_time": "2023-07-19T15:20:10.902Z"
   },
   {
    "duration": 4,
    "start_time": "2023-07-19T15:20:10.923Z"
   },
   {
    "duration": 7,
    "start_time": "2023-07-19T15:20:10.929Z"
   },
   {
    "duration": 92,
    "start_time": "2023-07-19T15:20:10.938Z"
   },
   {
    "duration": 19,
    "start_time": "2023-07-19T15:20:11.032Z"
   },
   {
    "duration": 45,
    "start_time": "2023-07-19T15:20:11.053Z"
   },
   {
    "duration": 407,
    "start_time": "2023-07-19T15:20:11.100Z"
   },
   {
    "duration": 17,
    "start_time": "2023-07-19T15:20:11.508Z"
   },
   {
    "duration": 112,
    "start_time": "2023-07-19T15:23:20.779Z"
   },
   {
    "duration": 7,
    "start_time": "2023-07-19T15:23:37.858Z"
   },
   {
    "duration": 5,
    "start_time": "2023-07-19T15:23:52.610Z"
   },
   {
    "duration": 11,
    "start_time": "2023-07-19T15:23:55.021Z"
   },
   {
    "duration": 3,
    "start_time": "2023-07-19T15:24:14.850Z"
   },
   {
    "duration": 3,
    "start_time": "2023-07-19T15:24:15.258Z"
   },
   {
    "duration": 3,
    "start_time": "2023-07-19T15:24:15.698Z"
   },
   {
    "duration": 5,
    "start_time": "2023-07-19T15:27:51.460Z"
   },
   {
    "duration": 5,
    "start_time": "2023-07-19T15:27:57.313Z"
   },
   {
    "duration": 1206,
    "start_time": "2023-07-19T15:28:06.078Z"
   },
   {
    "duration": 85,
    "start_time": "2023-07-19T15:28:07.286Z"
   },
   {
    "duration": 13,
    "start_time": "2023-07-19T15:28:07.372Z"
   },
   {
    "duration": 31,
    "start_time": "2023-07-19T15:28:07.387Z"
   },
   {
    "duration": 54,
    "start_time": "2023-07-19T15:28:07.420Z"
   },
   {
    "duration": 11,
    "start_time": "2023-07-19T15:28:07.476Z"
   },
   {
    "duration": 26,
    "start_time": "2023-07-19T15:28:07.489Z"
   },
   {
    "duration": 37,
    "start_time": "2023-07-19T15:28:07.517Z"
   },
   {
    "duration": 31,
    "start_time": "2023-07-19T15:28:07.556Z"
   },
   {
    "duration": 51,
    "start_time": "2023-07-19T15:28:07.589Z"
   },
   {
    "duration": 72,
    "start_time": "2023-07-19T15:28:07.642Z"
   },
   {
    "duration": 46,
    "start_time": "2023-07-19T15:28:07.716Z"
   },
   {
    "duration": 30,
    "start_time": "2023-07-19T15:28:07.764Z"
   },
   {
    "duration": 17,
    "start_time": "2023-07-19T15:28:07.798Z"
   },
   {
    "duration": 31,
    "start_time": "2023-07-19T15:28:07.817Z"
   },
   {
    "duration": 46,
    "start_time": "2023-07-19T15:28:07.850Z"
   },
   {
    "duration": 50,
    "start_time": "2023-07-19T15:28:07.898Z"
   },
   {
    "duration": 23,
    "start_time": "2023-07-19T15:28:07.949Z"
   },
   {
    "duration": 12,
    "start_time": "2023-07-19T15:28:07.974Z"
   },
   {
    "duration": 29,
    "start_time": "2023-07-19T15:28:07.988Z"
   },
   {
    "duration": 56,
    "start_time": "2023-07-19T15:28:08.019Z"
   },
   {
    "duration": 27,
    "start_time": "2023-07-19T15:28:08.076Z"
   },
   {
    "duration": 30,
    "start_time": "2023-07-19T15:28:08.105Z"
   },
   {
    "duration": 19,
    "start_time": "2023-07-19T15:28:08.137Z"
   },
   {
    "duration": 194,
    "start_time": "2023-07-19T15:28:08.158Z"
   },
   {
    "duration": 132,
    "start_time": "2023-07-19T15:28:08.354Z"
   },
   {
    "duration": 6,
    "start_time": "2023-07-19T15:28:08.487Z"
   },
   {
    "duration": 60,
    "start_time": "2023-07-19T15:28:08.495Z"
   },
   {
    "duration": 33,
    "start_time": "2023-07-19T15:28:08.556Z"
   },
   {
    "duration": 27,
    "start_time": "2023-07-19T15:28:08.590Z"
   },
   {
    "duration": 42,
    "start_time": "2023-07-19T15:28:08.619Z"
   },
   {
    "duration": 369,
    "start_time": "2023-07-19T15:28:08.662Z"
   },
   {
    "duration": 251,
    "start_time": "2023-07-19T15:28:09.033Z"
   },
   {
    "duration": 8,
    "start_time": "2023-07-19T15:28:09.287Z"
   },
   {
    "duration": 378,
    "start_time": "2023-07-19T15:28:09.296Z"
   },
   {
    "duration": 4,
    "start_time": "2023-07-19T15:28:09.676Z"
   },
   {
    "duration": 8,
    "start_time": "2023-07-19T15:28:09.682Z"
   },
   {
    "duration": 10,
    "start_time": "2023-07-19T15:28:09.692Z"
   },
   {
    "duration": 250,
    "start_time": "2023-07-19T15:28:09.703Z"
   },
   {
    "duration": 9,
    "start_time": "2023-07-19T15:28:09.955Z"
   },
   {
    "duration": 11,
    "start_time": "2023-07-19T15:28:09.968Z"
   },
   {
    "duration": 390,
    "start_time": "2023-07-19T15:28:09.981Z"
   },
   {
    "duration": 8,
    "start_time": "2023-07-19T15:28:10.373Z"
   },
   {
    "duration": 12,
    "start_time": "2023-07-19T15:28:10.383Z"
   },
   {
    "duration": 42,
    "start_time": "2023-07-19T15:28:10.397Z"
   },
   {
    "duration": 150,
    "start_time": "2023-07-19T15:28:10.441Z"
   },
   {
    "duration": 165,
    "start_time": "2023-07-19T15:28:10.593Z"
   },
   {
    "duration": 5,
    "start_time": "2023-07-19T15:28:10.760Z"
   },
   {
    "duration": 166,
    "start_time": "2023-07-19T15:28:10.766Z"
   },
   {
    "duration": 149,
    "start_time": "2023-07-19T15:28:10.935Z"
   },
   {
    "duration": 5,
    "start_time": "2023-07-19T15:28:11.086Z"
   },
   {
    "duration": 93,
    "start_time": "2023-07-19T15:28:11.093Z"
   },
   {
    "duration": 3,
    "start_time": "2023-07-19T15:28:11.188Z"
   },
   {
    "duration": 100,
    "start_time": "2023-07-19T15:28:11.192Z"
   },
   {
    "duration": 3,
    "start_time": "2023-07-19T15:28:11.294Z"
   },
   {
    "duration": 34,
    "start_time": "2023-07-19T15:28:11.299Z"
   },
   {
    "duration": 14,
    "start_time": "2023-07-19T15:28:11.335Z"
   },
   {
    "duration": 423,
    "start_time": "2023-07-19T15:28:11.352Z"
   },
   {
    "duration": 12,
    "start_time": "2023-07-19T15:28:11.777Z"
   },
   {
    "duration": 14,
    "start_time": "2023-07-19T15:28:11.791Z"
   },
   {
    "duration": 28,
    "start_time": "2023-07-19T15:28:11.807Z"
   },
   {
    "duration": 18,
    "start_time": "2023-07-19T15:28:11.837Z"
   },
   {
    "duration": 99,
    "start_time": "2023-07-19T15:28:11.857Z"
   },
   {
    "duration": 50,
    "start_time": "2023-07-19T15:28:11.958Z"
   },
   {
    "duration": 27,
    "start_time": "2023-07-19T15:28:12.010Z"
   },
   {
    "duration": 440,
    "start_time": "2023-07-19T15:28:12.039Z"
   },
   {
    "duration": 15,
    "start_time": "2023-07-19T15:28:12.481Z"
   },
   {
    "duration": 5,
    "start_time": "2023-07-19T15:29:27.391Z"
   },
   {
    "duration": 6,
    "start_time": "2023-07-19T15:49:39.853Z"
   },
   {
    "duration": 107,
    "start_time": "2023-07-19T15:55:36.360Z"
   },
   {
    "duration": 16,
    "start_time": "2023-07-19T15:56:28.923Z"
   },
   {
    "duration": 17,
    "start_time": "2023-07-19T15:56:36.280Z"
   },
   {
    "duration": 4,
    "start_time": "2023-07-19T15:59:19.309Z"
   },
   {
    "duration": 1220,
    "start_time": "2023-07-19T15:59:34.797Z"
   },
   {
    "duration": 93,
    "start_time": "2023-07-19T15:59:36.018Z"
   },
   {
    "duration": 13,
    "start_time": "2023-07-19T15:59:36.113Z"
   },
   {
    "duration": 55,
    "start_time": "2023-07-19T15:59:36.129Z"
   },
   {
    "duration": 15,
    "start_time": "2023-07-19T15:59:36.186Z"
   },
   {
    "duration": 10,
    "start_time": "2023-07-19T15:59:36.202Z"
   },
   {
    "duration": 58,
    "start_time": "2023-07-19T15:59:36.214Z"
   },
   {
    "duration": 20,
    "start_time": "2023-07-19T15:59:36.273Z"
   },
   {
    "duration": 17,
    "start_time": "2023-07-19T15:59:36.294Z"
   },
   {
    "duration": 51,
    "start_time": "2023-07-19T15:59:36.312Z"
   },
   {
    "duration": 17,
    "start_time": "2023-07-19T15:59:36.364Z"
   },
   {
    "duration": 13,
    "start_time": "2023-07-19T15:59:36.383Z"
   },
   {
    "duration": 8,
    "start_time": "2023-07-19T15:59:36.397Z"
   },
   {
    "duration": 4,
    "start_time": "2023-07-19T15:59:36.407Z"
   },
   {
    "duration": 6,
    "start_time": "2023-07-19T15:59:36.413Z"
   },
   {
    "duration": 32,
    "start_time": "2023-07-19T15:59:36.422Z"
   },
   {
    "duration": 12,
    "start_time": "2023-07-19T15:59:36.455Z"
   },
   {
    "duration": 2,
    "start_time": "2023-07-19T15:59:36.469Z"
   },
   {
    "duration": 5,
    "start_time": "2023-07-19T15:59:36.472Z"
   },
   {
    "duration": 15,
    "start_time": "2023-07-19T15:59:36.479Z"
   },
   {
    "duration": 10,
    "start_time": "2023-07-19T15:59:36.495Z"
   },
   {
    "duration": 24,
    "start_time": "2023-07-19T15:59:36.507Z"
   },
   {
    "duration": 4,
    "start_time": "2023-07-19T15:59:36.533Z"
   },
   {
    "duration": 25,
    "start_time": "2023-07-19T15:59:36.538Z"
   },
   {
    "duration": 14,
    "start_time": "2023-07-19T15:59:36.564Z"
   },
   {
    "duration": 8,
    "start_time": "2023-07-19T15:59:36.579Z"
   },
   {
    "duration": 6,
    "start_time": "2023-07-19T15:59:36.589Z"
   },
   {
    "duration": 177,
    "start_time": "2023-07-19T15:59:36.596Z"
   },
   {
    "duration": 122,
    "start_time": "2023-07-19T15:59:36.775Z"
   },
   {
    "duration": 6,
    "start_time": "2023-07-19T15:59:36.898Z"
   },
   {
    "duration": 21,
    "start_time": "2023-07-19T15:59:36.905Z"
   },
   {
    "duration": 26,
    "start_time": "2023-07-19T15:59:36.928Z"
   },
   {
    "duration": 16,
    "start_time": "2023-07-19T15:59:36.955Z"
   },
   {
    "duration": 12,
    "start_time": "2023-07-19T15:59:36.973Z"
   },
   {
    "duration": 303,
    "start_time": "2023-07-19T15:59:36.987Z"
   },
   {
    "duration": 209,
    "start_time": "2023-07-19T15:59:37.291Z"
   },
   {
    "duration": 5,
    "start_time": "2023-07-19T15:59:37.501Z"
   },
   {
    "duration": 356,
    "start_time": "2023-07-19T15:59:37.508Z"
   },
   {
    "duration": 4,
    "start_time": "2023-07-19T15:59:37.865Z"
   },
   {
    "duration": 9,
    "start_time": "2023-07-19T15:59:37.871Z"
   },
   {
    "duration": 5,
    "start_time": "2023-07-19T15:59:37.883Z"
   },
   {
    "duration": 215,
    "start_time": "2023-07-19T15:59:37.889Z"
   },
   {
    "duration": 26,
    "start_time": "2023-07-19T15:59:38.106Z"
   },
   {
    "duration": 15,
    "start_time": "2023-07-19T15:59:38.140Z"
   },
   {
    "duration": 293,
    "start_time": "2023-07-19T15:59:38.157Z"
   },
   {
    "duration": 9,
    "start_time": "2023-07-19T15:59:38.451Z"
   },
   {
    "duration": 8,
    "start_time": "2023-07-19T15:59:38.461Z"
   },
   {
    "duration": 13,
    "start_time": "2023-07-19T15:59:38.470Z"
   },
   {
    "duration": 132,
    "start_time": "2023-07-19T15:59:38.484Z"
   },
   {
    "duration": 166,
    "start_time": "2023-07-19T15:59:38.618Z"
   },
   {
    "duration": 4,
    "start_time": "2023-07-19T15:59:38.786Z"
   },
   {
    "duration": 157,
    "start_time": "2023-07-19T15:59:38.792Z"
   },
   {
    "duration": 158,
    "start_time": "2023-07-19T15:59:38.951Z"
   },
   {
    "duration": 3,
    "start_time": "2023-07-19T15:59:39.111Z"
   },
   {
    "duration": 93,
    "start_time": "2023-07-19T15:59:39.116Z"
   },
   {
    "duration": 12,
    "start_time": "2023-07-19T15:59:39.211Z"
   },
   {
    "duration": 98,
    "start_time": "2023-07-19T15:59:39.232Z"
   },
   {
    "duration": 14,
    "start_time": "2023-07-19T15:59:39.333Z"
   },
   {
    "duration": 17,
    "start_time": "2023-07-19T15:59:39.349Z"
   },
   {
    "duration": 13,
    "start_time": "2023-07-19T15:59:39.368Z"
   },
   {
    "duration": 416,
    "start_time": "2023-07-19T15:59:39.383Z"
   },
   {
    "duration": 31,
    "start_time": "2023-07-19T15:59:39.801Z"
   },
   {
    "duration": 13,
    "start_time": "2023-07-19T15:59:39.835Z"
   },
   {
    "duration": 4,
    "start_time": "2023-07-19T15:59:39.853Z"
   },
   {
    "duration": 5,
    "start_time": "2023-07-19T15:59:39.859Z"
   },
   {
    "duration": 86,
    "start_time": "2023-07-19T15:59:39.866Z"
   },
   {
    "duration": 13,
    "start_time": "2023-07-19T15:59:39.954Z"
   },
   {
    "duration": 13,
    "start_time": "2023-07-19T15:59:39.969Z"
   },
   {
    "duration": 409,
    "start_time": "2023-07-19T15:59:39.983Z"
   },
   {
    "duration": 12,
    "start_time": "2023-07-19T15:59:40.393Z"
   },
   {
    "duration": 15,
    "start_time": "2023-07-19T16:00:59.755Z"
   },
   {
    "duration": 4,
    "start_time": "2023-07-19T16:01:03.863Z"
   },
   {
    "duration": 5,
    "start_time": "2023-07-19T16:01:11.165Z"
   },
   {
    "duration": 9,
    "start_time": "2023-07-19T16:01:15.257Z"
   },
   {
    "duration": 1352,
    "start_time": "2023-07-19T16:01:27.601Z"
   },
   {
    "duration": 91,
    "start_time": "2023-07-19T16:01:28.957Z"
   },
   {
    "duration": 15,
    "start_time": "2023-07-19T16:01:29.053Z"
   },
   {
    "duration": 3,
    "start_time": "2023-07-19T16:01:29.071Z"
   },
   {
    "duration": 28,
    "start_time": "2023-07-19T16:01:29.076Z"
   },
   {
    "duration": 42,
    "start_time": "2023-07-19T16:01:29.106Z"
   },
   {
    "duration": 43,
    "start_time": "2023-07-19T16:01:29.154Z"
   },
   {
    "duration": 30,
    "start_time": "2023-07-19T16:01:29.199Z"
   },
   {
    "duration": 46,
    "start_time": "2023-07-19T16:01:29.230Z"
   },
   {
    "duration": 24,
    "start_time": "2023-07-19T16:01:29.278Z"
   },
   {
    "duration": 41,
    "start_time": "2023-07-19T16:01:29.304Z"
   },
   {
    "duration": 48,
    "start_time": "2023-07-19T16:01:29.348Z"
   },
   {
    "duration": 58,
    "start_time": "2023-07-19T16:01:29.398Z"
   },
   {
    "duration": 15,
    "start_time": "2023-07-19T16:01:29.460Z"
   },
   {
    "duration": 17,
    "start_time": "2023-07-19T16:01:29.477Z"
   },
   {
    "duration": 14,
    "start_time": "2023-07-19T16:01:29.496Z"
   },
   {
    "duration": 61,
    "start_time": "2023-07-19T16:01:29.512Z"
   },
   {
    "duration": 37,
    "start_time": "2023-07-19T16:01:29.575Z"
   },
   {
    "duration": 64,
    "start_time": "2023-07-19T16:01:29.614Z"
   },
   {
    "duration": 31,
    "start_time": "2023-07-19T16:01:29.680Z"
   },
   {
    "duration": 61,
    "start_time": "2023-07-19T16:01:29.713Z"
   },
   {
    "duration": 30,
    "start_time": "2023-07-19T16:01:29.776Z"
   },
   {
    "duration": 45,
    "start_time": "2023-07-19T16:01:29.808Z"
   },
   {
    "duration": 31,
    "start_time": "2023-07-19T16:01:29.855Z"
   },
   {
    "duration": 15,
    "start_time": "2023-07-19T16:01:29.888Z"
   },
   {
    "duration": 11,
    "start_time": "2023-07-19T16:01:29.905Z"
   },
   {
    "duration": 44,
    "start_time": "2023-07-19T16:01:29.917Z"
   },
   {
    "duration": 219,
    "start_time": "2023-07-19T16:01:29.963Z"
   },
   {
    "duration": 150,
    "start_time": "2023-07-19T16:01:30.183Z"
   },
   {
    "duration": 83,
    "start_time": "2023-07-19T16:01:30.335Z"
   },
   {
    "duration": 65,
    "start_time": "2023-07-19T16:01:30.420Z"
   },
   {
    "duration": 65,
    "start_time": "2023-07-19T16:01:30.487Z"
   },
   {
    "duration": 80,
    "start_time": "2023-07-19T16:01:30.555Z"
   },
   {
    "duration": 211,
    "start_time": "2023-07-19T16:01:30.640Z"
   },
   {
    "duration": 448,
    "start_time": "2023-07-19T16:01:30.853Z"
   },
   {
    "duration": 265,
    "start_time": "2023-07-19T16:01:31.303Z"
   },
   {
    "duration": 10,
    "start_time": "2023-07-19T16:01:31.570Z"
   },
   {
    "duration": 386,
    "start_time": "2023-07-19T16:01:31.582Z"
   },
   {
    "duration": 4,
    "start_time": "2023-07-19T16:01:31.970Z"
   },
   {
    "duration": 77,
    "start_time": "2023-07-19T16:01:31.976Z"
   },
   {
    "duration": 53,
    "start_time": "2023-07-19T16:01:32.058Z"
   },
   {
    "duration": 271,
    "start_time": "2023-07-19T16:01:32.113Z"
   },
   {
    "duration": 9,
    "start_time": "2023-07-19T16:01:32.386Z"
   },
   {
    "duration": 82,
    "start_time": "2023-07-19T16:01:32.397Z"
   },
   {
    "duration": 418,
    "start_time": "2023-07-19T16:01:32.481Z"
   },
   {
    "duration": 8,
    "start_time": "2023-07-19T16:01:32.901Z"
   },
   {
    "duration": 89,
    "start_time": "2023-07-19T16:01:32.911Z"
   },
   {
    "duration": 74,
    "start_time": "2023-07-19T16:01:33.002Z"
   },
   {
    "duration": 174,
    "start_time": "2023-07-19T16:01:33.078Z"
   },
   {
    "duration": 158,
    "start_time": "2023-07-19T16:01:33.255Z"
   },
   {
    "duration": 8,
    "start_time": "2023-07-19T16:01:33.415Z"
   },
   {
    "duration": 177,
    "start_time": "2023-07-19T16:01:33.431Z"
   },
   {
    "duration": 164,
    "start_time": "2023-07-19T16:01:33.610Z"
   },
   {
    "duration": 4,
    "start_time": "2023-07-19T16:01:33.775Z"
   },
   {
    "duration": 100,
    "start_time": "2023-07-19T16:01:33.781Z"
   },
   {
    "duration": 23,
    "start_time": "2023-07-19T16:01:33.883Z"
   },
   {
    "duration": 87,
    "start_time": "2023-07-19T16:01:33.907Z"
   },
   {
    "duration": 52,
    "start_time": "2023-07-19T16:01:33.996Z"
   },
   {
    "duration": 66,
    "start_time": "2023-07-19T16:01:34.050Z"
   },
   {
    "duration": 66,
    "start_time": "2023-07-19T16:01:34.117Z"
   },
   {
    "duration": 431,
    "start_time": "2023-07-19T16:01:34.185Z"
   },
   {
    "duration": 19,
    "start_time": "2023-07-19T16:01:34.623Z"
   },
   {
    "duration": 151,
    "start_time": "2023-07-19T16:01:34.645Z"
   },
   {
    "duration": 17,
    "start_time": "2023-07-19T16:01:34.798Z"
   },
   {
    "duration": 56,
    "start_time": "2023-07-19T16:01:34.816Z"
   },
   {
    "duration": 117,
    "start_time": "2023-07-19T16:01:34.874Z"
   },
   {
    "duration": 63,
    "start_time": "2023-07-19T16:01:34.994Z"
   },
   {
    "duration": 54,
    "start_time": "2023-07-19T16:01:35.059Z"
   },
   {
    "duration": 560,
    "start_time": "2023-07-19T16:01:35.115Z"
   },
   {
    "duration": 14,
    "start_time": "2023-07-19T16:01:35.677Z"
   },
   {
    "duration": 1096,
    "start_time": "2023-07-19T16:06:55.788Z"
   },
   {
    "duration": 99,
    "start_time": "2023-07-19T16:06:56.886Z"
   },
   {
    "duration": 11,
    "start_time": "2023-07-19T16:06:56.987Z"
   },
   {
    "duration": 9,
    "start_time": "2023-07-19T16:06:56.999Z"
   },
   {
    "duration": 20,
    "start_time": "2023-07-19T16:06:57.011Z"
   },
   {
    "duration": 25,
    "start_time": "2023-07-19T16:06:57.033Z"
   },
   {
    "duration": 15,
    "start_time": "2023-07-19T16:06:57.060Z"
   },
   {
    "duration": 17,
    "start_time": "2023-07-19T16:06:57.077Z"
   },
   {
    "duration": 6,
    "start_time": "2023-07-19T16:06:57.096Z"
   },
   {
    "duration": 11,
    "start_time": "2023-07-19T16:06:57.103Z"
   },
   {
    "duration": 19,
    "start_time": "2023-07-19T16:06:57.115Z"
   },
   {
    "duration": 34,
    "start_time": "2023-07-19T16:06:57.136Z"
   },
   {
    "duration": 8,
    "start_time": "2023-07-19T16:06:57.172Z"
   },
   {
    "duration": 4,
    "start_time": "2023-07-19T16:06:57.184Z"
   },
   {
    "duration": 7,
    "start_time": "2023-07-19T16:06:57.189Z"
   },
   {
    "duration": 6,
    "start_time": "2023-07-19T16:06:57.198Z"
   },
   {
    "duration": 13,
    "start_time": "2023-07-19T16:06:57.205Z"
   },
   {
    "duration": 2,
    "start_time": "2023-07-19T16:06:57.221Z"
   },
   {
    "duration": 90,
    "start_time": "2023-07-19T16:06:57.226Z"
   },
   {
    "duration": 57,
    "start_time": "2023-07-19T16:06:57.318Z"
   },
   {
    "duration": 15,
    "start_time": "2023-07-19T16:06:57.377Z"
   },
   {
    "duration": 65,
    "start_time": "2023-07-19T16:06:57.393Z"
   },
   {
    "duration": 39,
    "start_time": "2023-07-19T16:06:57.459Z"
   },
   {
    "duration": 76,
    "start_time": "2023-07-19T16:06:57.500Z"
   },
   {
    "duration": 48,
    "start_time": "2023-07-19T16:06:57.578Z"
   },
   {
    "duration": 209,
    "start_time": "2023-07-19T16:06:57.627Z"
   },
   {
    "duration": 118,
    "start_time": "2023-07-19T16:06:57.837Z"
   },
   {
    "duration": 6,
    "start_time": "2023-07-19T16:06:57.957Z"
   },
   {
    "duration": 41,
    "start_time": "2023-07-19T16:06:57.964Z"
   },
   {
    "duration": 41,
    "start_time": "2023-07-19T16:06:58.007Z"
   },
   {
    "duration": 64,
    "start_time": "2023-07-19T16:06:58.050Z"
   },
   {
    "duration": 47,
    "start_time": "2023-07-19T16:06:58.116Z"
   },
   {
    "duration": 347,
    "start_time": "2023-07-19T16:06:58.165Z"
   },
   {
    "duration": 239,
    "start_time": "2023-07-19T16:06:58.514Z"
   },
   {
    "duration": 6,
    "start_time": "2023-07-19T16:06:58.755Z"
   },
   {
    "duration": 352,
    "start_time": "2023-07-19T16:06:58.762Z"
   },
   {
    "duration": 16,
    "start_time": "2023-07-19T16:06:59.116Z"
   },
   {
    "duration": 26,
    "start_time": "2023-07-19T16:06:59.143Z"
   },
   {
    "duration": 83,
    "start_time": "2023-07-19T16:06:59.172Z"
   },
   {
    "duration": 252,
    "start_time": "2023-07-19T16:06:59.257Z"
   },
   {
    "duration": 30,
    "start_time": "2023-07-19T16:06:59.513Z"
   },
   {
    "duration": 29,
    "start_time": "2023-07-19T16:06:59.545Z"
   },
   {
    "duration": 384,
    "start_time": "2023-07-19T16:06:59.575Z"
   },
   {
    "duration": 6,
    "start_time": "2023-07-19T16:06:59.961Z"
   },
   {
    "duration": 10,
    "start_time": "2023-07-19T16:06:59.969Z"
   },
   {
    "duration": 11,
    "start_time": "2023-07-19T16:06:59.980Z"
   },
   {
    "duration": 192,
    "start_time": "2023-07-19T16:06:59.992Z"
   },
   {
    "duration": 174,
    "start_time": "2023-07-19T16:07:00.186Z"
   },
   {
    "duration": 14,
    "start_time": "2023-07-19T16:07:00.362Z"
   },
   {
    "duration": 215,
    "start_time": "2023-07-19T16:07:00.378Z"
   },
   {
    "duration": 166,
    "start_time": "2023-07-19T16:07:00.595Z"
   },
   {
    "duration": 6,
    "start_time": "2023-07-19T16:07:00.762Z"
   },
   {
    "duration": 254,
    "start_time": "2023-07-19T16:07:00.769Z"
   },
   {
    "duration": 23,
    "start_time": "2023-07-19T16:07:01.032Z"
   },
   {
    "duration": 216,
    "start_time": "2023-07-19T16:07:01.057Z"
   },
   {
    "duration": 3,
    "start_time": "2023-07-19T16:07:01.275Z"
   },
   {
    "duration": 47,
    "start_time": "2023-07-19T16:07:01.279Z"
   },
   {
    "duration": 61,
    "start_time": "2023-07-19T16:07:01.328Z"
   },
   {
    "duration": 498,
    "start_time": "2023-07-19T16:07:01.391Z"
   },
   {
    "duration": 12,
    "start_time": "2023-07-19T16:07:01.890Z"
   },
   {
    "duration": 66,
    "start_time": "2023-07-19T16:07:01.904Z"
   },
   {
    "duration": 37,
    "start_time": "2023-07-19T16:07:01.971Z"
   },
   {
    "duration": 55,
    "start_time": "2023-07-19T16:07:02.010Z"
   },
   {
    "duration": 44,
    "start_time": "2023-07-19T16:07:02.067Z"
   },
   {
    "duration": 99,
    "start_time": "2023-07-19T16:07:02.113Z"
   },
   {
    "duration": 35,
    "start_time": "2023-07-19T16:07:02.215Z"
   },
   {
    "duration": 457,
    "start_time": "2023-07-19T16:07:02.252Z"
   },
   {
    "duration": 39,
    "start_time": "2023-07-19T16:07:02.710Z"
   },
   {
    "duration": 174,
    "start_time": "2023-07-19T16:08:32.703Z"
   },
   {
    "duration": 281,
    "start_time": "2023-07-19T16:08:47.502Z"
   },
   {
    "duration": 1352,
    "start_time": "2023-07-19T16:09:01.223Z"
   },
   {
    "duration": 87,
    "start_time": "2023-07-19T16:09:02.577Z"
   },
   {
    "duration": 13,
    "start_time": "2023-07-19T16:09:02.666Z"
   },
   {
    "duration": 8,
    "start_time": "2023-07-19T16:09:02.681Z"
   },
   {
    "duration": 35,
    "start_time": "2023-07-19T16:09:02.691Z"
   },
   {
    "duration": 12,
    "start_time": "2023-07-19T16:09:02.737Z"
   },
   {
    "duration": 236,
    "start_time": "2023-07-19T16:09:02.751Z"
   },
   {
    "duration": 77,
    "start_time": "2023-07-19T16:09:02.989Z"
   },
   {
    "duration": 57,
    "start_time": "2023-07-19T16:09:03.069Z"
   },
   {
    "duration": 68,
    "start_time": "2023-07-19T16:09:03.134Z"
   },
   {
    "duration": 49,
    "start_time": "2023-07-19T16:09:03.204Z"
   },
   {
    "duration": 44,
    "start_time": "2023-07-19T16:09:03.255Z"
   },
   {
    "duration": 57,
    "start_time": "2023-07-19T16:09:03.301Z"
   },
   {
    "duration": 30,
    "start_time": "2023-07-19T16:09:03.359Z"
   },
   {
    "duration": 78,
    "start_time": "2023-07-19T16:09:03.391Z"
   },
   {
    "duration": 32,
    "start_time": "2023-07-19T16:09:03.471Z"
   },
   {
    "duration": 40,
    "start_time": "2023-07-19T16:09:03.505Z"
   },
   {
    "duration": 51,
    "start_time": "2023-07-19T16:09:03.546Z"
   },
   {
    "duration": 67,
    "start_time": "2023-07-19T16:09:03.599Z"
   },
   {
    "duration": 37,
    "start_time": "2023-07-19T16:09:03.669Z"
   },
   {
    "duration": 40,
    "start_time": "2023-07-19T16:09:03.708Z"
   },
   {
    "duration": 85,
    "start_time": "2023-07-19T16:09:03.752Z"
   },
   {
    "duration": 43,
    "start_time": "2023-07-19T16:09:03.845Z"
   },
   {
    "duration": 24,
    "start_time": "2023-07-19T16:09:03.889Z"
   },
   {
    "duration": 55,
    "start_time": "2023-07-19T16:09:03.914Z"
   },
   {
    "duration": 222,
    "start_time": "2023-07-19T16:09:03.971Z"
   },
   {
    "duration": 135,
    "start_time": "2023-07-19T16:09:04.194Z"
   },
   {
    "duration": 8,
    "start_time": "2023-07-19T16:09:04.336Z"
   },
   {
    "duration": 10,
    "start_time": "2023-07-19T16:09:04.345Z"
   },
   {
    "duration": 36,
    "start_time": "2023-07-19T16:09:04.357Z"
   },
   {
    "duration": 36,
    "start_time": "2023-07-19T16:09:04.395Z"
   },
   {
    "duration": 38,
    "start_time": "2023-07-19T16:09:04.433Z"
   },
   {
    "duration": 382,
    "start_time": "2023-07-19T16:09:04.473Z"
   },
   {
    "duration": 262,
    "start_time": "2023-07-19T16:09:04.856Z"
   },
   {
    "duration": 14,
    "start_time": "2023-07-19T16:09:05.124Z"
   },
   {
    "duration": 451,
    "start_time": "2023-07-19T16:09:05.150Z"
   },
   {
    "duration": 5,
    "start_time": "2023-07-19T16:09:05.603Z"
   },
   {
    "duration": 70,
    "start_time": "2023-07-19T16:09:05.624Z"
   },
   {
    "duration": 66,
    "start_time": "2023-07-19T16:09:05.696Z"
   },
   {
    "duration": 259,
    "start_time": "2023-07-19T16:09:05.764Z"
   },
   {
    "duration": 16,
    "start_time": "2023-07-19T16:09:06.026Z"
   },
   {
    "duration": 45,
    "start_time": "2023-07-19T16:09:06.043Z"
   },
   {
    "duration": 380,
    "start_time": "2023-07-19T16:09:06.089Z"
   },
   {
    "duration": 7,
    "start_time": "2023-07-19T16:09:06.470Z"
   },
   {
    "duration": 78,
    "start_time": "2023-07-19T16:09:06.479Z"
   },
   {
    "duration": 20,
    "start_time": "2023-07-19T16:09:06.559Z"
   },
   {
    "duration": 144,
    "start_time": "2023-07-19T16:09:06.580Z"
   },
   {
    "duration": 166,
    "start_time": "2023-07-19T16:09:06.725Z"
   },
   {
    "duration": 4,
    "start_time": "2023-07-19T16:09:06.893Z"
   },
   {
    "duration": 199,
    "start_time": "2023-07-19T16:09:06.899Z"
   },
   {
    "duration": 296,
    "start_time": "2023-07-19T16:09:07.100Z"
   },
   {
    "duration": 4,
    "start_time": "2023-07-19T16:09:07.398Z"
   },
   {
    "duration": 113,
    "start_time": "2023-07-19T16:09:07.404Z"
   },
   {
    "duration": 8,
    "start_time": "2023-07-19T16:09:07.519Z"
   },
   {
    "duration": 143,
    "start_time": "2023-07-19T16:09:07.534Z"
   },
   {
    "duration": 3,
    "start_time": "2023-07-19T16:09:07.678Z"
   },
   {
    "duration": 30,
    "start_time": "2023-07-19T16:09:07.683Z"
   },
   {
    "duration": 56,
    "start_time": "2023-07-19T16:09:07.715Z"
   },
   {
    "duration": 428,
    "start_time": "2023-07-19T16:09:07.772Z"
   },
   {
    "duration": 24,
    "start_time": "2023-07-19T16:09:08.202Z"
   },
   {
    "duration": 103,
    "start_time": "2023-07-19T16:09:08.231Z"
   },
   {
    "duration": 65,
    "start_time": "2023-07-19T16:09:08.335Z"
   },
   {
    "duration": 158,
    "start_time": "2023-07-19T16:09:08.402Z"
   },
   {
    "duration": 33,
    "start_time": "2023-07-19T16:09:08.562Z"
   },
   {
    "duration": 94,
    "start_time": "2023-07-19T16:09:08.597Z"
   },
   {
    "duration": 365,
    "start_time": "2023-07-19T16:09:08.693Z"
   },
   {
    "duration": 519,
    "start_time": "2023-07-19T16:09:09.060Z"
   },
   {
    "duration": 15,
    "start_time": "2023-07-19T16:09:09.581Z"
   },
   {
    "duration": 178,
    "start_time": "2023-07-19T16:09:21.074Z"
   },
   {
    "duration": 186,
    "start_time": "2023-07-19T16:09:28.922Z"
   },
   {
    "duration": 193,
    "start_time": "2023-07-19T16:09:42.658Z"
   },
   {
    "duration": 151,
    "start_time": "2023-07-19T16:09:53.023Z"
   },
   {
    "duration": 117,
    "start_time": "2023-07-19T16:10:17.352Z"
   },
   {
    "duration": 171,
    "start_time": "2023-07-19T16:10:23.282Z"
   },
   {
    "duration": 173,
    "start_time": "2023-07-19T16:10:31.502Z"
   },
   {
    "duration": 163,
    "start_time": "2023-07-19T16:10:38.451Z"
   },
   {
    "duration": 479,
    "start_time": "2023-07-19T16:21:32.049Z"
   },
   {
    "duration": 437,
    "start_time": "2023-07-19T16:23:10.262Z"
   },
   {
    "duration": 400,
    "start_time": "2023-07-19T16:27:40.514Z"
   },
   {
    "duration": 489,
    "start_time": "2023-07-19T16:34:42.963Z"
   },
   {
    "duration": 15,
    "start_time": "2023-07-19T16:39:39.620Z"
   },
   {
    "duration": 11,
    "start_time": "2023-07-19T16:45:31.580Z"
   },
   {
    "duration": 3,
    "start_time": "2023-07-19T16:54:36.041Z"
   },
   {
    "duration": 11,
    "start_time": "2023-07-19T16:54:36.520Z"
   },
   {
    "duration": 5,
    "start_time": "2023-07-19T16:54:38.047Z"
   },
   {
    "duration": 518,
    "start_time": "2023-07-19T16:57:53.057Z"
   },
   {
    "duration": 172,
    "start_time": "2023-07-19T16:59:23.251Z"
   },
   {
    "duration": 182,
    "start_time": "2023-07-19T16:59:55.623Z"
   },
   {
    "duration": 13,
    "start_time": "2023-07-19T17:05:21.864Z"
   },
   {
    "duration": 12,
    "start_time": "2023-07-19T17:05:53.583Z"
   },
   {
    "duration": 1331,
    "start_time": "2023-07-19T17:18:47.060Z"
   },
   {
    "duration": 97,
    "start_time": "2023-07-19T17:18:48.394Z"
   },
   {
    "duration": 13,
    "start_time": "2023-07-19T17:18:48.492Z"
   },
   {
    "duration": 77,
    "start_time": "2023-07-19T17:18:48.507Z"
   },
   {
    "duration": 72,
    "start_time": "2023-07-19T17:18:48.586Z"
   },
   {
    "duration": 33,
    "start_time": "2023-07-19T17:18:48.660Z"
   },
   {
    "duration": 24,
    "start_time": "2023-07-19T17:18:48.694Z"
   },
   {
    "duration": 53,
    "start_time": "2023-07-19T17:18:48.720Z"
   },
   {
    "duration": 44,
    "start_time": "2023-07-19T17:18:48.775Z"
   },
   {
    "duration": 48,
    "start_time": "2023-07-19T17:18:48.820Z"
   },
   {
    "duration": 23,
    "start_time": "2023-07-19T17:18:48.870Z"
   },
   {
    "duration": 15,
    "start_time": "2023-07-19T17:18:48.895Z"
   },
   {
    "duration": 50,
    "start_time": "2023-07-19T17:18:48.912Z"
   },
   {
    "duration": 7,
    "start_time": "2023-07-19T17:18:48.966Z"
   },
   {
    "duration": 12,
    "start_time": "2023-07-19T17:18:48.975Z"
   },
   {
    "duration": 6,
    "start_time": "2023-07-19T17:18:48.988Z"
   },
   {
    "duration": 16,
    "start_time": "2023-07-19T17:18:48.995Z"
   },
   {
    "duration": 3,
    "start_time": "2023-07-19T17:18:49.013Z"
   },
   {
    "duration": 52,
    "start_time": "2023-07-19T17:18:49.018Z"
   },
   {
    "duration": 7,
    "start_time": "2023-07-19T17:18:49.072Z"
   },
   {
    "duration": 8,
    "start_time": "2023-07-19T17:18:49.082Z"
   },
   {
    "duration": 25,
    "start_time": "2023-07-19T17:18:49.092Z"
   },
   {
    "duration": 25,
    "start_time": "2023-07-19T17:18:49.119Z"
   },
   {
    "duration": 22,
    "start_time": "2023-07-19T17:18:49.148Z"
   },
   {
    "duration": 10,
    "start_time": "2023-07-19T17:18:49.172Z"
   },
   {
    "duration": 211,
    "start_time": "2023-07-19T17:18:49.184Z"
   },
   {
    "duration": 143,
    "start_time": "2023-07-19T17:18:49.397Z"
   },
   {
    "duration": 22,
    "start_time": "2023-07-19T17:18:49.543Z"
   },
   {
    "duration": 15,
    "start_time": "2023-07-19T17:18:49.567Z"
   },
   {
    "duration": 22,
    "start_time": "2023-07-19T17:18:49.583Z"
   },
   {
    "duration": 11,
    "start_time": "2023-07-19T17:18:49.606Z"
   },
   {
    "duration": 47,
    "start_time": "2023-07-19T17:18:49.619Z"
   },
   {
    "duration": 374,
    "start_time": "2023-07-19T17:18:49.668Z"
   },
   {
    "duration": 255,
    "start_time": "2023-07-19T17:18:50.051Z"
   },
   {
    "duration": 12,
    "start_time": "2023-07-19T17:18:50.308Z"
   },
   {
    "duration": 362,
    "start_time": "2023-07-19T17:18:50.322Z"
   },
   {
    "duration": 4,
    "start_time": "2023-07-19T17:18:50.686Z"
   },
   {
    "duration": 17,
    "start_time": "2023-07-19T17:18:50.692Z"
   },
   {
    "duration": 55,
    "start_time": "2023-07-19T17:18:50.711Z"
   },
   {
    "duration": 252,
    "start_time": "2023-07-19T17:18:50.769Z"
   },
   {
    "duration": 10,
    "start_time": "2023-07-19T17:18:51.036Z"
   },
   {
    "duration": 57,
    "start_time": "2023-07-19T17:18:51.048Z"
   },
   {
    "duration": 353,
    "start_time": "2023-07-19T17:18:51.107Z"
   },
   {
    "duration": 8,
    "start_time": "2023-07-19T17:18:51.461Z"
   },
   {
    "duration": 82,
    "start_time": "2023-07-19T17:18:51.470Z"
   },
   {
    "duration": 44,
    "start_time": "2023-07-19T17:18:51.554Z"
   },
   {
    "duration": 161,
    "start_time": "2023-07-19T17:18:51.600Z"
   },
   {
    "duration": 170,
    "start_time": "2023-07-19T17:18:51.763Z"
   },
   {
    "duration": 8,
    "start_time": "2023-07-19T17:18:51.943Z"
   },
   {
    "duration": 242,
    "start_time": "2023-07-19T17:18:51.953Z"
   },
   {
    "duration": 189,
    "start_time": "2023-07-19T17:18:52.197Z"
   },
   {
    "duration": 5,
    "start_time": "2023-07-19T17:18:52.388Z"
   },
   {
    "duration": 167,
    "start_time": "2023-07-19T17:18:52.395Z"
   },
   {
    "duration": 15,
    "start_time": "2023-07-19T17:18:52.563Z"
   },
   {
    "duration": 90,
    "start_time": "2023-07-19T17:18:52.580Z"
   },
   {
    "duration": 3,
    "start_time": "2023-07-19T17:18:52.672Z"
   },
   {
    "duration": 16,
    "start_time": "2023-07-19T17:18:52.677Z"
   },
   {
    "duration": 15,
    "start_time": "2023-07-19T17:18:52.694Z"
   },
   {
    "duration": 508,
    "start_time": "2023-07-19T17:18:52.722Z"
   },
   {
    "duration": 19,
    "start_time": "2023-07-19T17:18:53.231Z"
   },
   {
    "duration": 54,
    "start_time": "2023-07-19T17:18:53.252Z"
   },
   {
    "duration": 61,
    "start_time": "2023-07-19T17:18:53.308Z"
   },
   {
    "duration": 27,
    "start_time": "2023-07-19T17:18:53.371Z"
   },
   {
    "duration": 18,
    "start_time": "2023-07-19T17:18:53.400Z"
   },
   {
    "duration": 135,
    "start_time": "2023-07-19T17:18:53.419Z"
   },
   {
    "duration": 14,
    "start_time": "2023-07-19T17:18:53.560Z"
   },
   {
    "duration": 34,
    "start_time": "2023-07-19T17:18:53.576Z"
   },
   {
    "duration": 479,
    "start_time": "2023-07-19T17:18:53.612Z"
   },
   {
    "duration": 14,
    "start_time": "2023-07-19T17:18:54.092Z"
   },
   {
    "duration": 1348,
    "start_time": "2023-07-19T17:26:33.329Z"
   },
   {
    "duration": 98,
    "start_time": "2023-07-19T17:26:34.679Z"
   },
   {
    "duration": 15,
    "start_time": "2023-07-19T17:26:34.779Z"
   },
   {
    "duration": 57,
    "start_time": "2023-07-19T17:26:34.797Z"
   },
   {
    "duration": 57,
    "start_time": "2023-07-19T17:26:34.856Z"
   },
   {
    "duration": 42,
    "start_time": "2023-07-19T17:26:34.915Z"
   },
   {
    "duration": 21,
    "start_time": "2023-07-19T17:26:34.962Z"
   },
   {
    "duration": 29,
    "start_time": "2023-07-19T17:26:34.985Z"
   },
   {
    "duration": 53,
    "start_time": "2023-07-19T17:26:35.016Z"
   },
   {
    "duration": 15,
    "start_time": "2023-07-19T17:26:35.073Z"
   },
   {
    "duration": 36,
    "start_time": "2023-07-19T17:26:35.090Z"
   },
   {
    "duration": 48,
    "start_time": "2023-07-19T17:26:35.127Z"
   },
   {
    "duration": 23,
    "start_time": "2023-07-19T17:26:35.177Z"
   },
   {
    "duration": 9,
    "start_time": "2023-07-19T17:26:35.202Z"
   },
   {
    "duration": 40,
    "start_time": "2023-07-19T17:26:35.213Z"
   },
   {
    "duration": 7,
    "start_time": "2023-07-19T17:26:35.255Z"
   },
   {
    "duration": 15,
    "start_time": "2023-07-19T17:26:35.264Z"
   },
   {
    "duration": 3,
    "start_time": "2023-07-19T17:26:35.282Z"
   },
   {
    "duration": 10,
    "start_time": "2023-07-19T17:26:35.287Z"
   },
   {
    "duration": 8,
    "start_time": "2023-07-19T17:26:35.299Z"
   },
   {
    "duration": 6,
    "start_time": "2023-07-19T17:26:35.309Z"
   },
   {
    "duration": 44,
    "start_time": "2023-07-19T17:26:35.316Z"
   },
   {
    "duration": 11,
    "start_time": "2023-07-19T17:26:35.362Z"
   },
   {
    "duration": 8,
    "start_time": "2023-07-19T17:26:35.375Z"
   },
   {
    "duration": 12,
    "start_time": "2023-07-19T17:26:35.385Z"
   },
   {
    "duration": 194,
    "start_time": "2023-07-19T17:26:35.399Z"
   },
   {
    "duration": 140,
    "start_time": "2023-07-19T17:26:35.595Z"
   },
   {
    "duration": 10,
    "start_time": "2023-07-19T17:26:35.741Z"
   },
   {
    "duration": 43,
    "start_time": "2023-07-19T17:26:35.753Z"
   },
   {
    "duration": 45,
    "start_time": "2023-07-19T17:26:35.798Z"
   },
   {
    "duration": 32,
    "start_time": "2023-07-19T17:26:35.850Z"
   },
   {
    "duration": 33,
    "start_time": "2023-07-19T17:26:35.884Z"
   },
   {
    "duration": 389,
    "start_time": "2023-07-19T17:26:35.919Z"
   },
   {
    "duration": 297,
    "start_time": "2023-07-19T17:26:36.309Z"
   },
   {
    "duration": 14,
    "start_time": "2023-07-19T17:26:36.608Z"
   },
   {
    "duration": 386,
    "start_time": "2023-07-19T17:26:36.623Z"
   },
   {
    "duration": 4,
    "start_time": "2023-07-19T17:26:37.011Z"
   },
   {
    "duration": 44,
    "start_time": "2023-07-19T17:26:37.027Z"
   },
   {
    "duration": 35,
    "start_time": "2023-07-19T17:26:37.073Z"
   },
   {
    "duration": 276,
    "start_time": "2023-07-19T17:26:37.110Z"
   },
   {
    "duration": 8,
    "start_time": "2023-07-19T17:26:37.390Z"
   },
   {
    "duration": 48,
    "start_time": "2023-07-19T17:26:37.400Z"
   },
   {
    "duration": 423,
    "start_time": "2023-07-19T17:26:37.451Z"
   },
   {
    "duration": 9,
    "start_time": "2023-07-19T17:26:37.876Z"
   },
   {
    "duration": 21,
    "start_time": "2023-07-19T17:26:37.886Z"
   },
   {
    "duration": 58,
    "start_time": "2023-07-19T17:26:37.909Z"
   },
   {
    "duration": 145,
    "start_time": "2023-07-19T17:26:37.969Z"
   },
   {
    "duration": 175,
    "start_time": "2023-07-19T17:26:38.116Z"
   },
   {
    "duration": 4,
    "start_time": "2023-07-19T17:26:38.293Z"
   },
   {
    "duration": 187,
    "start_time": "2023-07-19T17:26:38.299Z"
   },
   {
    "duration": 202,
    "start_time": "2023-07-19T17:26:38.488Z"
   },
   {
    "duration": 6,
    "start_time": "2023-07-19T17:26:38.692Z"
   },
   {
    "duration": 104,
    "start_time": "2023-07-19T17:26:38.700Z"
   },
   {
    "duration": 3,
    "start_time": "2023-07-19T17:26:38.806Z"
   },
   {
    "duration": 176,
    "start_time": "2023-07-19T17:26:38.810Z"
   },
   {
    "duration": 3,
    "start_time": "2023-07-19T17:26:38.988Z"
   },
   {
    "duration": 79,
    "start_time": "2023-07-19T17:26:38.992Z"
   },
   {
    "duration": 32,
    "start_time": "2023-07-19T17:26:39.073Z"
   },
   {
    "duration": 543,
    "start_time": "2023-07-19T17:26:39.107Z"
   },
   {
    "duration": 14,
    "start_time": "2023-07-19T17:26:39.658Z"
   },
   {
    "duration": 3,
    "start_time": "2023-07-19T17:26:39.674Z"
   },
   {
    "duration": 18,
    "start_time": "2023-07-19T17:26:39.678Z"
   },
   {
    "duration": 13,
    "start_time": "2023-07-19T17:26:39.698Z"
   },
   {
    "duration": 96,
    "start_time": "2023-07-19T17:26:39.713Z"
   },
   {
    "duration": 11,
    "start_time": "2023-07-19T17:26:39.811Z"
   },
   {
    "duration": 52,
    "start_time": "2023-07-19T17:26:39.824Z"
   },
   {
    "duration": 29,
    "start_time": "2023-07-19T17:26:39.878Z"
   },
   {
    "duration": 559,
    "start_time": "2023-07-19T17:26:39.909Z"
   },
   {
    "duration": 20,
    "start_time": "2023-07-19T17:26:40.470Z"
   },
   {
    "duration": 1317,
    "start_time": "2023-09-19T12:05:24.604Z"
   },
   {
    "duration": 219,
    "start_time": "2023-09-19T12:05:25.923Z"
   },
   {
    "duration": 15,
    "start_time": "2023-09-19T12:05:26.144Z"
   },
   {
    "duration": 32,
    "start_time": "2023-09-19T12:05:26.163Z"
   },
   {
    "duration": 50,
    "start_time": "2023-09-19T12:05:26.197Z"
   },
   {
    "duration": 16,
    "start_time": "2023-09-19T12:05:26.249Z"
   },
   {
    "duration": 43,
    "start_time": "2023-09-19T12:05:26.269Z"
   },
   {
    "duration": 22,
    "start_time": "2023-09-19T12:05:26.314Z"
   },
   {
    "duration": 19,
    "start_time": "2023-09-19T12:05:26.338Z"
   },
   {
    "duration": 34,
    "start_time": "2023-09-19T12:05:26.359Z"
   },
   {
    "duration": 25,
    "start_time": "2023-09-19T12:05:26.395Z"
   },
   {
    "duration": 30,
    "start_time": "2023-09-19T12:05:26.422Z"
   },
   {
    "duration": 11,
    "start_time": "2023-09-19T12:05:26.454Z"
   },
   {
    "duration": 11,
    "start_time": "2023-09-19T12:05:26.468Z"
   },
   {
    "duration": 27,
    "start_time": "2023-09-19T12:05:26.480Z"
   },
   {
    "duration": 7,
    "start_time": "2023-09-19T12:05:26.509Z"
   },
   {
    "duration": 14,
    "start_time": "2023-09-19T12:05:26.517Z"
   },
   {
    "duration": 2,
    "start_time": "2023-09-19T12:05:26.533Z"
   },
   {
    "duration": 21,
    "start_time": "2023-09-19T12:05:26.537Z"
   },
   {
    "duration": 9,
    "start_time": "2023-09-19T12:05:26.561Z"
   },
   {
    "duration": 13,
    "start_time": "2023-09-19T12:05:26.574Z"
   },
   {
    "duration": 20,
    "start_time": "2023-09-19T12:05:26.589Z"
   },
   {
    "duration": 8,
    "start_time": "2023-09-19T12:05:26.611Z"
   },
   {
    "duration": 14,
    "start_time": "2023-09-19T12:05:26.621Z"
   },
   {
    "duration": 8,
    "start_time": "2023-09-19T12:05:26.637Z"
   },
   {
    "duration": 209,
    "start_time": "2023-09-19T12:05:26.647Z"
   },
   {
    "duration": 167,
    "start_time": "2023-09-19T12:05:26.859Z"
   },
   {
    "duration": 8,
    "start_time": "2023-09-19T12:05:27.028Z"
   },
   {
    "duration": 30,
    "start_time": "2023-09-19T12:05:27.039Z"
   },
   {
    "duration": 27,
    "start_time": "2023-09-19T12:05:27.072Z"
   },
   {
    "duration": 18,
    "start_time": "2023-09-19T12:05:27.100Z"
   },
   {
    "duration": 29,
    "start_time": "2023-09-19T12:05:27.119Z"
   },
   {
    "duration": 346,
    "start_time": "2023-09-19T12:05:27.149Z"
   },
   {
    "duration": 243,
    "start_time": "2023-09-19T12:05:27.497Z"
   },
   {
    "duration": 6,
    "start_time": "2023-09-19T12:05:27.742Z"
   },
   {
    "duration": 388,
    "start_time": "2023-09-19T12:05:27.749Z"
   },
   {
    "duration": 5,
    "start_time": "2023-09-19T12:05:28.139Z"
   },
   {
    "duration": 23,
    "start_time": "2023-09-19T12:05:28.145Z"
   },
   {
    "duration": 11,
    "start_time": "2023-09-19T12:05:28.172Z"
   },
   {
    "duration": 296,
    "start_time": "2023-09-19T12:05:28.186Z"
   },
   {
    "duration": 9,
    "start_time": "2023-09-19T12:05:28.487Z"
   },
   {
    "duration": 45,
    "start_time": "2023-09-19T12:05:28.497Z"
   },
   {
    "duration": 419,
    "start_time": "2023-09-19T12:05:28.544Z"
   },
   {
    "duration": 10,
    "start_time": "2023-09-19T12:05:28.965Z"
   },
   {
    "duration": 31,
    "start_time": "2023-09-19T12:05:28.977Z"
   },
   {
    "duration": 20,
    "start_time": "2023-09-19T12:05:29.010Z"
   },
   {
    "duration": 197,
    "start_time": "2023-09-19T12:05:29.033Z"
   },
   {
    "duration": 231,
    "start_time": "2023-09-19T12:05:29.232Z"
   },
   {
    "duration": 8,
    "start_time": "2023-09-19T12:05:29.466Z"
   },
   {
    "duration": 417,
    "start_time": "2023-09-19T12:05:29.478Z"
   },
   {
    "duration": 559,
    "start_time": "2023-09-19T12:05:29.898Z"
   },
   {
    "duration": 12,
    "start_time": "2023-09-19T12:05:30.461Z"
   },
   {
    "duration": 163,
    "start_time": "2023-09-19T12:05:30.475Z"
   },
   {
    "duration": 3,
    "start_time": "2023-09-19T12:05:30.641Z"
   },
   {
    "duration": 149,
    "start_time": "2023-09-19T12:05:30.646Z"
   },
   {
    "duration": 27,
    "start_time": "2023-09-19T12:05:30.797Z"
   },
   {
    "duration": 126,
    "start_time": "2023-09-19T12:05:30.827Z"
   },
   {
    "duration": 105,
    "start_time": "2023-09-19T12:05:30.956Z"
   },
   {
    "duration": 599,
    "start_time": "2023-09-19T12:05:31.065Z"
   },
   {
    "duration": 31,
    "start_time": "2023-09-19T12:05:31.667Z"
   },
   {
    "duration": 106,
    "start_time": "2023-09-19T12:05:31.700Z"
   },
   {
    "duration": 32,
    "start_time": "2023-09-19T12:05:31.808Z"
   },
   {
    "duration": 23,
    "start_time": "2023-09-19T12:05:31.842Z"
   },
   {
    "duration": 26,
    "start_time": "2023-09-19T12:05:31.868Z"
   },
   {
    "duration": 163,
    "start_time": "2023-09-19T12:05:31.895Z"
   },
   {
    "duration": 20,
    "start_time": "2023-09-19T12:05:32.061Z"
   },
   {
    "duration": 82,
    "start_time": "2023-09-19T12:05:32.083Z"
   },
   {
    "duration": 490,
    "start_time": "2023-09-19T12:05:32.169Z"
   },
   {
    "duration": 20,
    "start_time": "2023-09-19T12:05:32.662Z"
   }
  ],
  "kernelspec": {
   "display_name": "Python 3 (ipykernel)",
   "language": "python",
   "name": "python3"
  },
  "language_info": {
   "codemirror_mode": {
    "name": "ipython",
    "version": 3
   },
   "file_extension": ".py",
   "mimetype": "text/x-python",
   "name": "python",
   "nbconvert_exporter": "python",
   "pygments_lexer": "ipython3",
   "version": "3.11.3"
  },
  "toc": {
   "base_numbering": 1,
   "nav_menu": {},
   "number_sections": true,
   "sideBar": true,
   "skip_h1_title": true,
   "title_cell": "Table of Contents",
   "title_sidebar": "Contents",
   "toc_cell": false,
   "toc_position": {
    "height": "calc(100% - 180px)",
    "left": "10px",
    "top": "150px",
    "width": "306.497px"
   },
   "toc_section_display": true,
   "toc_window_display": true
  }
 },
 "nbformat": 4,
 "nbformat_minor": 2
}
