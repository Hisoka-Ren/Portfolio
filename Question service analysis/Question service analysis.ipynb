{
 "cells": [
  {
   "cell_type": "markdown",
   "id": "b2f2b4bd",
   "metadata": {
    "toc": true
   },
   "source": [
    "<h1>Table of Contents<span class=\"tocSkip\"></span></h1>\n",
    "<div class=\"toc\"><ul class=\"toc-item\"><li><span><a href=\"#Найдём-количество-вопросов,-которые-набрали-больше-300-очков-или-как-минимум-100-раз-были-добавлены-в-«Закладки».\" data-toc-modified-id=\"Найдём-количество-вопросов,-которые-набрали-больше-300-очков-или-как-минимум-100-раз-были-добавлены-в-«Закладки».-1\"><span class=\"toc-item-num\">1&nbsp;&nbsp;</span>Найдём количество вопросов, которые набрали больше 300 очков или как минимум 100 раз были добавлены в «Закладки».</a></span></li><li><span><a href=\"#Найдем-сколько-в-среднем-в-день-задавали-вопросов-с-1-по-18-ноября-2008-включительно.\" data-toc-modified-id=\"Найдем-сколько-в-среднем-в-день-задавали-вопросов-с-1-по-18-ноября-2008-включительно.-2\"><span class=\"toc-item-num\">2&nbsp;&nbsp;</span>Найдем сколько в среднем в день задавали вопросов с 1 по 18 ноября 2008 включительно.</a></span></li><li><span><a href=\"#Найдем-сколько-пользователей-получили-значки-сразу-в-день-регистрации.-Выведем-количество-уникальных-пользователей.\" data-toc-modified-id=\"Найдем-сколько-пользователей-получили-значки-сразу-в-день-регистрации.-Выведем-количество-уникальных-пользователей.-3\"><span class=\"toc-item-num\">3&nbsp;&nbsp;</span>Найдем сколько пользователей получили значки сразу в день регистрации. Выведем количество уникальных пользователей.</a></span></li><li><span><a href=\"#Найдем-сколько-уникальных-постов-пользователя-с-именем-Joel-Coehoorn-получили-хотя-бы-один-голос.\" data-toc-modified-id=\"Найдем-сколько-уникальных-постов-пользователя-с-именем-Joel-Coehoorn-получили-хотя-бы-один-голос.-4\"><span class=\"toc-item-num\">4&nbsp;&nbsp;</span>Найдем сколько уникальных постов пользователя с именем Joel Coehoorn получили хотя бы один голос.</a></span></li><li><span><a href=\"#Выгрузим-все-поля-таблицы-vote_types.-Добавим-к-таблице-поле-rank,-в-которое-войдут-номера-записей-в-обратном-порядке.-Отсортируем-по-полю-id.\" data-toc-modified-id=\"Выгрузим-все-поля-таблицы-vote_types.-Добавим-к-таблице-поле-rank,-в-которое-войдут-номера-записей-в-обратном-порядке.-Отсортируем-по-полю-id.-5\"><span class=\"toc-item-num\">5&nbsp;&nbsp;</span>Выгрузим все поля таблицы vote_types. Добавим к таблице поле rank, в которое войдут номера записей в обратном порядке. Отсортируем по полю id.</a></span></li><li><span><a href=\"#Отберём-10-пользователей,-которые-поставили-больше-всего-голосов-типа-Close.\" data-toc-modified-id=\"Отберём-10-пользователей,-которые-поставили-больше-всего-голосов-типа-Close.-6\"><span class=\"toc-item-num\">6&nbsp;&nbsp;</span>Отберём 10 пользователей, которые поставили больше всего голосов типа Close.</a></span></li><li><span><a href=\"#Отберем-10-пользователей-по-количеству-значков,-полученных-в-период-с-15-ноября-по-15-декабря-2008-года-включительно.\" data-toc-modified-id=\"Отберем-10-пользователей-по-количеству-значков,-полученных-в-период-с-15-ноября-по-15-декабря-2008-года-включительно.-7\"><span class=\"toc-item-num\">7&nbsp;&nbsp;</span>Отберем 10 пользователей по количеству значков, полученных в период с 15 ноября по 15 декабря 2008 года включительно.</a></span></li><li><span><a href=\"#Найдем-сколько-в-среднем-очков-получает-пост-каждого-пользователя.\" data-toc-modified-id=\"Найдем-сколько-в-среднем-очков-получает-пост-каждого-пользователя.-8\"><span class=\"toc-item-num\">8&nbsp;&nbsp;</span>Найдем сколько в среднем очков получает пост каждого пользователя.</a></span></li><li><span><a href=\"#Отобразим-заголовки-постов,-которые-были-написаны-пользователями,-получившими-более-1000-значков.\" data-toc-modified-id=\"Отобразим-заголовки-постов,-которые-были-написаны-пользователями,-получившими-более-1000-значков.-9\"><span class=\"toc-item-num\">9&nbsp;&nbsp;</span>Отобразим заголовки постов, которые были написаны пользователями, получившими более 1000 значков.</a></span></li><li><span><a href=\"#Напишем-запрос,-который-выгрузит-данные-о-пользователях-из-Канады-(англ.-Canada).\" data-toc-modified-id=\"Напишем-запрос,-который-выгрузит-данные-о-пользователях-из-Канады-(англ.-Canada).-10\"><span class=\"toc-item-num\">10&nbsp;&nbsp;</span>Напишем запрос, который выгрузит данные о пользователях из Канады (англ. Canada).</a></span></li><li><span><a href=\"#Дополним-предыдущий-запрос.\" data-toc-modified-id=\"Дополним-предыдущий-запрос.-11\"><span class=\"toc-item-num\">11&nbsp;&nbsp;</span>Дополним предыдущий запрос.</a></span></li><li><span><a href=\"#Посчитаем-ежедневный-прирост-новых-пользователей-в-ноябре-2008-года.\" data-toc-modified-id=\"Посчитаем-ежедневный-прирост-новых-пользователей-в-ноябре-2008-года.-12\"><span class=\"toc-item-num\">12&nbsp;&nbsp;</span>Посчитаем ежедневный прирост новых пользователей в ноябре 2008 года.</a></span></li><li><span><a href=\"#Для-каждого-пользователя,-который-написал-хотя-бы-один-пост,-найдем-интервал-между-регистрацией-и-временем-создания-первого-поста.\" data-toc-modified-id=\"Для-каждого-пользователя,-который-написал-хотя-бы-один-пост,-найдем-интервал-между-регистрацией-и-временем-создания-первого-поста.-13\"><span class=\"toc-item-num\">13&nbsp;&nbsp;</span>Для каждого пользователя, который написал хотя бы один пост, найдем интервал между регистрацией и временем создания первого поста.</a></span></li><li><span><a href=\"#Выведем-общую-сумму-просмотров-у-постов,-опубликованных-в-каждый-месяц-2008-года.\" data-toc-modified-id=\"Выведем-общую-сумму-просмотров-у-постов,-опубликованных-в-каждый-месяц-2008-года.-14\"><span class=\"toc-item-num\">14&nbsp;&nbsp;</span>Выведем общую сумму просмотров у постов, опубликованных в каждый месяц 2008 года.</a></span></li><li><span><a href=\"#Выведем-имена-самых-активных-пользователей,-которые-в-первый-месяц-после-регистрации-(включая-день-регистрации)-дали-больше-100-ответов.\" data-toc-modified-id=\"Выведем-имена-самых-активных-пользователей,-которые-в-первый-месяц-после-регистрации-(включая-день-регистрации)-дали-больше-100-ответов.-15\"><span class=\"toc-item-num\">15&nbsp;&nbsp;</span>Выведем имена самых активных пользователей, которые в первый месяц после регистрации (включая день регистрации) дали больше 100 ответов.</a></span></li><li><span><a href=\"#Выведем-количество-постов-за-2008-год-по-месяцам.\" data-toc-modified-id=\"Выведем-количество-постов-за-2008-год-по-месяцам.-16\"><span class=\"toc-item-num\">16&nbsp;&nbsp;</span>Выведем количество постов за 2008 год по месяцам.</a></span></li><li><span><a href=\"#Используя-данные-о-постах,-выведем-несколько-полей:\" data-toc-modified-id=\"Используя-данные-о-постах,-выведем-несколько-полей:-17\"><span class=\"toc-item-num\">17&nbsp;&nbsp;</span>Используя данные о постах, выведем несколько полей:</a></span></li><li><span><a href=\"#Найдем-сколько-в-среднем-дней-в-период-с-1-по-7-декабря-2008-года-включительно-пользователи-взаимодействовали-с-платформой.\" data-toc-modified-id=\"Найдем-сколько-в-среднем-дней-в-период-с-1-по-7-декабря-2008-года-включительно-пользователи-взаимодействовали-с-платформой.-18\"><span class=\"toc-item-num\">18&nbsp;&nbsp;</span>Найдем сколько в среднем дней в период с 1 по 7 декабря 2008 года включительно пользователи взаимодействовали с платформой.</a></span></li><li><span><a href=\"#Найдем-на-сколько-процентов-менялось-количество-постов-ежемесячно-с-1-сентября-по-31-декабря-2008-года.\" data-toc-modified-id=\"Найдем-на-сколько-процентов-менялось-количество-постов-ежемесячно-с-1-сентября-по-31-декабря-2008-года.-19\"><span class=\"toc-item-num\">19&nbsp;&nbsp;</span>Найдем на сколько процентов менялось количество постов ежемесячно с 1 сентября по 31 декабря 2008 года.</a></span></li><li><span><a href=\"#Найдем-пользователя,-который-опубликовал-больше-всего-постов-за-всё-время-с-момента-регистрации.\" data-toc-modified-id=\"Найдем-пользователя,-который-опубликовал-больше-всего-постов-за-всё-время-с-момента-регистрации.-20\"><span class=\"toc-item-num\">20&nbsp;&nbsp;</span>Найдем пользователя, который опубликовал больше всего постов за всё время с момента регистрации.</a></span></li></ul></div>"
   ]
  },
  {
   "cell_type": "markdown",
   "id": "5a1015bc",
   "metadata": {},
   "source": [
    "# Проект по SQL"
   ]
  },
  {
   "cell_type": "markdown",
   "id": "11b25465",
   "metadata": {},
   "source": [
    "*Данные* \n",
    "\n",
    "    - Таблица stackoverflow.badges. Хранит информацию о значках, которые присуждаются за разные достижения.\n",
    "    - Таблица stackoverflow.post_types. Содержит информацию о типе постов.\n",
    "    - Таблица stackoverflow.posts. Содержит информацию о постах.\n",
    "    - Таблица stackoverflow.users. Содержит информацию о пользователях.\n",
    "    - Таблица stackoverflow.vote_types. Содержит информацию о типах голосов.\n",
    "    - Таблица stackoverflow.votes. Содержит информацию о голосах за посты.\n",
    "\n"
   ]
  },
  {
   "cell_type": "markdown",
   "id": "75fbe79c",
   "metadata": {},
   "source": [
    "*Схема данных*"
   ]
  },
  {
   "cell_type": "markdown",
   "id": "8903a6cf",
   "metadata": {},
   "source": [
    "![Схема данных](https://pictures.s3.yandex.net/resources/Frame_353_1_1665399433.png)"
   ]
  },
  {
   "cell_type": "markdown",
   "id": "0fcd76ba",
   "metadata": {},
   "source": [
    "### Найдём количество вопросов, которые набрали больше 300 очков или как минимум 100 раз были добавлены в «Закладки»."
   ]
  },
  {
   "cell_type": "code",
   "execution_count": null,
   "id": "06e36b86",
   "metadata": {},
   "outputs": [],
   "source": [
    "'''\n",
    "SELECT COUNT(id)\n",
    "FROM stackoverflow.posts\n",
    "WHERE (score > 300 OR favorites_count >= 100) AND post_type_id = 1;\n",
    "'''"
   ]
  },
  {
   "cell_type": "markdown",
   "id": "c88cba55",
   "metadata": {},
   "source": [
    "| count |\n",
    "|-------|\n",
    "| 1355 |"
   ]
  },
  {
   "cell_type": "markdown",
   "id": "d1605f5e",
   "metadata": {},
   "source": [
    "*Комментарий* \n",
    "Количество вопросов - 1355"
   ]
  },
  {
   "cell_type": "markdown",
   "id": "5491b0cd",
   "metadata": {},
   "source": [
    "### Найдем сколько в среднем в день задавали вопросов с 1 по 18 ноября 2008 включительно."
   ]
  },
  {
   "cell_type": "code",
   "execution_count": null,
   "id": "64c19c4d",
   "metadata": {},
   "outputs": [],
   "source": [
    "'''\n",
    "WITH count AS \n",
    "    (SELECT COUNT(p.id),\n",
    "        CAST(DATE_TRUNC('day', p.creation_date) AS date) AS day\n",
    "     FROM stackoverflow.posts p\n",
    "     WHERE CAST(DATE_TRUNC('day', p.creation_date) AS date) BETWEEN '2008-11-01' AND '2008-11-18' \n",
    "      AND post_type_id = 1\n",
    "     GROUP BY day)\n",
    "SELECT ROUND(AVG(count))\n",
    "FROM count;\n",
    "'''"
   ]
  },
  {
   "cell_type": "markdown",
   "id": "a99ae8dc",
   "metadata": {},
   "source": [
    "| round |\n",
    "|-------|\n",
    "| 383 |"
   ]
  },
  {
   "cell_type": "markdown",
   "id": "b84f0ee3",
   "metadata": {},
   "source": [
    "*Комментарий* В среднем задавали 383 вопроса"
   ]
  },
  {
   "cell_type": "markdown",
   "id": "f6345af4",
   "metadata": {},
   "source": [
    "### Найдем сколько пользователей получили значки сразу в день регистрации. Выведем количество уникальных пользователей."
   ]
  },
  {
   "cell_type": "code",
   "execution_count": null,
   "id": "715514bd",
   "metadata": {},
   "outputs": [],
   "source": [
    "'''\n",
    "SELECT COUNT(DISTINCT(us.id))\n",
    "FROM stackoverflow.users us\n",
    "JOIN stackoverflow.badges bg ON us.id=bg.user_id\n",
    "WHERE CAST(DATE_TRUNC('day', bg.creation_date) AS date) = CAST(DATE_TRUNC('day', us.creation_date) AS date);\n",
    "'''"
   ]
  },
  {
   "cell_type": "markdown",
   "id": "5af18c69",
   "metadata": {},
   "source": [
    "| count |\n",
    "|-------|\n",
    "| 7047 |"
   ]
  },
  {
   "cell_type": "markdown",
   "id": "fe42c65a",
   "metadata": {},
   "source": [
    "*Комментарий* В день регистрации 7047 пользователей получили значки."
   ]
  },
  {
   "cell_type": "markdown",
   "id": "f3c1d2b3",
   "metadata": {},
   "source": [
    "### Найдем сколько уникальных постов пользователя с именем Joel Coehoorn получили хотя бы один голос."
   ]
  },
  {
   "cell_type": "code",
   "execution_count": null,
   "id": "6d95eb7c",
   "metadata": {},
   "outputs": [],
   "source": [
    "'''\n",
    "SELECT COUNT(DISTINCT(p.id))\n",
    "FROM stackoverflow.posts p\n",
    "JOIN stackoverflow.users u ON p.user_id = u.id\n",
    "RIGHT JOIN stackoverflow.votes v ON p.id = v.post_id\n",
    "WHERE u.display_name LIKE 'Joel Coehoorn'; \n",
    "'''"
   ]
  },
  {
   "cell_type": "markdown",
   "id": "16bbeb9e",
   "metadata": {},
   "source": [
    "| count |\n",
    "|-------|\n",
    "|12 |"
   ]
  },
  {
   "cell_type": "markdown",
   "id": "a1eb7e26",
   "metadata": {},
   "source": [
    "*Комметнарий* 12 уникальных постов пользователя Joel Coehoorn получили голос. "
   ]
  },
  {
   "cell_type": "markdown",
   "id": "ac23ffd1",
   "metadata": {},
   "source": [
    "### Выгрузим все поля таблицы vote_types. Добавим к таблице поле rank, в которое войдут номера записей в обратном порядке. Отсортируем по полю id."
   ]
  },
  {
   "cell_type": "code",
   "execution_count": null,
   "id": "47456eed",
   "metadata": {},
   "outputs": [],
   "source": [
    "'''\n",
    "SELECT *,\n",
    "       RANK() OVER (ORDER BY id DESC) rank\n",
    "FROM stackoverflow.vote_types\n",
    "ORDER BY id;\n",
    "'''"
   ]
  },
  {
   "cell_type": "markdown",
   "id": "e245a5b2",
   "metadata": {},
   "source": [
    "|  id  |\tname    |    rank   |\n",
    "|------|------------|-----------|\n",
    "| 1\t| AcceptedByOriginator | 15 |\n",
    "| 2\t| UpMod\t| 14 |\n",
    "| 3\t| DownMod |\t13 |\n",
    "| 4\t| Offensive | 12 |\n",
    "| 5\t| Favorite | 11 |\n",
    "| 6\t| Close | 10 |\n",
    "| 7\t| Reopen | 9 |\n",
    "| 8\t| BountyStart |\t8 |\n",
    "| 9\t| BountyClose |\t7 |\n",
    "| 10 |\tDeletion | 6 |\n",
    "| 11 |\tUndeletion | 5 |\n",
    "| 12 |\tSpam | 4 |\n",
    "| 13 |\tInformModerator | 3 |\n",
    "| 14 |\tModeratorReview | 2 |\n",
    "| 15 |\tApproveEditSuggestion |\t1 |"
   ]
  },
  {
   "cell_type": "markdown",
   "id": "945b1310",
   "metadata": {},
   "source": [
    "*Комментарий* Выгрузили поля таблицы vote_types."
   ]
  },
  {
   "cell_type": "markdown",
   "id": "38a1333a",
   "metadata": {},
   "source": [
    "###  Отберём 10 пользователей, которые поставили больше всего голосов типа Close. \n",
    "\n",
    "Отобразим таблицу из двух полей: идентификатором пользователя и количеством голосов. \n",
    "\n",
    "Отсортируем данные сначала по убыванию количества голосов, потом по убыванию значения идентификатора пользователя."
   ]
  },
  {
   "cell_type": "code",
   "execution_count": null,
   "id": "95b331d2",
   "metadata": {},
   "outputs": [],
   "source": [
    "'''\n",
    "SELECT v.user_id,\n",
    "       COUNT(v.id)\n",
    "FROM stackoverflow.votes v\n",
    "JOIN stackoverflow.vote_types vt ON v.vote_type_id=vt.id\n",
    "JOIN stackoverflow.users u ON v.user_id=u.id\n",
    "WHERE vt.name LIKE 'Close'\n",
    "GROUP BY v.user_id\n",
    "ORDER BY COUNT(v.id) DESC, v.user_id DESC\n",
    "LIMIT 10;\n",
    "'''"
   ]
  },
  {
   "cell_type": "markdown",
   "id": "accde71f",
   "metadata": {},
   "source": [
    "| user_id |\tcount |\n",
    "|---------|-------|\n",
    "| 20646 | 36 |\n",
    "| 14728\t| 36 |\n",
    "| 27163\t| 29 |\n",
    "| 41158\t| 24 |\n",
    "| 24820\t| 23 |\n",
    "| 9345\t| 23 |\n",
    "| 3241\t| 23 |\n",
    "| 44330\t| 20 |\n",
    "| 38426\t| 19 |\n",
    "| 19074\t| 19 |"
   ]
  },
  {
   "cell_type": "markdown",
   "id": "2a024cf5",
   "metadata": {},
   "source": [
    "*Комментарий* Отобрали 10 пользователей с голосами типа Close."
   ]
  },
  {
   "cell_type": "markdown",
   "id": "c636b677",
   "metadata": {},
   "source": [
    "###  Отберем 10 пользователей по количеству значков, полученных в период с 15 ноября по 15 декабря 2008 года включительно.\n",
    "\n",
    "Отобразим несколько полей:\n",
    "\n",
    "      идентификатор пользователя;\n",
    "      число значков;\n",
    "      место в рейтинге — чем больше значков, тем выше рейтинг.\n",
    "      \n",
    "Пользователям, которые набрали одинаковое количество значков, присвоим одно и то же место в рейтинге.\n",
    "Отсортируем записи по количеству значков по убыванию, а затем по возрастанию значения идентификатора пользователя."
   ]
  },
  {
   "cell_type": "code",
   "execution_count": null,
   "id": "87d62450",
   "metadata": {},
   "outputs": [],
   "source": [
    "'''\n",
    "SELECT u.id,\n",
    "       COUNT(b.id) AS cnt,\n",
    "       DENSE_RANK() OVER (ORDER BY COUNT(b.id) DESC) AS dense_rank\n",
    "FROM stackoverflow.users u\n",
    "JOIN stackoverflow.badges b ON  u.id=b.user_id\n",
    "WHERE b.creation_date::date BETWEEN '2008-11-15' AND '2008-12-15'\n",
    "GROUP BY u.id\n",
    "ORDER BY COUNT(b.id) DESC, u.id \n",
    "LIMIT 10;\n",
    "''' "
   ]
  },
  {
   "cell_type": "markdown",
   "id": "ad071351",
   "metadata": {},
   "source": [
    "| id | cnt | dense_rank |\n",
    "|----|-----|------------|\n",
    "| 22656 | 149 | 1 |\n",
    "| 34509\t| 45 | 2 |\n",
    "| 1288\t| 40 | 3 |\n",
    "| 5190\t| 31 | 4 |\n",
    "| 13913\t| 30 | 5 |\n",
    "| 893 | 28 | 6 |\n",
    "| 10661\t| 28 | 6 | \n",
    "| 33213\t| 25 | 7 |\n",
    "| 12950\t| 23 | 8 |\n",
    "| 25222\t| 20 | 9 |"
   ]
  },
  {
   "cell_type": "markdown",
   "id": "815c9c1c",
   "metadata": {},
   "source": [
    "*Комментарий* Отобрали 10 пользователей по количеству значков в период с 15 ноября по 15 декабря 2008 года включительно."
   ]
  },
  {
   "cell_type": "markdown",
   "id": "648bd0f6",
   "metadata": {},
   "source": [
    "### Найдем сколько в среднем очков получает пост каждого пользователя.\n",
    "\n",
    "Сформируем таблицу из следующих полей:\n",
    "\n",
    "     заголовок поста;\n",
    "     идентификатор пользователя;\n",
    "     число очков поста;\n",
    "     среднее число очков пользователя за пост, округлённое до целого числа.\n",
    "     \n",
    "Не будем учитывать посты без заголовка, а также те, что набрали ноль очков."
   ]
  },
  {
   "cell_type": "code",
   "execution_count": null,
   "id": "a090dc2f",
   "metadata": {},
   "outputs": [],
   "source": [
    "'''\n",
    "SELECT title,\n",
    "       user_id,\n",
    "       score,\n",
    "       ROUND(AVG(score) OVER (PARTITION BY user_id))\n",
    "FROM stackoverflow.posts\n",
    "WHERE score != 0 \n",
    "      AND title IS NOT NULL;\n",
    "'''"
   ]
  },
  {
   "cell_type": "markdown",
   "id": "a990b10f",
   "metadata": {},
   "source": [
    "|title | user_id | score | round |\n",
    "|------|---------|-------|-------|\n",
    "| Filling a DataSet or DataTable from a LINQ query result set |\t2 |\t114 | 76 |\n",
    "| Why doesn't SQL Full Text Indexing return results for words containing #? | 2 | 19 | 76 |\n",
    "| Cross platform Encryption / Decryption applications for secure file transport | 2\t| 3\t| 76 |\n",
    "| Best way to implement request throttling in ASP.NET MVC? | 3 | 196 | 196 |\n",
    "| How can I lookup data about a book from its barcode number? |\t4 |\t69 | 39 |\n",
    "| Code to make a DHTMLEd control replace straight quotes with curly quotes | 4 | 9 | 39 |\n",
    "| Can I listen on a port (using HttpListener or other .NET code) on Vista without requiring administrator priveleges? |\t5 | 36 | 23 |\n",
    "| PAD (Portable Application Description) files for shareware / freeware | 5\t| 2 | 23 |\n",
    "| ... | ... | ... | ... |\n"
   ]
  },
  {
   "cell_type": "markdown",
   "id": "2035b676",
   "metadata": {},
   "source": [
    "*Комментарий*  Нашли сколько в среднем получет очков пост пользователей."
   ]
  },
  {
   "cell_type": "markdown",
   "id": "ffc005ec",
   "metadata": {},
   "source": [
    "### Отобразим заголовки постов, которые были написаны пользователями, получившими более 1000 значков. "
   ]
  },
  {
   "cell_type": "code",
   "execution_count": null,
   "id": "bc71fbab",
   "metadata": {},
   "outputs": [],
   "source": [
    "'''\n",
    "SELECT p.title\n",
    "FROM stackoverflow.posts p\n",
    "WHERE p.title IS NOT NULL AND p.user_id IN (SELECT b.user_id\n",
    "                                FROM stackoverflow.badges b \n",
    "                                GROUP BY b.user_id\n",
    "                                HAVING COUNT(id) > 1000);\n",
    "'''"
   ]
  },
  {
   "cell_type": "markdown",
   "id": "ac83def1",
   "metadata": {},
   "source": [
    "| title |\n",
    "|-------|\n",
    "| What's the strangest corner case you've seen in C# or .NET? |\n",
    "| What's the hardest or most misunderstood aspect of LINQ? |\n",
    "| What are the correct version numbers for C#? |\n",
    "| Project management to go with GitHub |"
   ]
  },
  {
   "cell_type": "markdown",
   "id": "147f402c",
   "metadata": {},
   "source": [
    "*Комментарий* Отобразили заголовки, получившие 1000 значков."
   ]
  },
  {
   "cell_type": "markdown",
   "id": "b63f5e0a",
   "metadata": {},
   "source": [
    "### Напишем запрос, который выгрузит данные о пользователях из Канады (англ. Canada). \n",
    "\n",
    "Разделим пользователей на три группы в зависимости от количества просмотров их профилей:\n",
    "\n",
    "- пользователям с числом просмотров больше либо равным 350 присвойте группу 1;\n",
    "- пользователям с числом просмотров меньше 350, но больше либо равно 100 — группу 2;\n",
    "- пользователям с числом просмотров меньше 100 — группу 3.\n",
    "\n",
    "Отобразим в итоговой таблице идентификатор пользователя, количество просмотров профиля и группу. Пользователи с количеством просмотров меньше либо равным нулю не войдут в итоговую таблицу."
   ]
  },
  {
   "cell_type": "code",
   "execution_count": null,
   "id": "17b75ff8",
   "metadata": {},
   "outputs": [],
   "source": [
    "'''\n",
    "SELECT id,\n",
    "       views,\n",
    "CASE \n",
    "       WHEN views >= 350 THEN 1\n",
    "       WHEN views < 350 AND views >= 100 THEN 2\n",
    "       WHEN views < 100 THEN 3\n",
    "END \n",
    "FROM stackoverflow.users  \n",
    "WHERE location LIKE '%Canada%' AND views > 0;\n",
    "'''"
   ]
  },
  {
   "cell_type": "markdown",
   "id": "239b6a63",
   "metadata": {},
   "source": [
    "| id | views | case |\n",
    "|----|-------|------|\n",
    "| 22 | 1079 | 1 |\n",
    "| 34 | 1707 | 1 |\n",
    "| 37 | 757 | 1 |\n",
    "| 41 | 174 | 2 |\n",
    "| 42 | 1063 | 1 |\n",
    "| ... | ... | ... |"
   ]
  },
  {
   "cell_type": "markdown",
   "id": "5f54bc80",
   "metadata": {},
   "source": [
    "*Комментарий* Выгрузили данные пользователей из Канады."
   ]
  },
  {
   "cell_type": "markdown",
   "id": "d4eb0515",
   "metadata": {},
   "source": [
    "###  Дополним предыдущий запрос. \n",
    "\n",
    "Отобразим лидеров каждой группы — пользователей, которые набрали максимальное число просмотров в своей группе. Выведем поля с идентификатором пользователя, группой и количеством просмотров. Отсортируем таблицу по убыванию просмотров, а затем по возрастанию значения идентификатора."
   ]
  },
  {
   "cell_type": "code",
   "execution_count": null,
   "id": "5c3ea403",
   "metadata": {},
   "outputs": [],
   "source": [
    "'''\n",
    "WITH categor AS\n",
    "(SELECT u.id AS id,\n",
    "       u.views AS views_cnt,\n",
    "CASE \n",
    "       WHEN u.views >= 350 THEN 1\n",
    "       WHEN u.views < 350 AND u.views >= 100 THEN 2\n",
    "       WHEN u.views < 100 THEN 3\n",
    "END  AS groups\n",
    "FROM stackoverflow.users u \n",
    "WHERE location LIKE '%Canada%' AND views > 0)\n",
    "SELECT id,\n",
    "       groups,\n",
    "       views_cnt\n",
    "FROM (SELECT id,\n",
    "       groups,\n",
    "       views_cnt,\n",
    "       MAX(views_cnt) OVER (PARTITION BY groups ORDER BY views_cnt DESC) AS max_views\n",
    "FROM categor) AS max_ct \n",
    "WHERE views_cnt =  max_views\n",
    "ORDER BY views_cnt DESC, id;\n",
    "'''"
   ]
  },
  {
   "cell_type": "markdown",
   "id": "6fc9eddd",
   "metadata": {},
   "source": [
    "| id | groups |\tviews_cnt |\n",
    "|----|--------|-----------|\n",
    "| 3153\t| 1 | 21991 |\n",
    "| 46981\t| 2\t| 349 |\n",
    "| 3444\t| 3\t| 99 |\n",
    "| 22273\t| 3\t| 99 |\n",
    "| 190298 | 3 | 99 |"
   ]
  },
  {
   "cell_type": "markdown",
   "id": "64110b3e",
   "metadata": {},
   "source": [
    "*Комментарий* Отобразили лидеров каждой группы."
   ]
  },
  {
   "cell_type": "markdown",
   "id": "9fc8fdac",
   "metadata": {},
   "source": [
    "### Посчитаем ежедневный прирост новых пользователей в ноябре 2008 года. \n",
    "\n",
    "Сформируем таблицу с полями:\n",
    "\n",
    "      номер дня;\n",
    "      число пользователей, зарегистрированных в этот день;\n",
    "      сумму пользователей с накоплением."
   ]
  },
  {
   "cell_type": "code",
   "execution_count": null,
   "id": "31644521",
   "metadata": {},
   "outputs": [],
   "source": [
    "'''\n",
    "SELECT *,\n",
    "      SUM(us.us_cnt) OVER (ORDER BY us.day)\n",
    "FROM (SELECT EXTRACT(DAY FROM creation_date:: date) AS day,\n",
    "             COUNT(id) AS us_cnt\n",
    "      FROM stackoverflow.users\n",
    "      WHERE creation_date:: date BETWEEN '2008-11-01' AND '2008-11-30'\n",
    "      GROUP BY EXTRACT(DAY FROM creation_date:: date)) AS us;\n",
    "'''"
   ]
  },
  {
   "cell_type": "markdown",
   "id": "aabce224",
   "metadata": {},
   "source": [
    "| day | us_cnt | sum |\n",
    "|-----|--------|-----|\n",
    "| 1 | 34 |\t34 |\n",
    "| 2\t| 48 |\t82 |\n",
    "| 3\t| 75 |\t157 |\n",
    "| 4\t| 192 |\t349 |\n",
    "| 5\t| 122 |\t471 |"
   ]
  },
  {
   "cell_type": "markdown",
   "id": "28593135",
   "metadata": {},
   "source": [
    "*Комментарий* Расчитали прирост пользователей в ноябре."
   ]
  },
  {
   "cell_type": "markdown",
   "id": "e866fc9a",
   "metadata": {},
   "source": [
    "### Для каждого пользователя, который написал хотя бы один пост, найдем интервал между регистрацией и временем создания первого поста. \n",
    "\n",
    "Отобразим:\n",
    "\n",
    "    идентификатор пользователя;\n",
    "    разницу во времени между регистрацией и первым постом."
   ]
  },
  {
   "cell_type": "code",
   "execution_count": null,
   "id": "5f9340a7",
   "metadata": {},
   "outputs": [],
   "source": [
    "'''\n",
    "SELECT DISTINCT p.user_id,\n",
    "       MIN(p.creation_date) OVER (PARTITION BY p.user_id) - u.creation_date AS difference\n",
    "FROM stackoverflow.posts p\n",
    "LEFT JOIN stackoverflow.users u ON u.id=p.user_id;\n",
    "'''"
   ]
  },
  {
   "cell_type": "markdown",
   "id": "7592046e",
   "metadata": {},
   "source": [
    "| user_id | difference |\n",
    "|---------|------------|\n",
    "| 27088 | 22 days, 10:32:25 |\n",
    "| 4666 |\t4 days, 13:51:01  |\n",
    "| 43473 |\t0:00:00 |\n",
    "| 761503 |\t0:00:00 |\n",
    "| 9293 |\t8 days, 0:39:24 |\n",
    "| 22972 |\t51 days, 12:36:52 |\n",
    "| ... | ... |"
   ]
  },
  {
   "cell_type": "markdown",
   "id": "c5fcb00c",
   "metadata": {},
   "source": [
    "*Комментарий* Нашла интервал между регистрацией и созданием первого поста."
   ]
  },
  {
   "cell_type": "markdown",
   "id": "d39c52f6",
   "metadata": {},
   "source": [
    "### Выведем общую сумму просмотров у постов, опубликованных в каждый месяц 2008 года. \n",
    "\n",
    "Если данных за какой-либо месяц в базе нет, такой месяц пропускаем. Результат отсортируем по убыванию общего количества просмотров."
   ]
  },
  {
   "cell_type": "code",
   "execution_count": null,
   "id": "da48d395",
   "metadata": {},
   "outputs": [],
   "source": [
    "'''\n",
    "SELECT SUM(views_count) AS sum,\n",
    "       DATE_TRUNC('month', creation_date)::date  AS month\n",
    "FROM stackoverflow.posts\n",
    "WHERE EXTRACT(YEAR FROM creation_date) = '2008'\n",
    "GROUP BY  month\n",
    "ORDER BY SUM(views_count) DESC;\n",
    "'''"
   ]
  },
  {
   "cell_type": "markdown",
   "id": "a7266294",
   "metadata": {},
   "source": [
    "| sum |\tmonth |\n",
    "|-----|-------|\n",
    "| 452928568 |\t2008-09-01|\n",
    "| 365400138 |\t2008-10-01|\n",
    "| 221759651\t|2008-11-01|\n",
    "| 197792841\t|2008-12-01|\n",
    "| 131367083\t|2008-08-01|\n",
    "| 669895\t|2008-07-01|\n"
   ]
  },
  {
   "cell_type": "markdown",
   "id": "89f35554",
   "metadata": {},
   "source": [
    "*Комментарий* Вывела сумму постов опубликованных в 2008 году."
   ]
  },
  {
   "cell_type": "markdown",
   "id": "39339840",
   "metadata": {},
   "source": [
    "### Выведем имена самых активных пользователей, которые в первый месяц после регистрации (включая день регистрации) дали больше 100 ответов.\n",
    "\n",
    "Вопросы, которые задавали пользователи, не учитываем. Для каждого имени пользователя выведем количество уникальных значений user_id. Отсортируем результат по полю с именами в лексикографическом порядке."
   ]
  },
  {
   "cell_type": "code",
   "execution_count": null,
   "id": "8209a107",
   "metadata": {},
   "outputs": [],
   "source": [
    "'''\n",
    "SELECT u.display_name,\n",
    "       COUNT(DISTINCT (p.user_id))\n",
    "FROM stackoverflow.users u\n",
    "LEFT JOIN stackoverflow.posts p ON u.id=p.user_id\n",
    "LEFT JOIN stackoverflow.post_types pt ON p.post_type_id=pt.id\n",
    "WHERE p.creation_date::date BETWEEN u.creation_date::date AND (u.creation_date::date + INTERVAL '1 month') \n",
    "      AND pt.type LIKE '%Answer%'\n",
    "GROUP BY u.display_name\n",
    "HAVING COUNT(p.id) > 100\n",
    "ORDER BY u.display_name;\n",
    "'''"
   ]
  },
  {
   "cell_type": "markdown",
   "id": "1a14e177",
   "metadata": {},
   "source": [
    "|display_name|\tcount|\n",
    "|------------|-------|\n",
    "|1800 INFORMATION|\t1|\n",
    "|Adam Bellaire|\t1|\n",
    "|Adam Davis|\t1|\n",
    "|Adam Liss|\t1|\n",
    "|aku|\t1|\n",
    "|Alan|\t8|\n",
    "|...|...|"
   ]
  },
  {
   "cell_type": "markdown",
   "id": "80d7e002",
   "metadata": {},
   "source": [
    "*Комментарий* Вывела имена активных пользователей. "
   ]
  },
  {
   "cell_type": "markdown",
   "id": "09ccefc3",
   "metadata": {},
   "source": [
    "### Выведем количество постов за 2008 год по месяцам. \n",
    "\n",
    "Отберем посты от пользователей, которые зарегистрировались в сентябре 2008 года и сделали хотя бы один пост в декабре того же года. Отсортируем таблицу по значению месяца по убыванию."
   ]
  },
  {
   "cell_type": "code",
   "execution_count": null,
   "id": "6c4ebf63",
   "metadata": {},
   "outputs": [],
   "source": [
    "'''\n",
    "SELECT COUNT(id),\n",
    "       DATE_TRUNC('month', creation_date)::date AS month\n",
    "FROM stackoverflow.posts \n",
    "WHERE user_id IN (SELECT DISTINCT(u.id)\n",
    "                  FROM stackoverflow.users u\n",
    "                  LEFT JOIN stackoverflow.posts p ON u.id=p.user_id\n",
    "                  WHERE u.creation_date::date BETWEEN '2008-09-01' AND '2008-09-30'\n",
    "                        AND p.creation_date::date BETWEEN '2008-12-01' AND '2008-12-31')\n",
    "     AND creation_date::date BETWEEN '2008-01-01' AND '2008-12-31'\n",
    "GROUP BY month\n",
    "ORDER BY month DESC;\n",
    "'''"
   ]
  },
  {
   "cell_type": "markdown",
   "id": "688ffa13",
   "metadata": {},
   "source": [
    "|count|\tmonth|\n",
    "|-----|------|\n",
    "|17641|\t2008-12-01|\n",
    "|18294\t|2008-11-01|\n",
    "|27171\t|2008-10-01|\n",
    "|24870\t|2008-09-01|\n",
    "|32\t|2008-08-01|"
   ]
  },
  {
   "cell_type": "markdown",
   "id": "d0065af2",
   "metadata": {},
   "source": [
    "*Комментарий* вывела количество постов за 2008 год. "
   ]
  },
  {
   "cell_type": "markdown",
   "id": "4d42d68e",
   "metadata": {},
   "source": [
    "### Используя данные о постах, выведем несколько полей:\n",
    "\n",
    "- идентификатор пользователя, который написал пост;\n",
    "- дата создания поста;\n",
    "- количество просмотров у текущего поста;\n",
    "- сумма просмотров постов автора с накоплением.\n",
    "\n",
    "\n",
    "Данные в таблице отсортируем по возрастанию идентификаторов пользователей, а данные об одном и том же пользователе — по возрастанию даты создания поста."
   ]
  },
  {
   "cell_type": "code",
   "execution_count": null,
   "id": "010c103f",
   "metadata": {},
   "outputs": [],
   "source": [
    "'''\n",
    "SELECT user_id,\n",
    "       creation_date,\n",
    "       views_count,\n",
    "       SUM(views_count) OVER (PARTITION BY user_id ORDER BY creation_date)\n",
    "FROM stackoverflow.posts\n",
    "ORDER BY user_id; \n",
    "'''"
   ]
  },
  {
   "cell_type": "markdown",
   "id": "352a08d8",
   "metadata": {},
   "source": [
    "|user_id|\tcreation_date\t|views_count|\tsum|\n",
    "|-------|-------------------|-----------|------|\n",
    "|1 |\t2008-07-31 23:41:00\t|480476\t|480476|\n",
    "|1 |\t2008-07-31 23:55:38\t|136033|\t616509|\n",
    "|1 |\t2008-07-31 23:56:41|\t0\t|616509|\n",
    "|1 |\t2008-08-04 02:45:08\t|0\t|616509|\n",
    "|1 |\t2008-08-04 04:31:03\t|0\t|616509|\n",
    "|...|...|...|...|"
   ]
  },
  {
   "cell_type": "markdown",
   "id": "fd6308ac",
   "metadata": {},
   "source": [
    "*Комментарий* Вывела необходимые поля."
   ]
  },
  {
   "cell_type": "markdown",
   "id": "d2266d67",
   "metadata": {},
   "source": [
    "### Найдем сколько в среднем дней в период с 1 по 7 декабря 2008 года включительно пользователи взаимодействовали с платформой.\n",
    "\n",
    "Для каждого пользователя отберем дни, в которые он или она опубликовали хотя бы один пост."
   ]
  },
  {
   "cell_type": "code",
   "execution_count": null,
   "id": "78561a3e",
   "metadata": {},
   "outputs": [],
   "source": [
    "'''\n",
    "WITH cnt AS\n",
    "(SELECT user_id,\n",
    "       COUNT(DISTINCT (creation_date)::date) cnt_day\n",
    "FROM stackoverflow.posts\n",
    "WHERE creation_date::date BETWEEN '2008-12-01' AND '2008-12-07'\n",
    "GROUP BY user_id\n",
    "HAVING COUNT(id)>=1) \n",
    "SELECT ROUND(AVG(cnt_day))\n",
    "FROM cnt;\n",
    "'''"
   ]
  },
  {
   "cell_type": "markdown",
   "id": "31f57b98",
   "metadata": {},
   "source": [
    "|round|\n",
    "|-----|\n",
    "|2|"
   ]
  },
  {
   "cell_type": "markdown",
   "id": "5729314b",
   "metadata": {},
   "source": [
    "*Комментарий* Вывела среднее количество дней взаимодействия пользователей в период с 1 по 7 декабря 2008 года."
   ]
  },
  {
   "cell_type": "markdown",
   "id": "4773c8b1",
   "metadata": {},
   "source": [
    "### Найдем на сколько процентов менялось количество постов ежемесячно с 1 сентября по 31 декабря 2008 года.\n",
    "\n",
    "Отобразим таблицу со следующими полями:\n",
    "\n",
    "    Номер месяца.\n",
    "    Количество постов за месяц.\n",
    "    Процент, который показывает, насколько изменилось количество постов в текущем месяце по сравнению с предыдущим.\n",
    "    \n",
    "    \n",
    "Если постов стало меньше, значение процента будет отрицательным, если больше — положительным. Округлим значение процента до двух знаков после запятой.\n"
   ]
  },
  {
   "cell_type": "code",
   "execution_count": null,
   "id": "d3dbaf9f",
   "metadata": {},
   "outputs": [],
   "source": [
    "'''\n",
    "WITH cnt_m AS \n",
    "(SELECT EXTRACT(MONTH FROM creation_date) AS month,\n",
    "       COUNT(id) AS count\n",
    "FROM stackoverflow.posts\n",
    "WHERE creation_date::date BETWEEN '2008-09-01' AND '2008-12-31'\n",
    "GROUP BY month\n",
    "ORDER BY month)\n",
    "SELECT month,\n",
    "       count,\n",
    "       ROUND((count::numeric / LAG(count) OVER (ORDER BY month) -1) * 100, 2)\n",
    "FROM cnt_m;\n",
    "'''"
   ]
  },
  {
   "cell_type": "markdown",
   "id": "f085cbb5",
   "metadata": {},
   "source": [
    "|month|\tcount|\tround|\n",
    "|-----|------|-------|\n",
    "|9\t|70371\t| |\n",
    "|10\t|63102\t|-10.33|\n",
    "|11\t|46975\t|-25.56|\n",
    "|12\t|44592\t|-5.07|"
   ]
  },
  {
   "cell_type": "markdown",
   "id": "1323f83a",
   "metadata": {},
   "source": [
    "*Комментарий* Нашла процент изменеия количества постов с 1 сентября по 31 декабря 2008 года."
   ]
  },
  {
   "cell_type": "markdown",
   "id": "a9e26ca0",
   "metadata": {},
   "source": [
    "### Найдем пользователя, который опубликовал больше всего постов за всё время с момента регистрации.\n",
    "\n",
    "Выведем данные его активности за октябрь 2008 года в таком виде:\n",
    "\n",
    "    номер недели;\n",
    "    дата и время последнего поста, опубликованного на этой неделе."
   ]
  },
  {
   "cell_type": "code",
   "execution_count": null,
   "id": "d6e3a54f",
   "metadata": {},
   "outputs": [],
   "source": [
    "'''\n",
    "WITH u_cnt AS \n",
    "          (SELECT user_id,\n",
    "                  COUNT(DISTINCT(id)) AS cnt\n",
    "           FROM stackoverflow.posts\n",
    "           GROUP BY user_id\n",
    "           ORDER BY cnt DESC\n",
    "           LIMIT 1),\n",
    "p_dt AS\n",
    "        (SELECT p.user_id,\n",
    "                EXTRACT('week' FROM p.creation_date) AS week_d,\n",
    "                p.creation_date\n",
    "         FROM stackoverflow.posts p\n",
    "         JOIN u_cnt u ON p.user_id=u.user_id\n",
    "         WHERE p.creation_date::date BETWEEN '2008-10-01' AND '2008-10-31')\n",
    "SELECT DISTINCT week_d::numeric,\n",
    "       MAX(creation_date) OVER(PARTITION BY week_d)\n",
    "FROM p_dt\n",
    "ORDER BY week_d;\n",
    "'''"
   ]
  },
  {
   "cell_type": "markdown",
   "id": "ac24da00",
   "metadata": {},
   "source": [
    "|week_d|\tmax|\n",
    "|------|-------|\n",
    "|40|\t2008-10-05 09:00:58|\n",
    "|41|\t2008-10-12 21:22:23|\n",
    "|42|\t2008-10-19 06:49:30|\n",
    "|43|\t2008-10-26 21:44:36|\n",
    "|44|\t2008-10-31 22:16:01|"
   ]
  },
  {
   "cell_type": "markdown",
   "id": "7619a0b4",
   "metadata": {},
   "source": [
    "*Комментарий* Нашла пользователя опубликовавшего больше польстов с момента регистрации."
   ]
  }
 ],
 "metadata": {
  "kernelspec": {
   "display_name": "Python 3 (ipykernel)",
   "language": "python",
   "name": "python3"
  },
  "language_info": {
   "codemirror_mode": {
    "name": "ipython",
    "version": 3
   },
   "file_extension": ".py",
   "mimetype": "text/x-python",
   "name": "python",
   "nbconvert_exporter": "python",
   "pygments_lexer": "ipython3",
   "version": "3.11.3"
  },
  "toc": {
   "base_numbering": 1,
   "nav_menu": {},
   "number_sections": true,
   "sideBar": true,
   "skip_h1_title": true,
   "title_cell": "Table of Contents",
   "title_sidebar": "Contents",
   "toc_cell": true,
   "toc_position": {},
   "toc_section_display": true,
   "toc_window_display": false
  }
 },
 "nbformat": 4,
 "nbformat_minor": 5
}
